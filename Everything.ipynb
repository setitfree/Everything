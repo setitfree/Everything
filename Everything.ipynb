{
  "nbformat": 4,
  "nbformat_minor": 0,
  "metadata": {
    "colab": {
      "name": "Everything.ipynb",
      "provenance": [],
      "collapsed_sections": [],
      "authorship_tag": "ABX9TyPNhFogWgW80vJQzeY7dfhp",
      "include_colab_link": true
    },
    "kernelspec": {
      "display_name": "Python 3",
      "name": "python3"
    }
  },
  "cells": [
    {
      "cell_type": "markdown",
      "metadata": {
        "id": "view-in-github",
        "colab_type": "text"
      },
      "source": [
        "<a href=\"https://colab.research.google.com/github/setitfree/Everything/blob/main/Everything.ipynb\" target=\"_parent\"><img src=\"https://colab.research.google.com/assets/colab-badge.svg\" alt=\"Open In Colab\"/></a>"
      ]
    },
    {
      "cell_type": "markdown",
      "metadata": {
        "id": "S8_1oA9kZcUB"
      },
      "source": [
        "#LAB 0\n"
      ]
    },
    {
      "cell_type": "code",
      "metadata": {
        "colab": {
          "base_uri": "https://localhost:8080/"
        },
        "id": "4xanGmEooRwe",
        "outputId": "da825530-3e7f-42d3-e718-e54f8542c0b2"
      },
      "source": [
        "range(50)"
      ],
      "execution_count": null,
      "outputs": [
        {
          "output_type": "execute_result",
          "data": {
            "text/plain": [
              "range(0, 50)"
            ]
          },
          "metadata": {
            "tags": []
          },
          "execution_count": 19
        }
      ]
    },
    {
      "cell_type": "code",
      "metadata": {
        "colab": {
          "base_uri": "https://localhost:8080/"
        },
        "id": "NQ56lV_CoRtI",
        "outputId": "81c753bc-a6f7-4d65-f474-ce61f5096990"
      },
      "source": [
        "list(range(50))"
      ],
      "execution_count": null,
      "outputs": [
        {
          "output_type": "stream",
          "text": [
            "[0, 1, 2, 3, 4, 5, 6, 7, 8, 9, 10, 11, 12, 13, 14, 15, 16, 17, 18, 19, 20, 21, 22, 23, 24, 25, 26, 27, 28, 29, 30, 31, 32, 33, 34, 35, 36, 37, 38, 39, 40, 41, 42, 43, 44, 45, 46, 47, 48, 49]\n",
            "\n"
          ],
          "name": "stdout"
        }
      ]
    },
    {
      "cell_type": "code",
      "metadata": {
        "colab": {
          "base_uri": "https://localhost:8080/"
        },
        "id": "OmBk_F0BoX1b",
        "outputId": "7fbb926e-a73f-4099-9fab-0a809b34ce31"
      },
      "source": [
        "enumerate(range(50)) ## enumerate a pregnant object"
      ],
      "execution_count": null,
      "outputs": [
        {
          "output_type": "execute_result",
          "data": {
            "text/plain": [
              "<enumerate at 0x7fda2dcd26c0>"
            ]
          },
          "metadata": {
            "tags": []
          },
          "execution_count": 11
        }
      ]
    },
    {
      "cell_type": "code",
      "metadata": {
        "colab": {
          "base_uri": "https://localhost:8080/",
          "height": 162
        },
        "id": "liSJXJqpoXxu",
        "outputId": "fd8f87ec-522d-4900-8d04-a1c4babacaca"
      },
      "source": [
        "list(enumerate(50))"
      ],
      "execution_count": null,
      "outputs": [
        {
          "output_type": "error",
          "ename": "TypeError",
          "evalue": "ignored",
          "traceback": [
            "\u001b[0;31m---------------------------------------------------------------------------\u001b[0m",
            "\u001b[0;31mTypeError\u001b[0m                                 Traceback (most recent call last)",
            "\u001b[0;32m<ipython-input-12-1b95e353b06b>\u001b[0m in \u001b[0;36m<module>\u001b[0;34m()\u001b[0m\n\u001b[0;32m----> 1\u001b[0;31m \u001b[0mlist\u001b[0m\u001b[0;34m(\u001b[0m\u001b[0menumerate\u001b[0m\u001b[0;34m(\u001b[0m\u001b[0;36m50\u001b[0m\u001b[0;34m)\u001b[0m\u001b[0;34m)\u001b[0m\u001b[0;34m\u001b[0m\u001b[0;34m\u001b[0m\u001b[0m\n\u001b[0m",
            "\u001b[0;31mTypeError\u001b[0m: 'int' object is not iterable"
          ]
        }
      ]
    },
    {
      "cell_type": "code",
      "metadata": {
        "colab": {
          "base_uri": "https://localhost:8080/"
        },
        "id": "XDPGKKZHkymu",
        "outputId": "8e9b1ecc-830d-41f2-dfa4-9ebdb73ecb8a"
      },
      "source": [
        "#enumerate behaves just like range, like a pregnant pbject\n",
        "\n",
        "import string\n",
        "list(enumerate(string.ascii_lowercase))"
      ],
      "execution_count": null,
      "outputs": [
        {
          "output_type": "execute_result",
          "data": {
            "text/plain": [
              "[(0, 'a'),\n",
              " (1, 'b'),\n",
              " (2, 'c'),\n",
              " (3, 'd'),\n",
              " (4, 'e'),\n",
              " (5, 'f'),\n",
              " (6, 'g'),\n",
              " (7, 'h'),\n",
              " (8, 'i'),\n",
              " (9, 'j'),\n",
              " (10, 'k'),\n",
              " (11, 'l'),\n",
              " (12, 'm'),\n",
              " (13, 'n'),\n",
              " (14, 'o'),\n",
              " (15, 'p'),\n",
              " (16, 'q'),\n",
              " (17, 'r'),\n",
              " (18, 's'),\n",
              " (19, 't'),\n",
              " (20, 'u'),\n",
              " (21, 'v'),\n",
              " (22, 'w'),\n",
              " (23, 'x'),\n",
              " (24, 'y'),\n",
              " (25, 'z')]"
            ]
          },
          "metadata": {
            "tags": []
          },
          "execution_count": 7
        }
      ]
    },
    {
      "cell_type": "code",
      "metadata": {
        "colab": {
          "base_uri": "https://localhost:8080/"
        },
        "id": "OuGK9YRQkykG",
        "outputId": "13440561-1a00-4851-b5a8-277103afa764"
      },
      "source": [
        "## same as above using zip function\n",
        "\n",
        "import string\n",
        "def my_enumerate(mylist):\n",
        "  l = len(mylist)\n",
        "  return zip(range(l), mylist)\n",
        "   \n",
        "list(my_enumerate(string.ascii_lowercase))"
      ],
      "execution_count": null,
      "outputs": [
        {
          "output_type": "execute_result",
          "data": {
            "text/plain": [
              "[(0, 'a'),\n",
              " (1, 'b'),\n",
              " (2, 'c'),\n",
              " (3, 'd'),\n",
              " (4, 'e'),\n",
              " (5, 'f'),\n",
              " (6, 'g'),\n",
              " (7, 'h'),\n",
              " (8, 'i'),\n",
              " (9, 'j'),\n",
              " (10, 'k'),\n",
              " (11, 'l'),\n",
              " (12, 'm'),\n",
              " (13, 'n'),\n",
              " (14, 'o'),\n",
              " (15, 'p'),\n",
              " (16, 'q'),\n",
              " (17, 'r'),\n",
              " (18, 's'),\n",
              " (19, 't'),\n",
              " (20, 'u'),\n",
              " (21, 'v'),\n",
              " (22, 'w'),\n",
              " (23, 'x'),\n",
              " (24, 'y'),\n",
              " (25, 'z')]"
            ]
          },
          "metadata": {
            "tags": []
          },
          "execution_count": 26
        }
      ]
    },
    {
      "cell_type": "code",
      "metadata": {
        "id": "5Ni4oSgZmCdd"
      },
      "source": [
        ""
      ],
      "execution_count": null,
      "outputs": []
    },
    {
      "cell_type": "code",
      "metadata": {
        "id": "k0bSM9fimCZT",
        "colab": {
          "base_uri": "https://localhost:8080/"
        },
        "outputId": "3c8fd5a4-f16e-46cb-dbd3-29093c410468"
      },
      "source": [
        "## same as above\n",
        "\n",
        "list1 = []\n",
        "a = ord('a')\n",
        "b = ord('z')\n",
        "for c in range(a, b+1):\n",
        "  list1.append(chr(c))\n",
        "list2 = [i for i in range(0,25)]\n",
        "\n",
        "for i, j in zip(list1, list2):\n",
        "  print(i, j)"
      ],
      "execution_count": 1,
      "outputs": [
        {
          "output_type": "stream",
          "text": [
            "a 0\n",
            "b 1\n",
            "c 2\n",
            "d 3\n",
            "e 4\n",
            "f 5\n",
            "g 6\n",
            "h 7\n",
            "i 8\n",
            "j 9\n",
            "k 10\n",
            "l 11\n",
            "m 12\n",
            "n 13\n",
            "o 14\n",
            "p 15\n",
            "q 16\n",
            "r 17\n",
            "s 18\n",
            "t 19\n",
            "u 20\n",
            "v 21\n",
            "w 22\n",
            "x 23\n",
            "y 24\n"
          ],
          "name": "stdout"
        }
      ]
    },
    {
      "cell_type": "code",
      "metadata": {
        "id": "XGDzGBN0mCVh"
      },
      "source": [
        ""
      ],
      "execution_count": null,
      "outputs": []
    },
    {
      "cell_type": "code",
      "metadata": {
        "id": "krgMlDXmkyeS"
      },
      "source": [
        "## to get the number of lower , upper, figits, punctuation.\n",
        "\n",
        "import string\n",
        "my_string = \"HelloWorld,123,ThisIsUniv.Ai\"\n",
        "def counter(allowed, inpstr):\n",
        "  count = 0\n",
        "  for c in inpstr:\n",
        "    if c in allowed:\n",
        "      count+=1\n",
        "  return count\n",
        "counter(string.ascii_lowercase, my_string), counter(string.ascii_uppercase, my_string), counter(string.digits, my_string),counter(string.punctuation, my_string)"
      ],
      "execution_count": null,
      "outputs": []
    },
    {
      "cell_type": "code",
      "metadata": {
        "id": "DIrUl2djkybK"
      },
      "source": [
        "!wget https://raw.githubusercontent.com/setitfree/BasicPython/main/data/Julius%20Caesar.txt"
      ],
      "execution_count": null,
      "outputs": []
    },
    {
      "cell_type": "code",
      "metadata": {
        "colab": {
          "base_uri": "https://localhost:8080/"
        },
        "id": "7HQm7hOkkt9z",
        "outputId": "2153a194-c38b-4596-a59d-5641303c6a69"
      },
      "source": [
        "## open the file , reads the file, add it to word list and peint upto 1000 words \n",
        "\n",
        "wordlist =[]\n",
        "fd = open('Julius Caesar.txt')\n",
        "for line in fd:  ## reaf the file ## could have also used fd.readlines() ## both can't be used together\n",
        "  strips = line.strip()\n",
        "  cleaned = strips.split()\n",
        "  wordlist += cleaned\n",
        "print(wordlist[:1000])\n"
      ],
      "execution_count": null,
      "outputs": [
        {
          "output_type": "stream",
          "text": [
            "['THE', 'TRAGEDY', 'OF', 'JULIUS', 'CAESAR', 'by', 'William', 'Shakespeare', 'Contents', 'ACT', 'I', 'Scene', 'I.', 'Rome.', 'A', 'street.', 'Scene', 'II.', 'The', 'same.', 'A', 'public', 'place.', 'Scene', 'III.', 'The', 'same.', 'A', 'street.', 'ACT', 'II', 'Scene', 'I.', 'Rome.', 'Brutusâ€™', 'orchard.', 'Scene', 'II.', 'A', 'room', 'in', 'Caesarâ€™s', 'palace.', 'Scene', 'III.', 'A', 'street', 'near', 'the', 'Capitol.', 'Scene', 'IV.', 'Another', 'part', 'of', 'the', 'same', 'street,', 'before', 'the', 'house', 'of', 'Brutus.', 'ACT', 'III', 'Scene', 'I.', 'Rome.', 'Before', 'the', 'Capitol;', 'the', 'Senate', 'sitting.', 'Scene', 'II.', 'The', 'same.', 'The', 'Forum.', 'Scene', 'III.', 'The', 'same.', 'A', 'street.', 'ACT', 'IV', 'Scene', 'I.', 'A', 'room', 'in', 'Antonyâ€™s', 'house.', 'Scene', 'II.', 'Before', 'Brutusâ€™', 'tent,', 'in', 'the', 'camp', 'near', 'Sardis.', 'Scene', 'III.', 'Within', 'the', 'tent', 'of', 'Brutus.', 'ACT', 'V', 'Scene', 'I.', 'The', 'plains', 'of', 'Philippi.', 'Scene', 'II.', 'The', 'same.', 'The', 'field', 'of', 'battle.', 'Scene', 'III.', 'Another', 'part', 'of', 'the', 'field.', 'Scene', 'IV.', 'Another', 'part', 'of', 'the', 'field.', 'Scene', 'V.', 'Another', 'part', 'of', 'the', 'field.', 'Dramatis', 'PersonÃ¦', 'JULIUS', 'CAESAR', 'OCTAVIUS', 'CAESAR,', 'Triumvir', 'after', 'his', 'death.', 'MARCUS', 'ANTONIUS,', 'â€\\x9d', 'â€\\x9d', 'â€\\x9d', 'M.', 'AEMILIUS', 'LEPIDUS,', 'â€\\x9d', 'â€\\x9d', 'â€\\x9d', 'CICERO,', 'PUBLIUS,', 'POPILIUS', 'LENA,', 'Senators.', 'MARCUS', 'BRUTUS,', 'Conspirator', 'against', 'Caesar.', 'CASSIUS,', 'â€\\x9d', 'â€\\x9d', 'â€\\x9d', 'CASCA,', 'â€\\x9d', 'â€\\x9d', 'â€\\x9d', 'TREBONIUS,', 'â€\\x9d', 'â€\\x9d', 'â€\\x9d', 'LIGARIUS,â€\\x9d', 'â€\\x9d', 'â€\\x9d', 'DECIUS', 'BRUTUS,', 'â€\\x9d', 'â€\\x9d', 'â€\\x9d', 'METELLUS', 'CIMBER,', 'â€\\x9d', 'â€\\x9d', 'â€\\x9d', 'CINNA,', 'â€\\x9d', 'â€\\x9d', 'â€\\x9d', 'FLAVIUS,', 'tribune', 'MARULLUS,', 'tribune', 'ARTEMIDORUS,', 'a', 'Sophist', 'of', 'Cnidos.', 'A', 'Soothsayer', 'CINNA,', 'a', 'poet.', 'Another', 'Poet.', 'LUCILIUS,', 'TITINIUS,', 'MESSALA,', 'young', 'CATO,', 'and', 'VOLUMNIUS,', 'Friends', 'to', 'Brutus', 'and', 'Cassius.', 'VARRO,', 'CLITUS,', 'CLAUDIUS,', 'STRATO,', 'LUCIUS,', 'DARDANIUS,', 'Servants', 'to', 'Brutus', 'PINDARUS,', 'Servant', 'to', 'Cassius', 'CALPHURNIA,', 'wife', 'to', 'Caesar', 'PORTIA,', 'wife', 'to', 'Brutus', 'The', 'Ghost', 'of', 'Caesar', 'Senators,', 'Citizens,', 'Soldiers,', 'Commoners,', 'Messengers,', 'and', 'Servants.', 'SCENE:', 'Rome,', 'the', 'conspiratorsâ€™', 'camp', 'near', 'Sardis,', 'and', 'the', 'plains', 'of', 'Philippi.', 'ACT', 'I', 'SCENE', 'I.', 'Rome.', 'A', 'street.', 'Enter', 'Flavius,', 'Marullus', 'and', 'a', 'throng', 'of', 'Citizens.', 'FLAVIUS.', 'Hence!', 'home,', 'you', 'idle', 'creatures,', 'get', 'you', 'home.', 'Is', 'this', 'a', 'holiday?', 'What,', 'know', 'you', 'not,', 'Being', 'mechanical,', 'you', 'ought', 'not', 'walk', 'Upon', 'a', 'labouring', 'day', 'without', 'the', 'sign', 'Of', 'your', 'profession?', 'Speak,', 'what', 'trade', 'art', 'thou?', 'CARPENTER.', 'Why,', 'sir,', 'a', 'carpenter.', 'MARULLUS.', 'Where', 'is', 'thy', 'leather', 'apron', 'and', 'thy', 'rule?', 'What', 'dost', 'thou', 'with', 'thy', 'best', 'apparel', 'on?', 'You,', 'sir,', 'what', 'trade', 'are', 'you?', 'COBBLER.', 'Truly,', 'sir,', 'in', 'respect', 'of', 'a', 'fine', 'workman,', 'I', 'am', 'but,', 'as', 'you', 'would', 'say,', 'a', 'cobbler.', 'MARULLUS.', 'But', 'what', 'trade', 'art', 'thou?', 'Answer', 'me', 'directly.', 'COBBLER.', 'A', 'trade,', 'sir,', 'that', 'I', 'hope', 'I', 'may', 'use', 'with', 'a', 'safe', 'conscience,', 'which', 'is', 'indeed,', 'sir,', 'a', 'mender', 'of', 'bad', 'soles.', 'MARULLUS.', 'What', 'trade,', 'thou', 'knave?', 'Thou', 'naughty', 'knave,', 'what', 'trade?', 'COBBLER.', 'Nay,', 'I', 'beseech', 'you,', 'sir,', 'be', 'not', 'out', 'with', 'me;', 'yet,', 'if', 'you', 'be', 'out,', 'sir,', 'I', 'can', 'mend', 'you.', 'MARULLUS.', 'What', 'meanâ€™st', 'thou', 'by', 'that?', 'Mend', 'me,', 'thou', 'saucy', 'fellow!', 'COBBLER.', 'Why,', 'sir,', 'cobble', 'you.', 'FLAVIUS.', 'Thou', 'art', 'a', 'cobbler,', 'art', 'thou?', 'COBBLER.', 'Truly,', 'sir,', 'all', 'that', 'I', 'live', 'by', 'is', 'with', 'the', 'awl;', 'I', 'meddle', 'with', 'no', 'tradesmanâ€™s', 'matters,', 'nor', 'womenâ€™s', 'matters,', 'but', 'withal', 'I', 'am', 'indeed,', 'sir,', 'a', 'surgeon', 'to', 'old', 'shoes:', 'when', 'they', 'are', 'in', 'great', 'danger,', 'I', 'recover', 'them.', 'As', 'proper', 'men', 'as', 'ever', 'trod', 'upon', 'neatâ€™s', 'leather', 'have', 'gone', 'upon', 'my', 'handiwork.', 'FLAVIUS.', 'But', 'wherefore', 'art', 'not', 'in', 'thy', 'shop', 'today?', 'Why', 'dost', 'thou', 'lead', 'these', 'men', 'about', 'the', 'streets?', 'COBBLER.', 'Truly,', 'sir,', 'to', 'wear', 'out', 'their', 'shoes,', 'to', 'get', 'myself', 'into', 'more', 'work.', 'But', 'indeed,', 'sir,', 'we', 'make', 'holiday', 'to', 'see', 'Caesar,', 'and', 'to', 'rejoice', 'in', 'his', 'triumph.', 'MARULLUS.', 'Wherefore', 'rejoice?', 'What', 'conquest', 'brings', 'he', 'home?', 'What', 'tributaries', 'follow', 'him', 'to', 'Rome,', 'To', 'grace', 'in', 'captive', 'bonds', 'his', 'chariot', 'wheels?', 'You', 'blocks,', 'you', 'stones,', 'you', 'worse', 'than', 'senseless', 'things!', 'O', 'you', 'hard', 'hearts,', 'you', 'cruel', 'men', 'of', 'Rome,', 'Knew', 'you', 'not', 'Pompey?', 'Many', 'a', 'time', 'and', 'oft', 'Have', 'you', 'climbâ€™d', 'up', 'to', 'walls', 'and', 'battlements,', 'To', 'towers', 'and', 'windows,', 'yea,', 'to', 'chimney', 'tops,', 'Your', 'infants', 'in', 'your', 'arms,', 'and', 'there', 'have', 'sat', 'The', 'livelong', 'day', 'with', 'patient', 'expectation,', 'To', 'see', 'great', 'Pompey', 'pass', 'the', 'streets', 'of', 'Rome.', 'And', 'when', 'you', 'saw', 'his', 'chariot', 'but', 'appear,', 'Have', 'you', 'not', 'made', 'an', 'universal', 'shout,', 'That', 'Tiber', 'trembled', 'underneath', 'her', 'banks', 'To', 'hear', 'the', 'replication', 'of', 'your', 'sounds', 'Made', 'in', 'her', 'concave', 'shores?', 'And', 'do', 'you', 'now', 'put', 'on', 'your', 'best', 'attire?', 'And', 'do', 'you', 'now', 'cull', 'out', 'a', 'holiday?', 'And', 'do', 'you', 'now', 'strew', 'flowers', 'in', 'his', 'way,', 'That', 'comes', 'in', 'triumph', 'over', 'Pompeyâ€™s', 'blood?', 'Be', 'gone!', 'Run', 'to', 'your', 'houses,', 'fall', 'upon', 'your', 'knees,', 'Pray', 'to', 'the', 'gods', 'to', 'intermit', 'the', 'plague', 'That', 'needs', 'must', 'light', 'on', 'this', 'ingratitude.', 'FLAVIUS.', 'Go,', 'go,', 'good', 'countrymen,', 'and,', 'for', 'this', 'fault', 'Assemble', 'all', 'the', 'poor', 'men', 'of', 'your', 'sort,', 'Draw', 'them', 'to', 'Tiber', 'banks,', 'and', 'weep', 'your', 'tears', 'Into', 'the', 'channel,', 'till', 'the', 'lowest', 'stream', 'Do', 'kiss', 'the', 'most', 'exalted', 'shores', 'of', 'all.', '[_Exeunt', 'Citizens._]', 'See', 'whether', 'their', 'basest', 'metal', 'be', 'not', 'movâ€™d;', 'They', 'vanish', 'tongue-tied', 'in', 'their', 'guiltiness.', 'Go', 'you', 'down', 'that', 'way', 'towards', 'the', 'Capitol;', 'This', 'way', 'will', 'I.', 'Disrobe', 'the', 'images,', 'If', 'you', 'do', 'find', 'them', 'deckâ€™d', 'with', 'ceremonies.', 'MARULLUS.', 'May', 'we', 'do', 'so?', 'You', 'know', 'it', 'is', 'the', 'feast', 'of', 'Lupercal.', 'FLAVIUS.', 'It', 'is', 'no', 'matter;', 'let', 'no', 'images', 'Be', 'hung', 'with', 'Caesarâ€™s', 'trophies.', 'Iâ€™ll', 'about', 'And', 'drive', 'away', 'the', 'vulgar', 'from', 'the', 'streets;', 'So', 'do', 'you', 'too,', 'where', 'you', 'perceive', 'them', 'thick.', 'These', 'growing', 'feathers', 'pluckâ€™d', 'from', 'Caesarâ€™s', 'wing', 'Will', 'make', 'him', 'fly', 'an', 'ordinary', 'pitch,', 'Who', 'else', 'would', 'soar', 'above', 'the', 'view', 'of', 'men,', 'And', 'keep', 'us', 'all', 'in', 'servile', 'fearfulness.', '[_Exeunt._]', 'SCENE', 'II.', 'The', 'same.', 'A', 'public', 'place.', 'Enter,', 'in', 'procession,', 'with', 'music,', 'Caesar;', 'Antony,', 'for', 'the', 'course;', 'Calphurnia,', 'Portia,', 'Decius,', 'Cicero,', 'Brutus,', 'Cassius', 'and', 'Casca;', 'a', 'great', 'crowd', 'following,', 'among', 'them', 'a', 'Soothsayer.', 'CAESAR.', 'Calphurnia.', 'CASCA.', 'Peace,', 'ho!', 'Caesar', 'speaks.', '[_Music', 'ceases._]', 'CAESAR.', 'Calphurnia.', 'CALPHURNIA.', 'Here,', 'my', 'lord.', 'CAESAR.', 'Stand', 'you', 'directly', 'in', 'Antoniusâ€™', 'way,', 'When', 'he', 'doth', 'run', 'his', 'course.', 'Antonius.', 'ANTONY.', 'Caesar,', 'my', 'lord?', 'CAESAR.', 'Forget', 'not', 'in', 'your', 'speed,', 'Antonius,', 'To', 'touch', 'Calphurnia;', 'for', 'our', 'elders', 'say,', 'The', 'barren,', 'touched', 'in', 'this', 'holy', 'chase,', 'Shake', 'off', 'their', 'sterile', 'curse.', 'ANTONY.', 'I', 'shall', 'remember.']\n"
          ],
          "name": "stdout"
        }
      ]
    },
    {
      "cell_type": "code",
      "metadata": {
        "id": "9bW2kR4mrKI_"
      },
      "source": [
        "worddict = dict()\n",
        "fd = open('Julius Caesar.txt')\n",
        "for line in fd:  ## reaf the file ## could have also used fd.readlines() ## both can't be used together\n",
        "  strips = line.strip()\n",
        "  cleaned = strips.split()\n",
        "  count = 0\n",
        "  for words in cleaned:\n",
        "    if not words in worddict:\n",
        "      worddict[words] = 1\n",
        "    else:\n",
        "      worddict[words] += 1\n",
        "\n"
      ],
      "execution_count": null,
      "outputs": []
    },
    {
      "cell_type": "markdown",
      "metadata": {
        "id": "vnw4SWdyFMrd"
      },
      "source": [
        "##**Lecture 2** "
      ]
    },
    {
      "cell_type": "markdown",
      "metadata": {
        "id": "D_ZTZBAJ3JAf"
      },
      "source": [
        "  # Dictionary \n",
        "  "
      ]
    },
    {
      "cell_type": "code",
      "metadata": {
        "id": "PhStBuFQ6dMC",
        "colab": {
          "base_uri": "https://localhost:8080/"
        },
        "outputId": "66951e76-d3a6-4a64-836f-c66f0d87969e"
      },
      "source": [
        "d = dict(    ## Easiest way to form dictionary \n",
        "    name = \"ravi\",\n",
        "    age  = 23,\n",
        "    gender = \"male\",\n",
        ")\n",
        "d # or print(d)\n"
      ],
      "execution_count": null,
      "outputs": [
        {
          "output_type": "execute_result",
          "data": {
            "text/plain": [
              "{'age': 23, 'gender': 'male', 'name': 'ravi'}"
            ]
          },
          "metadata": {
            "tags": []
          },
          "execution_count": 33
        }
      ]
    },
    {
      "cell_type": "code",
      "metadata": {
        "id": "oNFXX9vR6dJj",
        "colab": {
          "base_uri": "https://localhost:8080/"
        },
        "outputId": "6d2d81d9-7dc3-4cd7-dfd3-c4470393221c"
      },
      "source": [
        "print(d['age']). ## Get a value"
      ],
      "execution_count": null,
      "outputs": [
        {
          "output_type": "stream",
          "text": [
            "23\n"
          ],
          "name": "stdout"
        }
      ]
    },
    {
      "cell_type": "code",
      "metadata": {
        "id": "FXqKMHIq6dGO"
      },
      "source": [
        "d['job'] = \"student\" ## Set a value , add to a dict"
      ],
      "execution_count": null,
      "outputs": []
    },
    {
      "cell_type": "code",
      "metadata": {
        "id": "aChDuxMK6dC9",
        "colab": {
          "base_uri": "https://localhost:8080/"
        },
        "outputId": "86d922a5-eca2-4072-9bd5-a3b4184aa055"
      },
      "source": [
        "d"
      ],
      "execution_count": null,
      "outputs": [
        {
          "output_type": "execute_result",
          "data": {
            "text/plain": [
              "{'age': 23, 'gender': 'male', 'job': 'student', 'name': 'ravi'}"
            ]
          },
          "metadata": {
            "tags": []
          },
          "execution_count": 14
        }
      ]
    },
    {
      "cell_type": "code",
      "metadata": {
        "id": "jhNbcRhN6c_k",
        "colab": {
          "base_uri": "https://localhost:8080/"
        },
        "outputId": "1bc30eb6-f74a-447b-dbd2-940a9e953e9b"
      },
      "source": [
        "d = dict(    ## Easiest way to form dictionary \n",
        "    name = \"ravi\",\n",
        "    age  = 23,\n",
        "    gender = \"male\",\n",
        ")\n",
        "for key in d.keys():   ## Iterate over keys\n",
        "  print(key, d[key])"
      ],
      "execution_count": null,
      "outputs": [
        {
          "output_type": "stream",
          "text": [
            "name ravi\n",
            "age 23\n",
            "gender male\n"
          ],
          "name": "stdout"
        }
      ]
    },
    {
      "cell_type": "code",
      "metadata": {
        "colab": {
          "base_uri": "https://localhost:8080/"
        },
        "id": "jRX1Kl5Z_kfP",
        "outputId": "3ff89c4d-2019-4827-aeef-de12e5871d77"
      },
      "source": [
        "for key, value in d.items():  ## Iterate of keys and value\n",
        "  print(key,value)"
      ],
      "execution_count": null,
      "outputs": [
        {
          "output_type": "stream",
          "text": [
            "name ravi\n",
            "age 23\n",
            "gender male\n"
          ],
          "name": "stdout"
        }
      ]
    },
    {
      "cell_type": "code",
      "metadata": {
        "colab": {
          "base_uri": "https://localhost:8080/"
        },
        "id": "5Q-VFSTQ_kdP",
        "outputId": "8e3c22a7-8ee2-4062-a6f9-de83a05513aa"
      },
      "source": [
        "D =dict([('name', 'alice'), ('age', 18)])   ## Another way of forming dict\n",
        "print(D)                                           ## Kind of enumerate Function "
      ],
      "execution_count": null,
      "outputs": [
        {
          "output_type": "stream",
          "text": [
            "{'name': 'alice', 'age': 18}\n"
          ],
          "name": "stdout"
        }
      ]
    },
    {
      "cell_type": "code",
      "metadata": {
        "colab": {
          "base_uri": "https://localhost:8080/"
        },
        "id": "kawKegEk_kba",
        "outputId": "49aa8592-f680-4f0c-ade8-22c463112b3a"
      },
      "source": [
        "D = dict.fromkeys(['name', 'age', 'place'])  ## Creating  dict from tuples\n",
        "print(D)  ## It only creates keys with value none"
      ],
      "execution_count": null,
      "outputs": [
        {
          "output_type": "stream",
          "text": [
            "{'name': None, 'age': None, 'place': None}\n"
          ],
          "name": "stdout"
        }
      ]
    },
    {
      "cell_type": "code",
      "metadata": {
        "colab": {
          "base_uri": "https://localhost:8080/"
        },
        "id": "n1S_-OkSHCFd",
        "outputId": "f98f8035-90c8-48bc-fb81-75cce5037ebc"
      },
      "source": [
        "D['name'] = 'alice'\n",
        "print(D)"
      ],
      "execution_count": null,
      "outputs": [
        {
          "output_type": "stream",
          "text": [
            "{'name': 'alice', 'age': None, 'place': None}\n"
          ],
          "name": "stdout"
        }
      ]
    },
    {
      "cell_type": "code",
      "metadata": {
        "colab": {
          "base_uri": "https://localhost:8080/"
        },
        "id": "YBeaNUHz_kan",
        "outputId": "28557f6b-cd01-429d-d40c-5c4ab7ad7e44"
      },
      "source": [
        "if not D['age']:  ## None value does not equates with true value\n",
        "  print(\"hii\")  ## only evaluates to false ( include \"not\" )"
      ],
      "execution_count": null,
      "outputs": [
        {
          "output_type": "stream",
          "text": [
            "hii\n"
          ],
          "name": "stdout"
        }
      ]
    },
    {
      "cell_type": "code",
      "metadata": {
        "colab": {
          "base_uri": "https://localhost:8080/"
        },
        "id": "zEzeDe0W_kEZ",
        "outputId": "e7100e80-e303-4f60-b741-6918b8ffcf0e"
      },
      "source": [
        "print(D['age'])\n",
        "'place' in D  ## To check if we have a particular key in our dict"
      ],
      "execution_count": null,
      "outputs": [
        {
          "output_type": "stream",
          "text": [
            "None\n"
          ],
          "name": "stdout"
        },
        {
          "output_type": "execute_result",
          "data": {
            "text/plain": [
              "True"
            ]
          },
          "metadata": {
            "tags": []
          },
          "execution_count": 61
        }
      ]
    },
    {
      "cell_type": "code",
      "metadata": {
        "colab": {
          "base_uri": "https://localhost:8080/"
        },
        "id": "Sj0GBqG8HkD8",
        "outputId": "a454ee0b-dd19-4eda-8493-909221f35a3f"
      },
      "source": [
        "for key in D.keys():  ## iterate over keys\n",
        "  print(key)"
      ],
      "execution_count": null,
      "outputs": [
        {
          "output_type": "stream",
          "text": [
            "name\n",
            "age\n",
            "place\n"
          ],
          "name": "stdout"
        }
      ]
    },
    {
      "cell_type": "code",
      "metadata": {
        "colab": {
          "base_uri": "https://localhost:8080/"
        },
        "id": "JL0wPH9U_j-R",
        "outputId": "b2c3168e-d5ff-462f-e28d-549e3fd27d77"
      },
      "source": [
        "for key in D.keys():  ## iterate over keys\n",
        "  print(key, D[key])"
      ],
      "execution_count": null,
      "outputs": [
        {
          "output_type": "stream",
          "text": [
            "name alice\n",
            "age None\n",
            "place None\n"
          ],
          "name": "stdout"
        }
      ]
    },
    {
      "cell_type": "code",
      "metadata": {
        "colab": {
          "base_uri": "https://localhost:8080/"
        },
        "id": "3YYbc8uj_j7k",
        "outputId": "55536cbb-9b64-4790-a260-3fc4c7a2e1b4"
      },
      "source": [
        "for key, value in D.items():   ## Iterate over keys and values\n",
        "  print(key, value)"
      ],
      "execution_count": null,
      "outputs": [
        {
          "output_type": "stream",
          "text": [
            "name alice\n",
            "age None\n",
            "place None\n"
          ],
          "name": "stdout"
        }
      ]
    },
    {
      "cell_type": "code",
      "metadata": {
        "id": "Gdama7WqjE3q",
        "colab": {
          "base_uri": "https://localhost:8080/"
        },
        "outputId": "c0ad0101-7b39-4936-90fe-1367822823e6"
      },
      "source": [
        "for value in D.values():  ## Iterate over values\n",
        "  print(value)"
      ],
      "execution_count": null,
      "outputs": [
        {
          "output_type": "stream",
          "text": [
            "alice\n",
            "None\n",
            "None\n"
          ],
          "name": "stdout"
        }
      ]
    },
    {
      "cell_type": "code",
      "metadata": {
        "colab": {
          "base_uri": "https://localhost:8080/"
        },
        "id": "chEqor3xIX8H",
        "outputId": "5d5893d7-55ff-436b-d9ca-564bd7466bb4"
      },
      "source": [
        "##  Using Dictionary comprehensions to create an output dictionary which contains only the odd numbers\n",
        "##  that are present in the input list as keys and their cubes as values\n",
        "\n",
        "lists = [1,2,3,4,5,6,7]\n",
        "dict_using_comp = {var : var ** 2 for var in lists if var % 2 != 0 }\n",
        "print(dict_using_comp)"
      ],
      "execution_count": null,
      "outputs": [
        {
          "output_type": "stream",
          "text": [
            "{1: 1, 3: 9, 5: 25, 7: 49}\n"
          ],
          "name": "stdout"
        }
      ]
    },
    {
      "cell_type": "code",
      "metadata": {
        "id": "Jo9BUZhyIkt5"
      },
      "source": [
        "#if key in dict:              ## if you already have that key then do something\n",
        " # dict[key].append(item)     ## with the value \n",
        "#else:\n",
        " # dict[key] = []             ## and if you dont have it, intialise it"
      ],
      "execution_count": null,
      "outputs": []
    },
    {
      "cell_type": "markdown",
      "metadata": {
        "id": "KdbwWRXW3B6E"
      },
      "source": [
        "  # Tuples \n",
        "  "
      ]
    },
    {
      "cell_type": "code",
      "metadata": {
        "colab": {
          "base_uri": "https://localhost:8080/",
          "height": 183
        },
        "id": "JwVbB6F5IkrF",
        "outputId": "06e30a95-5afc-4705-8af7-641a80433a72"
      },
      "source": [
        "t = () ## is immutable\n",
        "t[0] = 5 ## No use of creating an empty tuple since we cant add anything to it\n",
        "          ## But we can iterate over it"
      ],
      "execution_count": null,
      "outputs": [
        {
          "output_type": "error",
          "ename": "TypeError",
          "evalue": "ignored",
          "traceback": [
            "\u001b[0;31m---------------------------------------------------------------------------\u001b[0m",
            "\u001b[0;31mTypeError\u001b[0m                                 Traceback (most recent call last)",
            "\u001b[0;32m<ipython-input-4-5f696e93ae66>\u001b[0m in \u001b[0;36m<module>\u001b[0;34m()\u001b[0m\n\u001b[1;32m      1\u001b[0m \u001b[0mt\u001b[0m \u001b[0;34m=\u001b[0m \u001b[0;34m(\u001b[0m\u001b[0;34m)\u001b[0m\u001b[0;34m\u001b[0m\u001b[0;34m\u001b[0m\u001b[0m\n\u001b[0;32m----> 2\u001b[0;31m \u001b[0mt\u001b[0m\u001b[0;34m[\u001b[0m\u001b[0;36m0\u001b[0m\u001b[0;34m]\u001b[0m \u001b[0;34m=\u001b[0m \u001b[0;36m5\u001b[0m\u001b[0;34m\u001b[0m\u001b[0;34m\u001b[0m\u001b[0m\n\u001b[0m",
            "\u001b[0;31mTypeError\u001b[0m: 'tuple' object does not support item assignment"
          ]
        }
      ]
    },
    {
      "cell_type": "code",
      "metadata": {
        "colab": {
          "base_uri": "https://localhost:8080/"
        },
        "id": "SXQnnuvfIkiv",
        "outputId": "ec3b3092-002c-4701-f53f-5990a9890589"
      },
      "source": [
        "z = (1,2,3,4,5) ## To create a tuple\n",
        "z               ## Always prints as specified"
      ],
      "execution_count": null,
      "outputs": [
        {
          "output_type": "execute_result",
          "data": {
            "text/plain": [
              "(1, 2, 3, 4, 5)"
            ]
          },
          "metadata": {
            "tags": []
          },
          "execution_count": 5
        }
      ]
    },
    {
      "cell_type": "code",
      "metadata": {
        "colab": {
          "base_uri": "https://localhost:8080/"
        },
        "id": "vXBtYD4uIkgJ",
        "outputId": "97226abd-ab4a-4046-ee74-62aa9ffd0824"
      },
      "source": [
        "for i in z:   ## Iterate\n",
        "  print(i)"
      ],
      "execution_count": null,
      "outputs": [
        {
          "output_type": "stream",
          "text": [
            "1\n",
            "2\n",
            "3\n",
            "4\n",
            "5\n"
          ],
          "name": "stdout"
        }
      ]
    },
    {
      "cell_type": "code",
      "metadata": {
        "id": "9ZsURxZc4tqs"
      },
      "source": [
        ""
      ],
      "execution_count": null,
      "outputs": []
    },
    {
      "cell_type": "markdown",
      "metadata": {
        "id": "nQCVSR8M43no"
      },
      "source": [
        "# Class\n"
      ]
    },
    {
      "cell_type": "code",
      "metadata": {
        "id": "mLBOXRIj43Gu"
      },
      "source": [
        "class MyClass:  ## Create a class\n",
        "  pass"
      ],
      "execution_count": null,
      "outputs": []
    },
    {
      "cell_type": "code",
      "metadata": {
        "colab": {
          "base_uri": "https://localhost:8080/"
        },
        "id": "b1aSDgtP4um3",
        "outputId": "be73cab3-d94d-40dc-c8b1-73b856e51917"
      },
      "source": [
        "c = MyClass()  ## Create a class as if it is a function \n",
        "c"
      ],
      "execution_count": null,
      "outputs": [
        {
          "output_type": "execute_result",
          "data": {
            "text/plain": [
              "<__main__.MyClass at 0x7f5774341e48>"
            ]
          },
          "metadata": {
            "tags": []
          },
          "execution_count": 9
        }
      ]
    },
    {
      "cell_type": "code",
      "metadata": {
        "id": "dEE8iQEJ4ukN"
      },
      "source": [
        "c.learning_rate = 0.01\n",
        "\n",
        "\n",
        "# d = {} d['learning_rate'] = 0.01  ## another way of doing it using dict.\n",
        "## In other words class is a glorified dictonary. We can add keys when we want. \n",
        "## Here, \"learning_rate\" is instance variable\n",
        "## And \"c\" is instance of a class"
      ],
      "execution_count": null,
      "outputs": []
    },
    {
      "cell_type": "code",
      "metadata": {
        "colab": {
          "base_uri": "https://localhost:8080/"
        },
        "id": "-v-AHmC_4uhS",
        "outputId": "72173a33-4ecf-41c5-d13b-878912fb7cc1"
      },
      "source": [
        "p1 = MyClass()  ## How this works(creating a class as if it is a function)? See cell below\n",
        "p1.x = 5\n",
        "p1.x"
      ],
      "execution_count": null,
      "outputs": [
        {
          "output_type": "execute_result",
          "data": {
            "text/plain": [
              "5"
            ]
          },
          "metadata": {
            "tags": []
          },
          "execution_count": 12
        }
      ]
    },
    {
      "cell_type": "markdown",
      "metadata": {
        "id": "phH9naplF9qq"
      },
      "source": [
        " The self Parameter\n",
        "\n",
        "The self parameter is a reference to the current instance of the class, and is used to access variables that belongs to the class.\n",
        "\n",
        "It does not have to be named `self` (but this is a convention in all python code so stick to it), you can call it whatever you like, but it has to be the first parameter of any function in the class:"
      ]
    },
    {
      "cell_type": "code",
      "metadata": {
        "colab": {
          "base_uri": "https://localhost:8080/"
        },
        "id": "a2hUqfxm4ueM",
        "outputId": "e048eb99-773b-476c-bc61-3839a946e467"
      },
      "source": [
        "class person:     \n",
        "  def __init__(self, name, age):  \n",
        "    self.name = name              ## we always write like this: person.name, person.age to add a key\n",
        "    self.age = age                ## Now \"self\" denotes the \"person\" in person.name\n",
        "\n",
        "p = person('Ravi', 23)  ## Here we are using __init__ function to tell the class what it contains\n",
        "print(p.name)\n",
        "print(p.age)\n"
      ],
      "execution_count": null,
      "outputs": [
        {
          "output_type": "stream",
          "text": [
            "Ravi\n",
            "23\n"
          ],
          "name": "stdout"
        }
      ]
    },
    {
      "cell_type": "code",
      "metadata": {
        "id": "V6rskmhyH7qN"
      },
      "source": [
        ""
      ],
      "execution_count": null,
      "outputs": []
    },
    {
      "cell_type": "markdown",
      "metadata": {
        "id": "79DCTALaZnbl"
      },
      "source": [
        "#LAB 1\n"
      ]
    },
    {
      "cell_type": "markdown",
      "metadata": {
        "id": "_22Fhn5ut1wf"
      },
      "source": [
        "Define a class to check balance in bank account. If withdrawl is less than balance then it is fine but if withdrawl is more than balance then print 'withdrawl not allowed'\n"
      ]
    },
    {
      "cell_type": "code",
      "metadata": {
        "id": "qF-WKttQkvp5"
      },
      "source": [
        "class ECBankAccount:\n",
        "  def __init__(self, balance):\n",
        "    self.balance = balance\n",
        "  \n",
        "  def withdrawl(self, amount):\n",
        "    self.amount = amount\n",
        "    self.balance = self.balance - amount\n",
        "    if amount > self.balance:\n",
        "      print(\"Withdrawl not allowed\")\n",
        "    else:\n",
        "      print(\"Transaction complete\")\n",
        "      \n",
        "    "
      ],
      "execution_count": null,
      "outputs": []
    },
    {
      "cell_type": "code",
      "metadata": {
        "id": "F2j7rKVD4uUl",
        "colab": {
          "base_uri": "https://localhost:8080/"
        },
        "outputId": "7a411a13-8521-4bd8-891f-d1fa8f053291"
      },
      "source": [
        "x = ECBankAccount(100)\n",
        "print(x.balance)\n",
        "x.withdrawl(120)\n",
        "print(\"Balance left :\")\n",
        "print(x.balance)\n"
      ],
      "execution_count": null,
      "outputs": [
        {
          "output_type": "stream",
          "text": [
            "100\n",
            "Withdrawl not allowed\n",
            "Balance left :\n",
            "-20\n"
          ],
          "name": "stdout"
        }
      ]
    },
    {
      "cell_type": "code",
      "metadata": {
        "id": "krS0SXh1nYzt"
      },
      "source": [
        "class ECBankAccount:  ## same as above but it also raises a value error\n",
        "  def __init__(self, balance):\n",
        "    self.balance = balance\n",
        "  \n",
        "  def withdrawl(self, amount):\n",
        "    self.amount = amount\n",
        "    self.balance = self.balance - amount\n",
        "    if self.balance < 0:\n",
        "      print(self.balance)\n",
        "      raise ValueError(\"Withdrawl not allowed\")\n",
        "    \n",
        "    "
      ],
      "execution_count": null,
      "outputs": []
    },
    {
      "cell_type": "code",
      "metadata": {
        "id": "HvclAe7CnYxk",
        "colab": {
          "base_uri": "https://localhost:8080/"
        },
        "outputId": "a040be90-af2d-4e93-d0b5-2d8b5418b274"
      },
      "source": [
        "y = ECBankAccount(100)\n",
        "y.withdrawl(20)\n",
        "y.balance"
      ],
      "execution_count": null,
      "outputs": [
        {
          "output_type": "execute_result",
          "data": {
            "text/plain": [
              "80"
            ]
          },
          "metadata": {
            "tags": []
          },
          "execution_count": 66
        }
      ]
    },
    {
      "cell_type": "code",
      "metadata": {
        "id": "2G-fv7sEnYvL"
      },
      "source": [
        ""
      ],
      "execution_count": null,
      "outputs": []
    },
    {
      "cell_type": "code",
      "metadata": {
        "id": "XoX15ayFnYpO"
      },
      "source": [
        "\n"
      ],
      "execution_count": null,
      "outputs": []
    },
    {
      "cell_type": "code",
      "metadata": {
        "id": "7LzM_O5dnYYM"
      },
      "source": [
        ""
      ],
      "execution_count": null,
      "outputs": []
    },
    {
      "cell_type": "code",
      "metadata": {
        "id": "2-3LGtwHnYUD"
      },
      "source": [
        ""
      ],
      "execution_count": null,
      "outputs": []
    },
    {
      "cell_type": "code",
      "metadata": {
        "id": "R02WNng2nYQx"
      },
      "source": [
        ""
      ],
      "execution_count": null,
      "outputs": []
    },
    {
      "cell_type": "code",
      "metadata": {
        "id": "01ovLmSZlNv0"
      },
      "source": [
        ""
      ],
      "execution_count": null,
      "outputs": []
    }
  ]
}