{
  "nbformat": 4,
  "nbformat_minor": 0,
  "metadata": {
    "colab": {
      "name": "Copy of distribute_Lab1 surojit's.ipynb",
      "provenance": [],
      "include_colab_link": true
    },
    "kernelspec": {
      "display_name": "Python 3",
      "language": "python",
      "name": "python3"
    },
    "language_info": {
      "codemirror_mode": {
        "name": "ipython",
        "version": 3
      },
      "file_extension": ".py",
      "mimetype": "text/x-python",
      "name": "python",
      "nbconvert_exporter": "python",
      "pygments_lexer": "ipython3",
      "version": "3.7.6"
    },
    "widgets": {
      "application/vnd.jupyter.widget-state+json": {
        "b1c317907a804bcb9e2b7d77d7964d83": {
          "model_module": "@jupyter-widgets/controls",
          "model_name": "HBoxModel",
          "state": {
            "_view_name": "HBoxView",
            "_dom_classes": [],
            "_model_name": "HBoxModel",
            "_view_module": "@jupyter-widgets/controls",
            "_model_module_version": "1.5.0",
            "_view_count": null,
            "_view_module_version": "1.5.0",
            "box_style": "",
            "layout": "IPY_MODEL_91d63f44b0a146aa873399bf61accd80",
            "_model_module": "@jupyter-widgets/controls",
            "children": [
              "IPY_MODEL_f2b3eb59bbdb4229a4b8b6ee6fd9ff7b",
              "IPY_MODEL_15407401d8994591897615b82da66488"
            ]
          }
        },
        "91d63f44b0a146aa873399bf61accd80": {
          "model_module": "@jupyter-widgets/base",
          "model_name": "LayoutModel",
          "state": {
            "_view_name": "LayoutView",
            "grid_template_rows": null,
            "right": null,
            "justify_content": null,
            "_view_module": "@jupyter-widgets/base",
            "overflow": null,
            "_model_module_version": "1.2.0",
            "_view_count": null,
            "flex_flow": null,
            "width": null,
            "min_width": null,
            "border": null,
            "align_items": null,
            "bottom": null,
            "_model_module": "@jupyter-widgets/base",
            "top": null,
            "grid_column": null,
            "overflow_y": null,
            "overflow_x": null,
            "grid_auto_flow": null,
            "grid_area": null,
            "grid_template_columns": null,
            "flex": null,
            "_model_name": "LayoutModel",
            "justify_items": null,
            "grid_row": null,
            "max_height": null,
            "align_content": null,
            "visibility": null,
            "align_self": null,
            "height": null,
            "min_height": null,
            "padding": null,
            "grid_auto_rows": null,
            "grid_gap": null,
            "max_width": null,
            "order": null,
            "_view_module_version": "1.2.0",
            "grid_template_areas": null,
            "object_position": null,
            "object_fit": null,
            "grid_auto_columns": null,
            "margin": null,
            "display": null,
            "left": null
          }
        },
        "f2b3eb59bbdb4229a4b8b6ee6fd9ff7b": {
          "model_module": "@jupyter-widgets/controls",
          "model_name": "FloatProgressModel",
          "state": {
            "_view_name": "ProgressView",
            "style": "IPY_MODEL_1b3ae0fb24d74eea8f028b13eb3bbd5a",
            "_dom_classes": [],
            "description": "  0%",
            "_model_name": "FloatProgressModel",
            "bar_style": "danger",
            "max": 100,
            "_view_module": "@jupyter-widgets/controls",
            "_model_module_version": "1.5.0",
            "value": 0,
            "_view_count": null,
            "_view_module_version": "1.5.0",
            "orientation": "horizontal",
            "min": 0,
            "description_tooltip": null,
            "_model_module": "@jupyter-widgets/controls",
            "layout": "IPY_MODEL_141073fd34254e698f6b0b3524e666c6"
          }
        },
        "15407401d8994591897615b82da66488": {
          "model_module": "@jupyter-widgets/controls",
          "model_name": "HTMLModel",
          "state": {
            "_view_name": "HTMLView",
            "style": "IPY_MODEL_3112a47a48d54f8fa860d0ab710b0950",
            "_dom_classes": [],
            "description": "",
            "_model_name": "HTMLModel",
            "placeholder": "​",
            "_view_module": "@jupyter-widgets/controls",
            "_model_module_version": "1.5.0",
            "value": " 0/100 [00:00&lt;?, ?it/s]",
            "_view_count": null,
            "_view_module_version": "1.5.0",
            "description_tooltip": null,
            "_model_module": "@jupyter-widgets/controls",
            "layout": "IPY_MODEL_b6e70509db91452782adfcf6da5777e7"
          }
        },
        "1b3ae0fb24d74eea8f028b13eb3bbd5a": {
          "model_module": "@jupyter-widgets/controls",
          "model_name": "ProgressStyleModel",
          "state": {
            "_view_name": "StyleView",
            "_model_name": "ProgressStyleModel",
            "description_width": "initial",
            "_view_module": "@jupyter-widgets/base",
            "_model_module_version": "1.5.0",
            "_view_count": null,
            "_view_module_version": "1.2.0",
            "bar_color": null,
            "_model_module": "@jupyter-widgets/controls"
          }
        },
        "141073fd34254e698f6b0b3524e666c6": {
          "model_module": "@jupyter-widgets/base",
          "model_name": "LayoutModel",
          "state": {
            "_view_name": "LayoutView",
            "grid_template_rows": null,
            "right": null,
            "justify_content": null,
            "_view_module": "@jupyter-widgets/base",
            "overflow": null,
            "_model_module_version": "1.2.0",
            "_view_count": null,
            "flex_flow": null,
            "width": null,
            "min_width": null,
            "border": null,
            "align_items": null,
            "bottom": null,
            "_model_module": "@jupyter-widgets/base",
            "top": null,
            "grid_column": null,
            "overflow_y": null,
            "overflow_x": null,
            "grid_auto_flow": null,
            "grid_area": null,
            "grid_template_columns": null,
            "flex": null,
            "_model_name": "LayoutModel",
            "justify_items": null,
            "grid_row": null,
            "max_height": null,
            "align_content": null,
            "visibility": null,
            "align_self": null,
            "height": null,
            "min_height": null,
            "padding": null,
            "grid_auto_rows": null,
            "grid_gap": null,
            "max_width": null,
            "order": null,
            "_view_module_version": "1.2.0",
            "grid_template_areas": null,
            "object_position": null,
            "object_fit": null,
            "grid_auto_columns": null,
            "margin": null,
            "display": null,
            "left": null
          }
        },
        "3112a47a48d54f8fa860d0ab710b0950": {
          "model_module": "@jupyter-widgets/controls",
          "model_name": "DescriptionStyleModel",
          "state": {
            "_view_name": "StyleView",
            "_model_name": "DescriptionStyleModel",
            "description_width": "",
            "_view_module": "@jupyter-widgets/base",
            "_model_module_version": "1.5.0",
            "_view_count": null,
            "_view_module_version": "1.2.0",
            "_model_module": "@jupyter-widgets/controls"
          }
        },
        "b6e70509db91452782adfcf6da5777e7": {
          "model_module": "@jupyter-widgets/base",
          "model_name": "LayoutModel",
          "state": {
            "_view_name": "LayoutView",
            "grid_template_rows": null,
            "right": null,
            "justify_content": null,
            "_view_module": "@jupyter-widgets/base",
            "overflow": null,
            "_model_module_version": "1.2.0",
            "_view_count": null,
            "flex_flow": null,
            "width": null,
            "min_width": null,
            "border": null,
            "align_items": null,
            "bottom": null,
            "_model_module": "@jupyter-widgets/base",
            "top": null,
            "grid_column": null,
            "overflow_y": null,
            "overflow_x": null,
            "grid_auto_flow": null,
            "grid_area": null,
            "grid_template_columns": null,
            "flex": null,
            "_model_name": "LayoutModel",
            "justify_items": null,
            "grid_row": null,
            "max_height": null,
            "align_content": null,
            "visibility": null,
            "align_self": null,
            "height": null,
            "min_height": null,
            "padding": null,
            "grid_auto_rows": null,
            "grid_gap": null,
            "max_width": null,
            "order": null,
            "_view_module_version": "1.2.0",
            "grid_template_areas": null,
            "object_position": null,
            "object_fit": null,
            "grid_auto_columns": null,
            "margin": null,
            "display": null,
            "left": null
          }
        }
      }
    }
  },
  "cells": [
    {
      "cell_type": "markdown",
      "metadata": {
        "id": "view-in-github",
        "colab_type": "text"
      },
      "source": [
        "<a href=\"https://colab.research.google.com/github/setitfree/Everything/blob/main/Copy_of_distribute_Lab1_surojit's.ipynb\" target=\"_parent\"><img src=\"https://colab.research.google.com/assets/colab-badge.svg\" alt=\"Open In Colab\"/></a>"
      ]
    },
    {
      "cell_type": "markdown",
      "metadata": {
        "id": "nWHZlEbr_34A"
      },
      "source": [
        "## Lab 1: Goodreads Parsing and Scraping\r\n",
        "**Univ.AI** <br>\r\n",
        "**DS-1 Cohort 1**\r\n"
      ]
    },
    {
      "cell_type": "markdown",
      "metadata": {
        "id": "Hbv1-vIucRSk"
      },
      "source": [
        ""
      ]
    },
    {
      "cell_type": "markdown",
      "metadata": {
        "id": "0dcNwcwJsJhh"
      },
      "source": [
        "## Table of Contents\r\n",
        "* [Lab1: Goodreads Scraping and Parsing](#Lab1:-Goodreads-Scraping-and-Parsing)\r\n",
        "  * [Learning Goals](##Learning-Goals)\r\n",
        "  * [Q1: Scrape the \"Best Books ever\" web page](##Q1:-Scrape-the-\"Best-Books-ever\"-web-page)\r\n",
        "  * [Q2: Parse the page, extract book urls](##Q2:-Parse-the-page,-extract-book-urls)\r\n",
        "  * [Q3: Scrape the web page of each book](##Q3:-Scrape-the-web-page-of-each-book)\r\n",
        "  * [Q4: Parse each books page, extract information](##Q4:-Parse-each-books-page,-extract-information)\r\n",
        "    * [4.1 Extract genres](###4.1-Extract-Genres)\r\n",
        "    * [4.2 Extract Published Year](###4.2-Extract-Published-Year)\r\n",
        "    * [4.3 Extract Rating, ISBN, Title of the book, Author and Rating Count](###4.3-Extract-Rating,-ISBN,-Title-of-the-book,-Author-and-Rating-Count)\r\n",
        "    * [4.4 Creating a DataFrame](###4.4-Creating-a-DataFrame)\r\n"
      ]
    },
    {
      "cell_type": "markdown",
      "metadata": {
        "id": "Z3Tuwno9_367"
      },
      "source": [
        "## Learning Goals \n",
        "Goodreads has put out a list of the \"Best Books ever\", as voted on by around 200,000 people from the general Goodreads community. \n",
        "\n",
        "In this lab, we will be scraping and extracting information from Goodread's \"[Best Books ever](https://www.goodreads.com/list/show/1.Best_Books_Ever?page=1)\" list.\n",
        "\n",
        "This lab consists of four main parts:\n",
        "1. Scraping the \"Best Books ever\" web page\n",
        "2. Parsing the page, extract book urls\n",
        "3. Scraping the web page of each book\n",
        "4. Parsing a book page, extract book properties\n",
        "\n",
        "This lab will develop your skills in:\n",
        "* Exploring web pages through developer tools \n",
        "* Scraping and Parsing using Beautiful Soup and requests"
      ]
    },
    {
      "cell_type": "code",
      "metadata": {
        "id": "6PPYEYMj_37E"
      },
      "source": [
        "#Import libraries\n",
        "%matplotlib inline\n",
        "import numpy as np\n",
        "import matplotlib.pyplot as plt\n",
        "import pandas as pd\n",
        "import re\n",
        "import time, requests"
      ],
      "execution_count": null,
      "outputs": []
    },
    {
      "cell_type": "markdown",
      "metadata": {
        "id": "SxSM_hL__37K"
      },
      "source": [
        "## Q1: Scrape the  \"Best Books ever\" web page\n",
        "We're going to see the structure of Goodread's best books list. \n",
        "\n",
        "To get this page we use pythons [requests module](https://requests.readthedocs.io/en/master/). "
      ]
    },
    {
      "cell_type": "code",
      "metadata": {
        "id": "yfZ5KA5i_37O"
      },
      "source": [
        "#Getting the url using requests module\n",
        "URLSTART=\"https://www.goodreads.com\"\n",
        "BESTBOOKS=\"/list/show/1.Best_Books_Ever?page=\"\n",
        "url = URLSTART+BESTBOOKS+'1'\n",
        "page = requests.get(url)"
      ],
      "execution_count": null,
      "outputs": []
    },
    {
      "cell_type": "markdown",
      "metadata": {
        "id": "63XN7F7evAK5"
      },
      "source": [
        "Check the status of the page - 200 is OK and 404 is not good!"
      ]
    },
    {
      "cell_type": "code",
      "metadata": {
        "colab": {
          "base_uri": "https://localhost:8080/"
        },
        "id": "DayARHGc_37d",
        "outputId": "126a3704-2c40-4747-c515-2d2d48e94fb7"
      },
      "source": [
        "page.status_code"
      ],
      "execution_count": null,
      "outputs": [
        {
          "output_type": "execute_result",
          "data": {
            "text/plain": [
              "200"
            ]
          },
          "metadata": {
            "tags": []
          },
          "execution_count": 3
        }
      ]
    },
    {
      "cell_type": "markdown",
      "metadata": {
        "id": "iLc5msTFvIOt"
      },
      "source": [
        "Now that we are familiar with pythons request module, let us access the first two pages from Goodreads. \r\n",
        "\r\n",
        "This will mean you will need to scrape **two** URLs: https://www.goodreads.com/list/show/1.Best_Books_Ever?page=1 and  https://www.goodreads.com/list/show/1.Best_Books_Ever?page=2. \r\n",
        "\r\n",
        "<br>\r\n",
        "\r\n",
        "**Hint:** To do this, you can put your request.get() function in a `for` loop.<br>\r\n",
        "You will also need to use the time.sleep() function to wait for 1 second between the two get requests so that Goodread's doesn't think you are a threat attempting to mount a denial-of-service attack!<br>\r\n",
        "In addition to this, store the HTML text in a dictionary `page_dict`. The key should be the page number (1 or 2) and the value should be the HTML text corresponding the page."
      ]
    },
    {
      "cell_type": "code",
      "metadata": {
        "id": "CFAKLa5d_37i"
      },
      "source": [
        "#Loop to fetch 2 pages of \"best-books\" from goodreads. \n",
        "URLSTART=\"https://www.goodreads.com\"\n",
        "BESTBOOKS=\"/list/show/1.Best_Books_Ever?page=\"\n",
        "\n",
        "page_dict={}\n",
        "\n",
        "#your code here\n",
        "for i in range(1,3):\n",
        "  url = URLSTART+BESTBOOKS+str(i)\n",
        "  page = requests.get(url)\n",
        "  page_dict[i]=page\n",
        "  time.sleep(5)"
      ],
      "execution_count": null,
      "outputs": []
    },
    {
      "cell_type": "code",
      "metadata": {
        "id": "jNocbcoUOwfx"
      },
      "source": [
        ""
      ],
      "execution_count": null,
      "outputs": []
    },
    {
      "cell_type": "markdown",
      "metadata": {
        "id": "ghXGaY1s_37p"
      },
      "source": [
        "## Q2: Parse the page, extract book urls\n",
        "\n",
        "Our next step should be to parse the HTML text we have saved from the previous section and extract the information we need. \n",
        "\n",
        "To do this, we will be using BeautifulSoup to transform HTML content into Python data structures. You can also use other libraries like PyQuery if you are comfortable with jQuery, but we will be using BeautifulSoup.\n"
      ]
    },
    {
      "cell_type": "code",
      "metadata": {
        "id": "es2gh_EQ_37w"
      },
      "source": [
        "#Import BeautifulSoup\n",
        "from bs4 import BeautifulSoup"
      ],
      "execution_count": null,
      "outputs": []
    },
    {
      "cell_type": "markdown",
      "metadata": {
        "id": "YOeTQrYtxILB"
      },
      "source": [
        "Our aim is to extract the **book URLs** on the page in order to use it in further sections. \r\n",
        "\r\n",
        "To do this, we look for the elements with class bookTitle, extract the urls, and write them into a dictionary `urldict` where the keys are the page numbers and the values are a list of the book URLs extracted from the page.\r\n",
        "\r\n",
        "\r\n",
        "**Hint:** While parsing the HTML, look for the HTML a element, but only the one that has a CSS class of `bookTitle`. If you look at the page source, you'll see a construct like **`class=bookTitle`** on the table as seen below:\r\n",
        "<br><br>\r\n",
        "![goodreadsexample](https://drive.google.com/uc?export=view&id=1PUvIe7VkXFSkvrj4pZm0pRKWr6W8Rw0F)\r\n"
      ]
    },
    {
      "cell_type": "code",
      "metadata": {
        "id": "iAjmZFIH_375"
      },
      "source": [
        "urldict={}\n",
        "titledict={}\n",
        "#your code here\n",
        "for i in range(1,3):\n",
        "  soup=BeautifulSoup(page_dict[i].text,'html.parser')\n",
        "  urldict[i]=[s['href'] for s in soup.find_all('a','bookTitle')]\n",
        "  titledict[i]=[s.contents[0] for s in soup.find_all('span',attrs={\"itemprop\": \"name\",\"role\":\"heading\"})]"
      ],
      "execution_count": null,
      "outputs": []
    },
    {
      "cell_type": "code",
      "metadata": {
        "id": "8BXJm-usNbG3"
      },
      "source": [
        "print(len(titledict))\n",
        "titledict\n"
      ],
      "execution_count": null,
      "outputs": []
    },
    {
      "cell_type": "markdown",
      "metadata": {
        "id": "S5c9Ip_A_379"
      },
      "source": [
        "## Q3: Scrape the web page of each book"
      ]
    },
    {
      "cell_type": "markdown",
      "metadata": {
        "id": "5GB1tiwv4qdH"
      },
      "source": [
        "Now that we have the book URLs in a dictionary `urldict`, we can parse the web pages of the books itself to extract some information. <br>\r\n",
        "\r\n",
        "Before we extract information, we will need to get the HTML text for each book's page. \r\n",
        "Scrape the books web pages and store the HTML text for each book in a dictionary named `bookdict` using a `for` loop in a similar fashion as before."
      ]
    },
    {
      "cell_type": "code",
      "metadata": {
        "colab": {
          "base_uri": "https://localhost:8080/"
        },
        "id": "3Hfb0MK3_37_",
        "outputId": "1eb74485-c472-4f8a-b8a3-6e0f1cca76fb"
      },
      "source": [
        "#This is just an **example** to understand how to scarpe these files\n",
        "#Scraping one of the files\n",
        "URLSTART=\"https://www.goodreads.com\"\n",
        "book_url=URLSTART+urldict[2][0]\n",
        "stuff=requests.get(book_url)\n",
        "print(book_url)\n",
        "#Check the status of the page\n",
        "print(stuff.status_code)\n",
        "\n",
        "#All OK!"
      ],
      "execution_count": null,
      "outputs": [
        {
          "output_type": "stream",
          "text": [
            "https://www.goodreads.com/book/show/153747.Moby_Dick_or_the_Whale\n",
            "200\n"
          ],
          "name": "stdout"
        }
      ]
    },
    {
      "cell_type": "markdown",
      "metadata": {
        "id": "IeDDwZn6-FSn"
      },
      "source": [
        "##Q4: Parse each books page, extract information\r\n",
        "\r\n",
        "Now that we have the HTML text for the books, we can extract information from these web pages. \r\n",
        "We intend to extract the following data:\r\n",
        "\r\n",
        "- Published year\r\n",
        "- Rating\r\n",
        "- ISBN \r\n",
        "- Title of the book\r\n",
        "- Author\r\n",
        "- Genres this book fits in. Since there are several genres associated with each book, you will need to extract the URL of each genre, separated by a pipe '|' like so:\r\n",
        "```\r\n",
        "/genres/young-adult|/genres/fiction|/genres/science-fiction|/genres/dystopia|/genres/fantasy|/genres/science-fiction|/genres/romance|/genres/adventure|\r\n",
        "```\r\n",
        "- Rating count, the number of people who have rated this book\r\n",
        "<br>\r\n",
        "<br> \r\n",
        "All this information can be seen on the web page.\r\n",
        "You will need to go to the developer tools and extract the necessary information. \r\n",
        "<br>\r\n",
        "<br>\r\n",
        "\r\n",
        "Since Published year and Genre require some extra processing to be extracted, we will start by writing 2 functions - `get_genre` and `get_year`."
      ]
    },
    {
      "cell_type": "markdown",
      "metadata": {
        "id": "wXJxwcREJGqQ"
      },
      "source": [
        "### 4.1 Extract Genres\r\n",
        "\r\n",
        "Write a function to get the genres which takes as input the HTML text and outputs a list of the genre URLs."
      ]
    },
    {
      "cell_type": "code",
      "metadata": {
        "id": "c2YIBd9H_38o"
      },
      "source": [
        "#Extracting genre\n",
        "#your code here\n",
        "def get_genre(d):\n",
        "  genre=\"|\".join([g['href'] for g in d.find_all(\"a\",attrs={\"class\": \"actionLinkLite bookPageGenreLink\"})])\n",
        "  return genre\n"
      ],
      "execution_count": null,
      "outputs": []
    },
    {
      "cell_type": "markdown",
      "metadata": {
        "id": "g9WDGFGbJKzp"
      },
      "source": [
        "### 4.2 Extract Published Year"
      ]
    },
    {
      "cell_type": "markdown",
      "metadata": {
        "id": "zP9BpEv5M2nk"
      },
      "source": [
        "Write a function to get the published year which takes as input the HTML text.\r\n",
        "\r\n",
        "You might have to use regular expressions to extract only the year Published Date seen in the web pages."
      ]
    },
    {
      "cell_type": "markdown",
      "metadata": {
        "id": "nM0Smiwf_38h"
      },
      "source": [
        "**Regular expressions** <br>\n",
        "Regular Expressions is a pattern matching mechanism used throughout Computer Science and programming (it's not just specific to Python). A tutorial on Regular Expressions (aka regex) is beond this lab, but below are many great resources that we recommend, if you are interested in them (could be very useful for a homework problem):<br>\n",
        "https://docs.python.org/3.3/library/re.html <br>\n",
        "https://regexone.com <br>\n",
        "https://docs.python.org/3/howto/regex.html <br>\n"
      ]
    },
    {
      "cell_type": "code",
      "metadata": {
        "id": "U1rmGa9B_38j"
      },
      "source": [
        "#Extracting published year\n",
        "yearre = r'\\d{4}'\n",
        "def get_year(d):\n",
        "  years=d.find(\"div\", attrs={\"class\": \"uitext darkGreyText\"})\n",
        "  years=years.findChildren(\"div\")[1].text\n",
        "  yearmatch=re.findall(yearre,years)\n",
        "  years_original=d.find_all(\"nobr\", attrs={\"class\": \"greyText\"})\n",
        "  if years_original!=[]:\n",
        "    finalyear=years.strip()[-5:-1]\n",
        "    return finalyear\n",
        "  else:\n",
        "      if len(yearmatch) > 0:\n",
        "          finalyear=yearmatch[0]\n",
        "      else:\n",
        "          finalyear=\"NA\"\n",
        "      return finalyear"
      ],
      "execution_count": null,
      "outputs": []
    },
    {
      "cell_type": "markdown",
      "metadata": {
        "id": "y-y8tarRJUJW"
      },
      "source": [
        "### 4.3 Extract Rating, ISBN, Title of the book, Author and Rating Count"
      ]
    },
    {
      "cell_type": "markdown",
      "metadata": {
        "id": "Aemp8j2gJfNf"
      },
      "source": [
        "Now that you have created functions to extract genres and published years, you can extract the rest of the fields in a line or two.\r\n",
        "\r\n",
        "Extract the other fields and incorporate your functions to get a **list of dictionaries**. Each element in the list is a dictionary with the information you have extracted (Published year, Rating, ISBN, Title of the book, Author, Genres, Rating Count).\r\n",
        "<br>\r\n",
        "<br>\r\n",
        "So **each element in the list** should look something like this:\r\n",
        "```\r\n",
        "{'author': 'https://www.goodreads.com/author/show/153394.Suzanne_Collins',\r\n",
        " 'booktype': 'books.book',\r\n",
        " 'rating': 4.33,\r\n",
        " 'genres': '/genres/young-adult|/genres/fiction|/genres/science-fiction|/genres/dystopia|/genres/fantasy|/genres/science-fiction|/genres/romance|/genres/adventure|/genres/young-adult|/genres/teen|/genres/apocalyptic|/genres/post-apocalyptic|/genres/action',\r\n",
        " 'isbn': '9780439023481',\r\n",
        " 'ratingCount': '6554254',\r\n",
        " 'title': 'The Hunger Games (The Hunger Games, #1)',\r\n",
        " 'year': '2008'}\r\n",
        "```\r\n",
        "\r\n",
        "**Note**: Remember to convert your list of genres to a string seperated with the pipe character '|'.\r\n"
      ]
    },
    {
      "cell_type": "code",
      "metadata": {
        "id": "5TKaGEt6_38p"
      },
      "source": [
        "#your code here\n",
        "def get_details(d,i,j):\n",
        "  try:\n",
        "    isbn=d.find(\"span\",attrs={\"itemprop\": \"isbn\"}).contents[0]\n",
        "  except AttributeError:\n",
        "    isbn='NA'\n",
        "  rating=float(d.find(\"span\",attrs={\"itemprop\": \"ratingValue\"}).contents[0].strip())\n",
        "  ratingCount=int(d.find(\"meta\",attrs={\"itemprop\": \"ratingCount\"})['content'])\n",
        "  author_url=\",\".join([author['href'] for author in book_soup.find(\"span\",attrs={\"itemprop\": \"author\"}).findChildren('a')])\n",
        "  author_name=\",\".join([soup.contents[0] for soup in book_soup.find_all(\"span\",attrs={\"itemprop\": \"name\"})])\n",
        "  title=titledict[i][j]\n",
        "  year=int(get_year(d))\n",
        "  genre=get_genre(d)\n",
        "  detail_dict={'author_url':author_url,'author_name':author_name,'rating':rating,'genres':genre,'isbn':isbn,'ratingCount':ratingCount,'title':title,'year':year}\n",
        "  return detail_dict"
      ],
      "execution_count": null,
      "outputs": []
    },
    {
      "cell_type": "code",
      "metadata": {
        "id": "tTLIZfeXMGge"
      },
      "source": [
        "from tqdm.notebook import tqdm"
      ],
      "execution_count": null,
      "outputs": []
    },
    {
      "cell_type": "code",
      "metadata": {
        "colab": {
          "base_uri": "https://localhost:8080/",
          "height": 395,
          "referenced_widgets": [
            "b1c317907a804bcb9e2b7d77d7964d83",
            "91d63f44b0a146aa873399bf61accd80",
            "f2b3eb59bbdb4229a4b8b6ee6fd9ff7b",
            "15407401d8994591897615b82da66488",
            "1b3ae0fb24d74eea8f028b13eb3bbd5a",
            "141073fd34254e698f6b0b3524e666c6",
            "3112a47a48d54f8fa860d0ab710b0950",
            "b6e70509db91452782adfcf6da5777e7"
          ]
        },
        "id": "wblMYpMXgeWr",
        "outputId": "1c38728d-8e0a-4c67-ad82-9be3bde6f770"
      },
      "source": [
        "#Fetching the actual 200 book pages\r\n",
        "#In the interest of time, we are taking just the first 10 of each page. Running this for 200 books takes 25 min!\r\n",
        "bookdict={}\r\n",
        "listofdicts=[]\r\n",
        "#your code here\r\n",
        "for i in range(1,3):\r\n",
        "  for j in tqdm(range(100)):\r\n",
        "    url=URLSTART+urldict[i][j]\r\n",
        "    book_data=requests.get(url).text\r\n",
        "    book_soup=BeautifulSoup(book_data,'html.parser')\r\n",
        "    bookdict[i]=book_soup\r\n",
        "    listofdicts.append(get_details(book_soup,i,j))\r\n",
        "    time.sleep(10)\r\n"
      ],
      "execution_count": null,
      "outputs": [
        {
          "output_type": "display_data",
          "data": {
            "application/vnd.jupyter.widget-view+json": {
              "model_id": "b1c317907a804bcb9e2b7d77d7964d83",
              "version_minor": 0,
              "version_major": 2
            },
            "text/plain": [
              "HBox(children=(FloatProgress(value=0.0), HTML(value='')))"
            ]
          },
          "metadata": {
            "tags": []
          }
        },
        {
          "output_type": "error",
          "ename": "AttributeError",
          "evalue": "ignored",
          "traceback": [
            "\u001b[0;31m---------------------------------------------------------------------------\u001b[0m",
            "\u001b[0;31mAttributeError\u001b[0m                            Traceback (most recent call last)",
            "\u001b[0;32m<ipython-input-13-5f802da57ca5>\u001b[0m in \u001b[0;36m<module>\u001b[0;34m()\u001b[0m\n\u001b[1;32m     10\u001b[0m     \u001b[0mbook_soup\u001b[0m\u001b[0;34m=\u001b[0m\u001b[0mBeautifulSoup\u001b[0m\u001b[0;34m(\u001b[0m\u001b[0mbook_data\u001b[0m\u001b[0;34m,\u001b[0m\u001b[0;34m'html.parser'\u001b[0m\u001b[0;34m)\u001b[0m\u001b[0;34m\u001b[0m\u001b[0;34m\u001b[0m\u001b[0m\n\u001b[1;32m     11\u001b[0m     \u001b[0mbookdict\u001b[0m\u001b[0;34m[\u001b[0m\u001b[0mi\u001b[0m\u001b[0;34m]\u001b[0m\u001b[0;34m=\u001b[0m\u001b[0mbook_soup\u001b[0m\u001b[0;34m\u001b[0m\u001b[0;34m\u001b[0m\u001b[0m\n\u001b[0;32m---> 12\u001b[0;31m     \u001b[0mlistofdicts\u001b[0m\u001b[0;34m.\u001b[0m\u001b[0mappend\u001b[0m\u001b[0;34m(\u001b[0m\u001b[0mget_details\u001b[0m\u001b[0;34m(\u001b[0m\u001b[0mbook_soup\u001b[0m\u001b[0;34m,\u001b[0m\u001b[0mi\u001b[0m\u001b[0;34m,\u001b[0m\u001b[0mj\u001b[0m\u001b[0;34m)\u001b[0m\u001b[0;34m)\u001b[0m\u001b[0;34m\u001b[0m\u001b[0;34m\u001b[0m\u001b[0m\n\u001b[0m\u001b[1;32m     13\u001b[0m     \u001b[0mtime\u001b[0m\u001b[0;34m.\u001b[0m\u001b[0msleep\u001b[0m\u001b[0;34m(\u001b[0m\u001b[0;36m10\u001b[0m\u001b[0;34m)\u001b[0m\u001b[0;34m\u001b[0m\u001b[0;34m\u001b[0m\u001b[0m\n",
            "\u001b[0;32m<ipython-input-11-a57233c87221>\u001b[0m in \u001b[0;36mget_details\u001b[0;34m(d, i, j)\u001b[0m\n\u001b[1;32m      5\u001b[0m   \u001b[0;32mexcept\u001b[0m \u001b[0mAttributeError\u001b[0m\u001b[0;34m:\u001b[0m\u001b[0;34m\u001b[0m\u001b[0;34m\u001b[0m\u001b[0m\n\u001b[1;32m      6\u001b[0m     \u001b[0misbn\u001b[0m\u001b[0;34m=\u001b[0m\u001b[0;34m'NA'\u001b[0m\u001b[0;34m\u001b[0m\u001b[0;34m\u001b[0m\u001b[0m\n\u001b[0;32m----> 7\u001b[0;31m   \u001b[0mrating\u001b[0m\u001b[0;34m=\u001b[0m\u001b[0mfloat\u001b[0m\u001b[0;34m(\u001b[0m\u001b[0md\u001b[0m\u001b[0;34m.\u001b[0m\u001b[0mfind\u001b[0m\u001b[0;34m(\u001b[0m\u001b[0;34m\"span\"\u001b[0m\u001b[0;34m,\u001b[0m\u001b[0mattrs\u001b[0m\u001b[0;34m=\u001b[0m\u001b[0;34m{\u001b[0m\u001b[0;34m\"itemprop\"\u001b[0m\u001b[0;34m:\u001b[0m \u001b[0;34m\"ratingValue\"\u001b[0m\u001b[0;34m}\u001b[0m\u001b[0;34m)\u001b[0m\u001b[0;34m.\u001b[0m\u001b[0mcontents\u001b[0m\u001b[0;34m[\u001b[0m\u001b[0;36m0\u001b[0m\u001b[0;34m]\u001b[0m\u001b[0;34m.\u001b[0m\u001b[0mstrip\u001b[0m\u001b[0;34m(\u001b[0m\u001b[0;34m)\u001b[0m\u001b[0;34m)\u001b[0m\u001b[0;34m\u001b[0m\u001b[0;34m\u001b[0m\u001b[0m\n\u001b[0m\u001b[1;32m      8\u001b[0m   \u001b[0mratingCount\u001b[0m\u001b[0;34m=\u001b[0m\u001b[0mint\u001b[0m\u001b[0;34m(\u001b[0m\u001b[0md\u001b[0m\u001b[0;34m.\u001b[0m\u001b[0mfind\u001b[0m\u001b[0;34m(\u001b[0m\u001b[0;34m\"meta\"\u001b[0m\u001b[0;34m,\u001b[0m\u001b[0mattrs\u001b[0m\u001b[0;34m=\u001b[0m\u001b[0;34m{\u001b[0m\u001b[0;34m\"itemprop\"\u001b[0m\u001b[0;34m:\u001b[0m \u001b[0;34m\"ratingCount\"\u001b[0m\u001b[0;34m}\u001b[0m\u001b[0;34m)\u001b[0m\u001b[0;34m[\u001b[0m\u001b[0;34m'content'\u001b[0m\u001b[0;34m]\u001b[0m\u001b[0;34m)\u001b[0m\u001b[0;34m\u001b[0m\u001b[0;34m\u001b[0m\u001b[0m\n\u001b[1;32m      9\u001b[0m   \u001b[0mauthor_url\u001b[0m\u001b[0;34m=\u001b[0m\u001b[0;34m\",\"\u001b[0m\u001b[0;34m.\u001b[0m\u001b[0mjoin\u001b[0m\u001b[0;34m(\u001b[0m\u001b[0;34m[\u001b[0m\u001b[0mauthor\u001b[0m\u001b[0;34m[\u001b[0m\u001b[0;34m'href'\u001b[0m\u001b[0;34m]\u001b[0m \u001b[0;32mfor\u001b[0m \u001b[0mauthor\u001b[0m \u001b[0;32min\u001b[0m \u001b[0mbook_soup\u001b[0m\u001b[0;34m.\u001b[0m\u001b[0mfind\u001b[0m\u001b[0;34m(\u001b[0m\u001b[0;34m\"span\"\u001b[0m\u001b[0;34m,\u001b[0m\u001b[0mattrs\u001b[0m\u001b[0;34m=\u001b[0m\u001b[0;34m{\u001b[0m\u001b[0;34m\"itemprop\"\u001b[0m\u001b[0;34m:\u001b[0m \u001b[0;34m\"author\"\u001b[0m\u001b[0;34m}\u001b[0m\u001b[0;34m)\u001b[0m\u001b[0;34m.\u001b[0m\u001b[0mfindChildren\u001b[0m\u001b[0;34m(\u001b[0m\u001b[0;34m'a'\u001b[0m\u001b[0;34m)\u001b[0m\u001b[0;34m]\u001b[0m\u001b[0;34m)\u001b[0m\u001b[0;34m\u001b[0m\u001b[0;34m\u001b[0m\u001b[0m\n",
            "\u001b[0;31mAttributeError\u001b[0m: 'NoneType' object has no attribute 'contents'"
          ]
        }
      ]
    },
    {
      "cell_type": "markdown",
      "metadata": {
        "id": "ZjtwDg2LJpuv"
      },
      "source": [
        "### 4.4 Creating a DataFrame\r\n",
        "\r\n",
        "Convert the list of dictionaries created above to a Pandas DataFrame"
      ]
    },
    {
      "cell_type": "code",
      "metadata": {
        "id": "i0bGQ8l-_380"
      },
      "source": [
        "df = pd.DataFrame.from_records(listofdicts)\n",
        "df.iloc[10:20]"
      ],
      "execution_count": null,
      "outputs": []
    },
    {
      "cell_type": "markdown",
      "metadata": {
        "id": "oJPAaLqvQkuB"
      },
      "source": [
        "Convert this dataframe to a csv file and store it using `to_csv`."
      ]
    },
    {
      "cell_type": "code",
      "metadata": {
        "id": "iSgShg17_383"
      },
      "source": [
        "df.to_csv(\"Goodreads.csv\", index=False, header=True)"
      ],
      "execution_count": null,
      "outputs": []
    }
  ]
}