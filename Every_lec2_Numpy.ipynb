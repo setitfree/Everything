{
  "nbformat": 4,
  "nbformat_minor": 0,
  "metadata": {
    "colab": {
      "name": "Every lec2 Numpy.ipynb",
      "provenance": [],
      "authorship_tag": "ABX9TyNHlSf9hBKWLeks5FRw9/BP",
      "include_colab_link": true
    },
    "kernelspec": {
      "name": "python3",
      "display_name": "Python 3"
    }
  },
  "cells": [
    {
      "cell_type": "markdown",
      "metadata": {
        "id": "view-in-github",
        "colab_type": "text"
      },
      "source": [
        "<a href=\"https://colab.research.google.com/github/setitfree/Everything/blob/main/Every_lec2_Numpy.ipynb\" target=\"_parent\"><img src=\"https://colab.research.google.com/assets/colab-badge.svg\" alt=\"Open In Colab\"/></a>"
      ]
    },
    {
      "cell_type": "markdown",
      "metadata": {
        "id": "ysQVe02mPxnz"
      },
      "source": [
        "#Lecture 2 Numpy"
      ]
    },
    {
      "cell_type": "code",
      "metadata": {
        "colab": {
          "base_uri": "https://localhost:8080/"
        },
        "id": "aGVg4g7oh5vw",
        "outputId": "fc86af7f-50ab-489b-c41a-7cc547db1e66"
      },
      "source": [
        "import numpy as np\n",
        "my_array = np.array([1,2,3,4])    ## This is how we create an array\n",
        "my_array"
      ],
      "execution_count": 43,
      "outputs": [
        {
          "output_type": "execute_result",
          "data": {
            "text/plain": [
              "array([1, 2, 3, 4])"
            ]
          },
          "metadata": {
            "tags": []
          },
          "execution_count": 43
        }
      ]
    },
    {
      "cell_type": "code",
      "metadata": {
        "colab": {
          "base_uri": "https://localhost:8080/"
        },
        "id": "zXK6L0Rjh5tU",
        "outputId": "ae7ed63d-03bf-43ee-b31a-209199e15447"
      },
      "source": [
        "print(np.mean(my_array))    ## Dont iterate the numpy arras ever\n",
        "## OR                       ## instead use the functions like \"mean\"\n",
        "print(my_array.mean())"
      ],
      "execution_count": null,
      "outputs": [
        {
          "output_type": "stream",
          "text": [
            "2.5\n",
            "2.5\n"
          ],
          "name": "stdout"
        }
      ]
    },
    {
      "cell_type": "code",
      "metadata": {
        "colab": {
          "base_uri": "https://localhost:8080/"
        },
        "id": "k4UKtTMch5q8",
        "outputId": "ba7b3b89-4016-4bfd-adcb-14f683f99c90"
      },
      "source": [
        "np.ones(10)   ## Generates 10 floating(default) dtype \"1\" "
      ],
      "execution_count": null,
      "outputs": [
        {
          "output_type": "execute_result",
          "data": {
            "text/plain": [
              "array([1., 1., 1., 1., 1., 1., 1., 1., 1., 1.])"
            ]
          },
          "metadata": {
            "tags": []
          },
          "execution_count": 5
        }
      ]
    },
    {
      "cell_type": "code",
      "metadata": {
        "colab": {
          "base_uri": "https://localhost:8080/"
        },
        "id": "5GmGl_47h5og",
        "outputId": "e585dd8c-2392-4a37-cac3-5f673d3ea854"
      },
      "source": [
        "np.ones(10, int)  ## GENERATES 10 ints dtype\"1\""
      ],
      "execution_count": null,
      "outputs": [
        {
          "output_type": "execute_result",
          "data": {
            "text/plain": [
              "array([1, 1, 1, 1, 1, 1, 1, 1, 1, 1])"
            ]
          },
          "metadata": {
            "tags": []
          },
          "execution_count": 6
        }
      ]
    },
    {
      "cell_type": "code",
      "metadata": {
        "id": "DH8U1ZRYh5l8"
      },
      "source": [
        "first = np.ones(5)\n",
        "second = np.ones(5)"
      ],
      "execution_count": null,
      "outputs": []
    },
    {
      "cell_type": "code",
      "metadata": {
        "colab": {
          "base_uri": "https://localhost:8080/"
        },
        "id": "TFPxbsVIh5ji",
        "outputId": "6058a842-840e-415e-e432-d80af2b95d90"
      },
      "source": [
        "first + second"
      ],
      "execution_count": null,
      "outputs": [
        {
          "output_type": "execute_result",
          "data": {
            "text/plain": [
              "array([2., 2., 2., 2., 2.])"
            ]
          },
          "metadata": {
            "tags": []
          },
          "execution_count": 8
        }
      ]
    },
    {
      "cell_type": "code",
      "metadata": {
        "colab": {
          "base_uri": "https://localhost:8080/"
        },
        "id": "BI-2716Hh5gz",
        "outputId": "9a37505a-0f12-471a-cf02-1981dc8c4e02"
      },
      "source": [
        "first + 1"
      ],
      "execution_count": null,
      "outputs": [
        {
          "output_type": "execute_result",
          "data": {
            "text/plain": [
              "array([2., 2., 2., 2., 2.])"
            ]
          },
          "metadata": {
            "tags": []
          },
          "execution_count": 9
        }
      ]
    },
    {
      "cell_type": "code",
      "metadata": {
        "colab": {
          "base_uri": "https://localhost:8080/"
        },
        "id": "v7__-0sch5eM",
        "outputId": "9c6d28e6-c662-45dd-d087-0dfe2d7f6d95"
      },
      "source": [
        "first * 5"
      ],
      "execution_count": null,
      "outputs": [
        {
          "output_type": "execute_result",
          "data": {
            "text/plain": [
              "array([5., 5., 5., 5., 5.])"
            ]
          },
          "metadata": {
            "tags": []
          },
          "execution_count": 10
        }
      ]
    },
    {
      "cell_type": "code",
      "metadata": {
        "colab": {
          "base_uri": "https://localhost:8080/"
        },
        "id": "ndgQnspfh5c1",
        "outputId": "462c9346-bd07-4b99-a9ee-72e8a2ea5331"
      },
      "source": [
        "first * second"
      ],
      "execution_count": null,
      "outputs": [
        {
          "output_type": "execute_result",
          "data": {
            "text/plain": [
              "array([1., 1., 1., 1., 1.])"
            ]
          },
          "metadata": {
            "tags": []
          },
          "execution_count": 11
        }
      ]
    },
    {
      "cell_type": "code",
      "metadata": {
        "id": "f_2xJUR947BO",
        "outputId": "36527f0d-2705-4b0b-9f9c-7249dbdaac2f",
        "colab": {
          "base_uri": "https://localhost:8080/"
        }
      },
      "source": [
        "one2d = np.ones([3,4])    ## Matrices of 1\n",
        "one2d"
      ],
      "execution_count": 6,
      "outputs": [
        {
          "output_type": "execute_result",
          "data": {
            "text/plain": [
              "array([[1., 1., 1., 1.],\n",
              "       [1., 1., 1., 1.],\n",
              "       [1., 1., 1., 1.]])"
            ]
          },
          "metadata": {
            "tags": []
          },
          "execution_count": 6
        }
      ]
    },
    {
      "cell_type": "code",
      "metadata": {
        "id": "jrO3d7Kc9HyM",
        "outputId": "afc1e48a-5854-4f00-c906-7dde2a05ff81",
        "colab": {
          "base_uri": "https://localhost:8080/"
        }
      },
      "source": [
        "one2d.shape"
      ],
      "execution_count": 25,
      "outputs": [
        {
          "output_type": "execute_result",
          "data": {
            "text/plain": [
              "(3, 4)"
            ]
          },
          "metadata": {
            "tags": []
          },
          "execution_count": 25
        }
      ]
    },
    {
      "cell_type": "code",
      "metadata": {
        "id": "Su108u9t68Ps",
        "outputId": "e989ba49-8812-44cd-ed89-91303a230c6b",
        "colab": {
          "base_uri": "https://localhost:8080/"
        }
      },
      "source": [
        "print(one2d.sum())    ## Addition of above matrices\n",
        "print(np.sum(one2d))"
      ],
      "execution_count": 17,
      "outputs": [
        {
          "output_type": "stream",
          "text": [
            "12.0\n",
            "12.0\n"
          ],
          "name": "stdout"
        }
      ]
    },
    {
      "cell_type": "code",
      "metadata": {
        "id": "J19gexLQ46_Q",
        "outputId": "9766772d-bca8-4f13-d512-811739845f02",
        "colab": {
          "base_uri": "https://localhost:8080/"
        }
      },
      "source": [
        "my_array2d = np.array([[1,2,3,4], [5,6,7,8], [9,10,11,12]])   ## Creating a matrices\n",
        "my_array2d"
      ],
      "execution_count": 13,
      "outputs": [
        {
          "output_type": "execute_result",
          "data": {
            "text/plain": [
              "array([[ 1,  2,  3,  4],\n",
              "       [ 5,  6,  7,  8],\n",
              "       [ 9, 10, 11, 12]])"
            ]
          },
          "metadata": {
            "tags": []
          },
          "execution_count": 13
        }
      ]
    },
    {
      "cell_type": "code",
      "metadata": {
        "id": "mBkCVY1i468p",
        "outputId": "88e5fe4d-0d1c-4609-f316-215dc7fa21a9",
        "colab": {
          "base_uri": "https://localhost:8080/"
        }
      },
      "source": [
        "my_array2d[2,3]   ## To get a particular number from matrices "
      ],
      "execution_count": 14,
      "outputs": [
        {
          "output_type": "execute_result",
          "data": {
            "text/plain": [
              "12"
            ]
          },
          "metadata": {
            "tags": []
          },
          "execution_count": 14
        }
      ]
    },
    {
      "cell_type": "code",
      "metadata": {
        "id": "LiOqhvbd466Q",
        "outputId": "8e62f030-1dc8-49af-abe8-e1a17c4acc36",
        "colab": {
          "base_uri": "https://localhost:8080/"
        }
      },
      "source": [
        "np.sum(one2d, axis = 0)"
      ],
      "execution_count": 18,
      "outputs": [
        {
          "output_type": "execute_result",
          "data": {
            "text/plain": [
              "array([3., 3., 3., 3.])"
            ]
          },
          "metadata": {
            "tags": []
          },
          "execution_count": 18
        }
      ]
    },
    {
      "cell_type": "code",
      "metadata": {
        "id": "7_KdlCyf4636",
        "outputId": "07b936ea-7107-4d7d-ad09-a42e7546bb4d",
        "colab": {
          "base_uri": "https://localhost:8080/"
        }
      },
      "source": [
        "np.sum(my_array2d, axis = 0)"
      ],
      "execution_count": 19,
      "outputs": [
        {
          "output_type": "execute_result",
          "data": {
            "text/plain": [
              "array([15, 18, 21, 24])"
            ]
          },
          "metadata": {
            "tags": []
          },
          "execution_count": 19
        }
      ]
    },
    {
      "cell_type": "code",
      "metadata": {
        "id": "B3t13JF3461W",
        "outputId": "b4e2008d-7923-419e-cb1d-fd0c9261bf84",
        "colab": {
          "base_uri": "https://localhost:8080/"
        }
      },
      "source": [
        "np.sum(my_array2d, axis = 1)"
      ],
      "execution_count": 27,
      "outputs": [
        {
          "output_type": "execute_result",
          "data": {
            "text/plain": [
              "array([10, 26, 42])"
            ]
          },
          "metadata": {
            "tags": []
          },
          "execution_count": 27
        }
      ]
    },
    {
      "cell_type": "code",
      "metadata": {
        "id": "VKh-6ZytMd6c",
        "outputId": "017f6d79-d288-4990-eaf8-22f2f5d8c8fd",
        "colab": {
          "base_uri": "https://localhost:8080/"
        }
      },
      "source": [
        "empty_array = np.empty((2,3))   ## This will create a empty array of 2 rows and 3 columns \n",
        "empty_array                     ## It doest not look empty but it is "
      ],
      "execution_count": 36,
      "outputs": [
        {
          "output_type": "execute_result",
          "data": {
            "text/plain": [
              "array([[0.94822937, 0.40663892, 0.47364769],\n",
              "       [0.91328944, 0.13967061, 0.76280201]])"
            ]
          },
          "metadata": {
            "tags": []
          },
          "execution_count": 36
        }
      ]
    },
    {
      "cell_type": "markdown",
      "metadata": {
        "id": "a3-h99gsNzvQ"
      },
      "source": [
        "Now we have to fill some data in this matrix .\n",
        "Below is how we fill it"
      ]
    },
    {
      "cell_type": "code",
      "metadata": {
        "id": "TCKnNvGH46ym",
        "outputId": "ff8b5151-ee99-43b0-d406-8802a8b0c736",
        "colab": {
          "base_uri": "https://localhost:8080/"
        }
      },
      "source": [
        "for i in range(empty_array.shape[0]):    ## \"0\" tells which row to start. It always fills row wise.\n",
        "  empty_array[i] = np.random.rand(3)      ## \"3\" is written because there are 3 coulums and we have to fill all column of 1st row\n",
        "empty_array"
      ],
      "execution_count": 37,
      "outputs": [
        {
          "output_type": "execute_result",
          "data": {
            "text/plain": [
              "array([[0.61478096, 0.74107724, 0.46559706],\n",
              "       [0.53076634, 0.44821604, 0.04167947]])"
            ]
          },
          "metadata": {
            "tags": []
          },
          "execution_count": 37
        }
      ]
    },
    {
      "cell_type": "code",
      "metadata": {
        "id": "tONOk9X3h5bd"
      },
      "source": [
        "!wget https://raw.githubusercontent.com/setitfree/NumericalPython/main/data/combined_population_votes.csv"
      ],
      "execution_count": null,
      "outputs": []
    },
    {
      "cell_type": "code",
      "metadata": {
        "id": "123_76edgdUN"
      },
      "source": [
        "import pandas as pd\n",
        "combined = pd.read_csv(\"combined_population_votes.csv\")"
      ],
      "execution_count": 39,
      "outputs": []
    },
    {
      "cell_type": "code",
      "metadata": {
        "id": "1NeDI6rcPHOm",
        "outputId": "90529a2a-afe4-4e44-f418-ee2a2a49f030",
        "colab": {
          "base_uri": "https://localhost:8080/"
        }
      },
      "source": [
        "combined.Votes.values   ## To get in series format"
      ],
      "execution_count": 40,
      "outputs": [
        {
          "output_type": "execute_result",
          "data": {
            "text/plain": [
              "array([ 3,  9,  6, 11, 55,  9,  7,  3,  3, 29, 16,  4,  6,  4, 20, 11,  6,\n",
              "        8,  8, 11, 10,  4, 16, 10, 10,  6,  3, 15,  3,  5,  4, 14,  5,  6,\n",
              "       29, 18,  7,  7, 20,  4,  9,  3, 11, 38,  6, 13,  3, 12, 10,  5,  3])"
            ]
          },
          "metadata": {
            "tags": []
          },
          "execution_count": 40
        }
      ]
    },
    {
      "cell_type": "code",
      "metadata": {
        "id": "3ABRK1yb3P8m",
        "outputId": "8cac147e-753e-4366-cc8b-6fee839e28cb",
        "colab": {
          "base_uri": "https://localhost:8080/"
        }
      },
      "source": [
        "combined.Votes.values"
      ],
      "execution_count": 44,
      "outputs": [
        {
          "output_type": "execute_result",
          "data": {
            "text/plain": [
              "array([ 3,  9,  6, 11, 55,  9,  7,  3,  3, 29, 16,  4,  6,  4, 20, 11,  6,\n",
              "        8,  8, 11, 10,  4, 16, 10, 10,  6,  3, 15,  3,  5,  4, 14,  5,  6,\n",
              "       29, 18,  7,  7, 20,  4,  9,  3, 11, 38,  6, 13,  3, 12, 10,  5,  3])"
            ]
          },
          "metadata": {
            "tags": []
          },
          "execution_count": 44
        }
      ]
    },
    {
      "cell_type": "code",
      "metadata": {
        "id": "KUoifWTdPQZ5",
        "outputId": "ce9be253-854d-4764-9999-f1b25ecd14c7",
        "colab": {
          "base_uri": "https://localhost:8080/"
        }
      },
      "source": [
        "combined[['popmills', 'Votes']].values    ## To get in dataframe format"
      ],
      "execution_count": 42,
      "outputs": [
        {
          "output_type": "execute_result",
          "data": {
            "text/plain": [
              "array([[ 0.71 ,  3.   ],\n",
              "       [ 4.78 ,  9.   ],\n",
              "       [ 2.916,  6.   ],\n",
              "       [ 6.392, 11.   ],\n",
              "       [37.254, 55.   ],\n",
              "       [ 5.029,  9.   ],\n",
              "       [ 3.574,  7.   ],\n",
              "       [ 0.602,  3.   ],\n",
              "       [ 0.898,  3.   ],\n",
              "       [18.801, 29.   ],\n",
              "       [ 9.688, 16.   ],\n",
              "       [ 1.36 ,  4.   ],\n",
              "       [ 3.046,  6.   ],\n",
              "       [ 1.568,  4.   ],\n",
              "       [12.831, 20.   ],\n",
              "       [ 6.484, 11.   ],\n",
              "       [ 2.853,  6.   ],\n",
              "       [ 4.339,  8.   ],\n",
              "       [ 4.533,  8.   ],\n",
              "       [ 6.548, 11.   ],\n",
              "       [ 5.774, 10.   ],\n",
              "       [ 1.328,  4.   ],\n",
              "       [ 9.884, 16.   ],\n",
              "       [ 5.304, 10.   ],\n",
              "       [ 5.989, 10.   ],\n",
              "       [ 2.967,  6.   ],\n",
              "       [ 0.989,  3.   ],\n",
              "       [ 9.535, 15.   ],\n",
              "       [ 0.673,  3.   ],\n",
              "       [ 1.826,  5.   ],\n",
              "       [ 1.316,  4.   ],\n",
              "       [ 8.792, 14.   ],\n",
              "       [ 2.059,  5.   ],\n",
              "       [ 2.701,  6.   ],\n",
              "       [19.378, 29.   ],\n",
              "       [11.537, 18.   ],\n",
              "       [ 3.751,  7.   ],\n",
              "       [ 3.831,  7.   ],\n",
              "       [12.702, 20.   ],\n",
              "       [ 1.053,  4.   ],\n",
              "       [ 4.625,  9.   ],\n",
              "       [ 0.814,  3.   ],\n",
              "       [ 6.346, 11.   ],\n",
              "       [25.146, 38.   ],\n",
              "       [ 2.764,  6.   ],\n",
              "       [ 8.001, 13.   ],\n",
              "       [ 0.626,  3.   ],\n",
              "       [ 6.725, 12.   ],\n",
              "       [ 5.687, 10.   ],\n",
              "       [ 1.853,  5.   ],\n",
              "       [ 0.564,  3.   ]])"
            ]
          },
          "metadata": {
            "tags": []
          },
          "execution_count": 42
        }
      ]
    },
    {
      "cell_type": "code",
      "metadata": {
        "id": "B8KstS6iPdaR"
      },
      "source": [
        ""
      ],
      "execution_count": null,
      "outputs": []
    }
  ]
}