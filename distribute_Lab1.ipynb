{
  "nbformat": 4,
  "nbformat_minor": 0,
  "metadata": {
    "colab": {
      "name": "distribute_Lab1.ipynb",
      "provenance": [],
      "include_colab_link": true
    },
    "kernelspec": {
      "display_name": "Python 3",
      "language": "python",
      "name": "python3"
    },
    "language_info": {
      "codemirror_mode": {
        "name": "ipython",
        "version": 3
      },
      "file_extension": ".py",
      "mimetype": "text/x-python",
      "name": "python",
      "nbconvert_exporter": "python",
      "pygments_lexer": "ipython3",
      "version": "3.7.6"
    },
    "widgets": {
      "application/vnd.jupyter.widget-state+json": {
        "f0601435aabf484c88e6e3d722b9817a": {
          "model_module": "@jupyter-widgets/controls",
          "model_name": "HBoxModel",
          "state": {
            "_view_name": "HBoxView",
            "_dom_classes": [],
            "_model_name": "HBoxModel",
            "_view_module": "@jupyter-widgets/controls",
            "_model_module_version": "1.5.0",
            "_view_count": null,
            "_view_module_version": "1.5.0",
            "box_style": "",
            "layout": "IPY_MODEL_68257ce4db184e09bf3893b9e50b64dd",
            "_model_module": "@jupyter-widgets/controls",
            "children": [
              "IPY_MODEL_5bb25f41f34342e3ab38632c7d5f2816",
              "IPY_MODEL_bf311fdb626146ca8c1fe5802aeb419a"
            ]
          }
        },
        "68257ce4db184e09bf3893b9e50b64dd": {
          "model_module": "@jupyter-widgets/base",
          "model_name": "LayoutModel",
          "state": {
            "_view_name": "LayoutView",
            "grid_template_rows": null,
            "right": null,
            "justify_content": null,
            "_view_module": "@jupyter-widgets/base",
            "overflow": null,
            "_model_module_version": "1.2.0",
            "_view_count": null,
            "flex_flow": null,
            "width": null,
            "min_width": null,
            "border": null,
            "align_items": null,
            "bottom": null,
            "_model_module": "@jupyter-widgets/base",
            "top": null,
            "grid_column": null,
            "overflow_y": null,
            "overflow_x": null,
            "grid_auto_flow": null,
            "grid_area": null,
            "grid_template_columns": null,
            "flex": null,
            "_model_name": "LayoutModel",
            "justify_items": null,
            "grid_row": null,
            "max_height": null,
            "align_content": null,
            "visibility": null,
            "align_self": null,
            "height": null,
            "min_height": null,
            "padding": null,
            "grid_auto_rows": null,
            "grid_gap": null,
            "max_width": null,
            "order": null,
            "_view_module_version": "1.2.0",
            "grid_template_areas": null,
            "object_position": null,
            "object_fit": null,
            "grid_auto_columns": null,
            "margin": null,
            "display": null,
            "left": null
          }
        },
        "5bb25f41f34342e3ab38632c7d5f2816": {
          "model_module": "@jupyter-widgets/controls",
          "model_name": "FloatProgressModel",
          "state": {
            "_view_name": "ProgressView",
            "style": "IPY_MODEL_5b8b8550d65f46468d6fd0b3a19b4f7a",
            "_dom_classes": [],
            "description": "100%",
            "_model_name": "FloatProgressModel",
            "bar_style": "success",
            "max": 5,
            "_view_module": "@jupyter-widgets/controls",
            "_model_module_version": "1.5.0",
            "value": 5,
            "_view_count": null,
            "_view_module_version": "1.5.0",
            "orientation": "horizontal",
            "min": 0,
            "description_tooltip": null,
            "_model_module": "@jupyter-widgets/controls",
            "layout": "IPY_MODEL_a136e96758d04ddfae8b2678e6ca7afa"
          }
        },
        "bf311fdb626146ca8c1fe5802aeb419a": {
          "model_module": "@jupyter-widgets/controls",
          "model_name": "HTMLModel",
          "state": {
            "_view_name": "HTMLView",
            "style": "IPY_MODEL_299173d48d89406d8ad3ec379f37bc79",
            "_dom_classes": [],
            "description": "",
            "_model_name": "HTMLModel",
            "placeholder": "​",
            "_view_module": "@jupyter-widgets/controls",
            "_model_module_version": "1.5.0",
            "value": " 5/5 [00:51&lt;00:00, 10.31s/it]",
            "_view_count": null,
            "_view_module_version": "1.5.0",
            "description_tooltip": null,
            "_model_module": "@jupyter-widgets/controls",
            "layout": "IPY_MODEL_efbc879cbe344f4084241eac63b45986"
          }
        },
        "5b8b8550d65f46468d6fd0b3a19b4f7a": {
          "model_module": "@jupyter-widgets/controls",
          "model_name": "ProgressStyleModel",
          "state": {
            "_view_name": "StyleView",
            "_model_name": "ProgressStyleModel",
            "description_width": "initial",
            "_view_module": "@jupyter-widgets/base",
            "_model_module_version": "1.5.0",
            "_view_count": null,
            "_view_module_version": "1.2.0",
            "bar_color": null,
            "_model_module": "@jupyter-widgets/controls"
          }
        },
        "a136e96758d04ddfae8b2678e6ca7afa": {
          "model_module": "@jupyter-widgets/base",
          "model_name": "LayoutModel",
          "state": {
            "_view_name": "LayoutView",
            "grid_template_rows": null,
            "right": null,
            "justify_content": null,
            "_view_module": "@jupyter-widgets/base",
            "overflow": null,
            "_model_module_version": "1.2.0",
            "_view_count": null,
            "flex_flow": null,
            "width": null,
            "min_width": null,
            "border": null,
            "align_items": null,
            "bottom": null,
            "_model_module": "@jupyter-widgets/base",
            "top": null,
            "grid_column": null,
            "overflow_y": null,
            "overflow_x": null,
            "grid_auto_flow": null,
            "grid_area": null,
            "grid_template_columns": null,
            "flex": null,
            "_model_name": "LayoutModel",
            "justify_items": null,
            "grid_row": null,
            "max_height": null,
            "align_content": null,
            "visibility": null,
            "align_self": null,
            "height": null,
            "min_height": null,
            "padding": null,
            "grid_auto_rows": null,
            "grid_gap": null,
            "max_width": null,
            "order": null,
            "_view_module_version": "1.2.0",
            "grid_template_areas": null,
            "object_position": null,
            "object_fit": null,
            "grid_auto_columns": null,
            "margin": null,
            "display": null,
            "left": null
          }
        },
        "299173d48d89406d8ad3ec379f37bc79": {
          "model_module": "@jupyter-widgets/controls",
          "model_name": "DescriptionStyleModel",
          "state": {
            "_view_name": "StyleView",
            "_model_name": "DescriptionStyleModel",
            "description_width": "",
            "_view_module": "@jupyter-widgets/base",
            "_model_module_version": "1.5.0",
            "_view_count": null,
            "_view_module_version": "1.2.0",
            "_model_module": "@jupyter-widgets/controls"
          }
        },
        "efbc879cbe344f4084241eac63b45986": {
          "model_module": "@jupyter-widgets/base",
          "model_name": "LayoutModel",
          "state": {
            "_view_name": "LayoutView",
            "grid_template_rows": null,
            "right": null,
            "justify_content": null,
            "_view_module": "@jupyter-widgets/base",
            "overflow": null,
            "_model_module_version": "1.2.0",
            "_view_count": null,
            "flex_flow": null,
            "width": null,
            "min_width": null,
            "border": null,
            "align_items": null,
            "bottom": null,
            "_model_module": "@jupyter-widgets/base",
            "top": null,
            "grid_column": null,
            "overflow_y": null,
            "overflow_x": null,
            "grid_auto_flow": null,
            "grid_area": null,
            "grid_template_columns": null,
            "flex": null,
            "_model_name": "LayoutModel",
            "justify_items": null,
            "grid_row": null,
            "max_height": null,
            "align_content": null,
            "visibility": null,
            "align_self": null,
            "height": null,
            "min_height": null,
            "padding": null,
            "grid_auto_rows": null,
            "grid_gap": null,
            "max_width": null,
            "order": null,
            "_view_module_version": "1.2.0",
            "grid_template_areas": null,
            "object_position": null,
            "object_fit": null,
            "grid_auto_columns": null,
            "margin": null,
            "display": null,
            "left": null
          }
        },
        "fcf0ba61f32a47c1a0ddc2243e4b08e8": {
          "model_module": "@jupyter-widgets/controls",
          "model_name": "HBoxModel",
          "state": {
            "_view_name": "HBoxView",
            "_dom_classes": [],
            "_model_name": "HBoxModel",
            "_view_module": "@jupyter-widgets/controls",
            "_model_module_version": "1.5.0",
            "_view_count": null,
            "_view_module_version": "1.5.0",
            "box_style": "",
            "layout": "IPY_MODEL_80e63021f7e249c38d74c1afe0949e29",
            "_model_module": "@jupyter-widgets/controls",
            "children": [
              "IPY_MODEL_7da28a71261841348fd5059706be6fd4",
              "IPY_MODEL_434c043ccab140718426c3b2b061887b"
            ]
          }
        },
        "80e63021f7e249c38d74c1afe0949e29": {
          "model_module": "@jupyter-widgets/base",
          "model_name": "LayoutModel",
          "state": {
            "_view_name": "LayoutView",
            "grid_template_rows": null,
            "right": null,
            "justify_content": null,
            "_view_module": "@jupyter-widgets/base",
            "overflow": null,
            "_model_module_version": "1.2.0",
            "_view_count": null,
            "flex_flow": null,
            "width": null,
            "min_width": null,
            "border": null,
            "align_items": null,
            "bottom": null,
            "_model_module": "@jupyter-widgets/base",
            "top": null,
            "grid_column": null,
            "overflow_y": null,
            "overflow_x": null,
            "grid_auto_flow": null,
            "grid_area": null,
            "grid_template_columns": null,
            "flex": null,
            "_model_name": "LayoutModel",
            "justify_items": null,
            "grid_row": null,
            "max_height": null,
            "align_content": null,
            "visibility": null,
            "align_self": null,
            "height": null,
            "min_height": null,
            "padding": null,
            "grid_auto_rows": null,
            "grid_gap": null,
            "max_width": null,
            "order": null,
            "_view_module_version": "1.2.0",
            "grid_template_areas": null,
            "object_position": null,
            "object_fit": null,
            "grid_auto_columns": null,
            "margin": null,
            "display": null,
            "left": null
          }
        },
        "7da28a71261841348fd5059706be6fd4": {
          "model_module": "@jupyter-widgets/controls",
          "model_name": "FloatProgressModel",
          "state": {
            "_view_name": "ProgressView",
            "style": "IPY_MODEL_585dad165a3e44c39ba1dc0d15cb7c7e",
            "_dom_classes": [],
            "description": "100%",
            "_model_name": "FloatProgressModel",
            "bar_style": "success",
            "max": 5,
            "_view_module": "@jupyter-widgets/controls",
            "_model_module_version": "1.5.0",
            "value": 5,
            "_view_count": null,
            "_view_module_version": "1.5.0",
            "orientation": "horizontal",
            "min": 0,
            "description_tooltip": null,
            "_model_module": "@jupyter-widgets/controls",
            "layout": "IPY_MODEL_bfc3992841404c6f9491734b61c25aa0"
          }
        },
        "434c043ccab140718426c3b2b061887b": {
          "model_module": "@jupyter-widgets/controls",
          "model_name": "HTMLModel",
          "state": {
            "_view_name": "HTMLView",
            "style": "IPY_MODEL_56a81664794e438f92b01465a09f9209",
            "_dom_classes": [],
            "description": "",
            "_model_name": "HTMLModel",
            "placeholder": "​",
            "_view_module": "@jupyter-widgets/controls",
            "_model_module_version": "1.5.0",
            "value": " 5/5 [00:28&lt;00:00,  5.63s/it]",
            "_view_count": null,
            "_view_module_version": "1.5.0",
            "description_tooltip": null,
            "_model_module": "@jupyter-widgets/controls",
            "layout": "IPY_MODEL_6030e338d6d94c3b9caede4f57c23674"
          }
        },
        "585dad165a3e44c39ba1dc0d15cb7c7e": {
          "model_module": "@jupyter-widgets/controls",
          "model_name": "ProgressStyleModel",
          "state": {
            "_view_name": "StyleView",
            "_model_name": "ProgressStyleModel",
            "description_width": "initial",
            "_view_module": "@jupyter-widgets/base",
            "_model_module_version": "1.5.0",
            "_view_count": null,
            "_view_module_version": "1.2.0",
            "bar_color": null,
            "_model_module": "@jupyter-widgets/controls"
          }
        },
        "bfc3992841404c6f9491734b61c25aa0": {
          "model_module": "@jupyter-widgets/base",
          "model_name": "LayoutModel",
          "state": {
            "_view_name": "LayoutView",
            "grid_template_rows": null,
            "right": null,
            "justify_content": null,
            "_view_module": "@jupyter-widgets/base",
            "overflow": null,
            "_model_module_version": "1.2.0",
            "_view_count": null,
            "flex_flow": null,
            "width": null,
            "min_width": null,
            "border": null,
            "align_items": null,
            "bottom": null,
            "_model_module": "@jupyter-widgets/base",
            "top": null,
            "grid_column": null,
            "overflow_y": null,
            "overflow_x": null,
            "grid_auto_flow": null,
            "grid_area": null,
            "grid_template_columns": null,
            "flex": null,
            "_model_name": "LayoutModel",
            "justify_items": null,
            "grid_row": null,
            "max_height": null,
            "align_content": null,
            "visibility": null,
            "align_self": null,
            "height": null,
            "min_height": null,
            "padding": null,
            "grid_auto_rows": null,
            "grid_gap": null,
            "max_width": null,
            "order": null,
            "_view_module_version": "1.2.0",
            "grid_template_areas": null,
            "object_position": null,
            "object_fit": null,
            "grid_auto_columns": null,
            "margin": null,
            "display": null,
            "left": null
          }
        },
        "56a81664794e438f92b01465a09f9209": {
          "model_module": "@jupyter-widgets/controls",
          "model_name": "DescriptionStyleModel",
          "state": {
            "_view_name": "StyleView",
            "_model_name": "DescriptionStyleModel",
            "description_width": "",
            "_view_module": "@jupyter-widgets/base",
            "_model_module_version": "1.5.0",
            "_view_count": null,
            "_view_module_version": "1.2.0",
            "_model_module": "@jupyter-widgets/controls"
          }
        },
        "6030e338d6d94c3b9caede4f57c23674": {
          "model_module": "@jupyter-widgets/base",
          "model_name": "LayoutModel",
          "state": {
            "_view_name": "LayoutView",
            "grid_template_rows": null,
            "right": null,
            "justify_content": null,
            "_view_module": "@jupyter-widgets/base",
            "overflow": null,
            "_model_module_version": "1.2.0",
            "_view_count": null,
            "flex_flow": null,
            "width": null,
            "min_width": null,
            "border": null,
            "align_items": null,
            "bottom": null,
            "_model_module": "@jupyter-widgets/base",
            "top": null,
            "grid_column": null,
            "overflow_y": null,
            "overflow_x": null,
            "grid_auto_flow": null,
            "grid_area": null,
            "grid_template_columns": null,
            "flex": null,
            "_model_name": "LayoutModel",
            "justify_items": null,
            "grid_row": null,
            "max_height": null,
            "align_content": null,
            "visibility": null,
            "align_self": null,
            "height": null,
            "min_height": null,
            "padding": null,
            "grid_auto_rows": null,
            "grid_gap": null,
            "max_width": null,
            "order": null,
            "_view_module_version": "1.2.0",
            "grid_template_areas": null,
            "object_position": null,
            "object_fit": null,
            "grid_auto_columns": null,
            "margin": null,
            "display": null,
            "left": null
          }
        }
      }
    }
  },
  "cells": [
    {
      "cell_type": "markdown",
      "metadata": {
        "id": "view-in-github",
        "colab_type": "text"
      },
      "source": [
        "<a href=\"https://colab.research.google.com/github/setitfree/Everything/blob/main/distribute_Lab1.ipynb\" target=\"_parent\"><img src=\"https://colab.research.google.com/assets/colab-badge.svg\" alt=\"Open In Colab\"/></a>"
      ]
    },
    {
      "cell_type": "markdown",
      "metadata": {
        "id": "nWHZlEbr_34A"
      },
      "source": [
        "## Lab 1: Goodreads Parsing and Scraping\r\n",
        "**Univ.AI** <br>\r\n",
        "**DS-1 Cohort 1**\r\n"
      ]
    },
    {
      "cell_type": "markdown",
      "metadata": {
        "id": "0dcNwcwJsJhh"
      },
      "source": [
        "## Table of Contents\r\n",
        "* [Lab1: Goodreads Scraping and Parsing](#Lab1:-Goodreads-Scraping-and-Parsing)\r\n",
        "  * [Learning Goals](##Learning-Goals)\r\n",
        "  * [Q1: Scrape the \"Best Books ever\" web page](##Q1:-Scrape-the-\"Best-Books-ever\"-web-page)\r\n",
        "  * [Q2: Parse the page, extract book urls](##Q2:-Parse-the-page,-extract-book-urls)\r\n",
        "  * [Q3: Scrape the web page of each book](##Q3:-Scrape-the-web-page-of-each-book)\r\n",
        "  * [Q4: Parse each books page, extract information](##Q4:-Parse-each-books-page,-extract-information)\r\n",
        "    * [4.1 Extract genres](###4.1-Extract-Genres)\r\n",
        "    * [4.2 Extract Published Year](###4.2-Extract-Published-Year)\r\n",
        "    * [4.3 Extract Rating, ISBN, Title of the book, Author and Rating Count](###4.3-Extract-Rating,-ISBN,-Title-of-the-book,-Author-and-Rating-Count)\r\n",
        "    * [4.4 Creating a DataFrame](###4.4-Creating-a-DataFrame)\r\n"
      ]
    },
    {
      "cell_type": "markdown",
      "metadata": {
        "id": "Z3Tuwno9_367"
      },
      "source": [
        "## Learning Goals \n",
        "Goodreads has put out a list of the \"Best Books ever\", as voted on by around 200,000 people from the general Goodreads community. \n",
        "\n",
        "In this lab, we will be scraping and extracting information from Goodread's \"[Best Books ever](https://www.goodreads.com/list/show/1.Best_Books_Ever?page=1)\" list.\n",
        "\n",
        "This lab consists of four main parts:\n",
        "1. Scraping the \"Best Books ever\" web page\n",
        "2. Parsing the page, extract book urls\n",
        "3. Scraping the web page of each book\n",
        "4. Parsing a book page, extract book properties\n",
        "\n",
        "This lab will develop your skills in:\n",
        "* Exploring web pages through developer tools \n",
        "* Scraping and Parsing using Beautiful Soup and requests"
      ]
    },
    {
      "cell_type": "code",
      "metadata": {
        "id": "6PPYEYMj_37E"
      },
      "source": [
        "#Import libraries\n",
        "%matplotlib inline\n",
        "import numpy as np\n",
        "import matplotlib.pyplot as plt\n",
        "import pandas as pd\n",
        "import re\n",
        "import time, requests\n",
        "from tqdm.notebook import tqdm"
      ],
      "execution_count": 159,
      "outputs": []
    },
    {
      "cell_type": "markdown",
      "metadata": {
        "id": "SxSM_hL__37K"
      },
      "source": [
        "## Q1: Scrape the  \"Best Books ever\" web page\n",
        "We're going to see the structure of Goodread's best books list. \n",
        "\n",
        "To get this page we use pythons [requests module](https://requests.readthedocs.io/en/master/). "
      ]
    },
    {
      "cell_type": "code",
      "metadata": {
        "id": "yfZ5KA5i_37O"
      },
      "source": [
        "#Getting the url using requests module\n",
        "URLSTART=\"https://www.goodreads.com\"\n",
        "BESTBOOKS=\"/list/show/1.Best_Books_Ever?page=\"\n",
        "url = URLSTART+BESTBOOKS+'1'\n",
        "page = requests.get(url)"
      ],
      "execution_count": 160,
      "outputs": []
    },
    {
      "cell_type": "markdown",
      "metadata": {
        "id": "63XN7F7evAK5"
      },
      "source": [
        "Check the status of the page - 200 is OK and 404 is not good!"
      ]
    },
    {
      "cell_type": "code",
      "metadata": {
        "colab": {
          "base_uri": "https://localhost:8080/"
        },
        "id": "DayARHGc_37d",
        "outputId": "85f81b7f-f879-4675-d65a-f51e2e1e70df"
      },
      "source": [
        "page.status_code\n"
      ],
      "execution_count": 161,
      "outputs": [
        {
          "output_type": "execute_result",
          "data": {
            "text/plain": [
              "200"
            ]
          },
          "metadata": {
            "tags": []
          },
          "execution_count": 161
        }
      ]
    },
    {
      "cell_type": "markdown",
      "metadata": {
        "id": "iLc5msTFvIOt"
      },
      "source": [
        "Now that we are familiar with pythons request module, let us access the first two pages from Goodreads. \r\n",
        "\r\n",
        "This will mean you will need to scrape **two** URLs: https://www.goodreads.com/list/show/1.Best_Books_Ever?page=1 and  https://www.goodreads.com/list/show/1.Best_Books_Ever?page=2. \r\n",
        "\r\n",
        "<br>\r\n",
        "\r\n",
        "**Hint:** To do this, you can put your request.get() function in a `for` loop.<br>\r\n",
        "You will also need to use the time.sleep() function to wait for 1 second between the two get requests so that Goodread's doesn't think you are a threat attempting to mount a denial-of-service attack!<br>\r\n",
        "In addition to this, store the HTML text in a dictionary `page_dict`. The key should be the page number (1 or 2) and the value should be the HTML text corresponding the page."
      ]
    },
    {
      "cell_type": "code",
      "metadata": {
        "id": "CFAKLa5d_37i"
      },
      "source": [
        "#Loop to fetch 2 pages of \"best-books\" from goodreads. \n",
        "URLSTART=\"https://www.goodreads.com\"\n",
        "BESTBOOKS=\"/list/show/1.Best_Books_Ever?page=\"\n",
        "\n",
        "page_dict={}\n",
        "\n",
        "def getPageDataByPageID(id):\n",
        "  url = URLSTART+BESTBOOKS+str(id)\n",
        "  page = requests.get(url)\n",
        "  if(page.status_code == 200):\n",
        "    return page.text\n",
        "  return null \n",
        "\n",
        "for i in range (1, 3):\n",
        "  page_dict[i] = getPageDataByPageID(i)\n",
        "  time.sleep(1)\n"
      ],
      "execution_count": 162,
      "outputs": []
    },
    {
      "cell_type": "code",
      "metadata": {
        "colab": {
          "base_uri": "https://localhost:8080/"
        },
        "id": "F34CEhg2ty6V",
        "outputId": "6559026d-c07e-49d7-d8e0-fc1a877d853b"
      },
      "source": [
        "print(len(page_dict))"
      ],
      "execution_count": 163,
      "outputs": [
        {
          "output_type": "stream",
          "text": [
            "2\n"
          ],
          "name": "stdout"
        }
      ]
    },
    {
      "cell_type": "markdown",
      "metadata": {
        "id": "ghXGaY1s_37p"
      },
      "source": [
        "## Q2: Parse the page, extract book urls\n",
        "\n",
        "Our next step should be to parse the HTML text we have saved from the previous section and extract the information we need. \n",
        "\n",
        "To do this, we will be using BeautifulSoup to transform HTML content into Python data structures. You can also use other libraries like PyQuery if you are comfortable with jQuery, but we will be using BeautifulSoup.\n"
      ]
    },
    {
      "cell_type": "code",
      "metadata": {
        "id": "es2gh_EQ_37w"
      },
      "source": [
        "#Import BeautifulSoup\n",
        "from bs4 import BeautifulSoup"
      ],
      "execution_count": 164,
      "outputs": []
    },
    {
      "cell_type": "markdown",
      "metadata": {
        "id": "YOeTQrYtxILB"
      },
      "source": [
        "Our aim is to extract the **book URLs** on the page in order to use it in further sections. \r\n",
        "\r\n",
        "To do this, we look for the elements with class bookTitle, extract the urls, and write them into a dictionary `urldict` where the keys are the page numbers and the values are a list of the book URLs extracted from the page.\r\n",
        "\r\n",
        "\r\n",
        "**Hint:** While parsing the HTML, look for the HTML a element, but only the one that has a CSS class of `bookTitle`. If you look at the page source, you'll see a construct like **`class=bookTitle`** on the table as seen below:\r\n",
        "<br><br>\r\n",
        "![goodreadsexample](https://drive.google.com/uc?export=view&id=1PUvIe7VkXFSkvrj4pZm0pRKWr6W8Rw0F)\r\n"
      ]
    },
    {
      "cell_type": "code",
      "metadata": {
        "id": "iAjmZFIH_375",
        "colab": {
          "base_uri": "https://localhost:8080/"
        },
        "outputId": "42193a68-5217-4dec-9b83-bc297b24ee9e"
      },
      "source": [
        "urldict={}\n",
        "\n",
        "for i in range (1,3):\n",
        "  soup = BeautifulSoup(page_dict[i], 'html.parser')\n",
        "  bookTitles = soup.find_all(\"a\", \"bookTitle\")\n",
        "  titlelist = []\n",
        "  for bookTitle in bookTitles:\n",
        "    titlelist.append(bookTitle[\"href\"])\n",
        "    # print( bookTitle[\"href\"],\"::\", bookTitle.span.contents[0])\n",
        "  urldict[i] = titlelist\n",
        "  print(len(urldict[i]))"
      ],
      "execution_count": 165,
      "outputs": [
        {
          "output_type": "stream",
          "text": [
            "100\n",
            "100\n"
          ],
          "name": "stdout"
        }
      ]
    },
    {
      "cell_type": "markdown",
      "metadata": {
        "id": "S5c9Ip_A_379"
      },
      "source": [
        "## Q3: Scrape the web page of each book"
      ]
    },
    {
      "cell_type": "markdown",
      "metadata": {
        "id": "5GB1tiwv4qdH"
      },
      "source": [
        "Now that we have the book URLs in a dictionary `urldict`, we can parse the web pages of the books itself to extract some information. <br>\r\n",
        "\r\n",
        "Before we extract information, we will need to get the HTML text for each book's page. \r\n",
        "Scrape the books web pages and store the HTML text for each book in a dictionary named `bookdict` using a `for` loop in a similar fashion as before."
      ]
    },
    {
      "cell_type": "code",
      "metadata": {
        "colab": {
          "base_uri": "https://localhost:8080/",
          "height": 149
        },
        "id": "3Hfb0MK3_37_",
        "outputId": "4ca2e9aa-59e5-4269-d195-8fe573127ead"
      },
      "source": [
        "#This is just an **example** to understand how to scarpe these files\n",
        "#Scraping one of the files\n",
        "URLSTART=\"https://www.goodreads.com\"\n",
        "for i in range(1,3):\n",
        "book_url=URLSTART+urldict[2][0]\n",
        "stuff=requests.get(book_url)\n",
        "\n",
        "# #Check the status of the page\n",
        "print(stuff.status_code)\n",
        "\n",
        "#All OK!"
      ],
      "execution_count": 205,
      "outputs": [
        {
          "output_type": "error",
          "ename": "IndentationError",
          "evalue": "ignored",
          "traceback": [
            "\u001b[0;36m  File \u001b[0;32m\"<ipython-input-205-c3c375b0ca16>\"\u001b[0;36m, line \u001b[0;32m5\u001b[0m\n\u001b[0;31m    book_url=URLSTART+urldict[2][0]\u001b[0m\n\u001b[0m           ^\u001b[0m\n\u001b[0;31mIndentationError\u001b[0m\u001b[0;31m:\u001b[0m expected an indented block\n"
          ]
        }
      ]
    },
    {
      "cell_type": "code",
      "metadata": {
        "id": "ZUUSSVI8Y2tT",
        "outputId": "932968cc-6ca4-4f63-ffc4-0ae7a4d322d5",
        "colab": {
          "base_uri": "https://localhost:8080/",
          "height": 58
        }
      },
      "source": [
        "x = URLSTART+urldict[2][0]\n",
        "x"
      ],
      "execution_count": 197,
      "outputs": [
        {
          "output_type": "execute_result",
          "data": {
            "application/vnd.google.colaboratory.intrinsic+json": {
              "type": "string"
            },
            "text/plain": [
              "'https://www.goodreads.com/book/show/153747.Moby_Dick_or_the_Whale'"
            ]
          },
          "metadata": {
            "tags": []
          },
          "execution_count": 197
        }
      ]
    },
    {
      "cell_type": "code",
      "metadata": {
        "id": "46QEkZ4GbgZm"
      },
      "source": [
        "y = requests.get(x).text\n",
        "y = BeautifulSoup(y)\n",
        "y"
      ],
      "execution_count": null,
      "outputs": []
    },
    {
      "cell_type": "code",
      "metadata": {
        "id": "WxZDgaKxBMq_",
        "outputId": "8a2dc0db-c641-4ae9-c9c6-54693e1cd311",
        "colab": {
          "base_uri": "https://localhost:8080/"
        }
      },
      "source": [
        "# Published Year\n",
        "\n",
        "\n",
        "\n",
        "published_year = y.find_all('div','row')[1].contents[0].split('\\n')[2].strip()\n",
        "print(\"Published in the year :\", published_year)"
      ],
      "execution_count": 177,
      "outputs": [
        {
          "output_type": "stream",
          "text": [
            "Published in the year : May 23rd 2006\n"
          ],
          "name": "stdout"
        }
      ]
    },
    {
      "cell_type": "code",
      "metadata": {
        "id": "BPy4xP5WCQig",
        "outputId": "322bf313-d90f-45d6-dc44-29524981ebc1",
        "colab": {
          "base_uri": "https://localhost:8080/"
        }
      },
      "source": [
        "# ISBN\n",
        "\n",
        "ISBN = y.find_all(\"div\", {\"class\": \"infoBoxRowItem\"})[1].contents[0].split()\n",
        "ISBN"
      ],
      "execution_count": 178,
      "outputs": [
        {
          "output_type": "execute_result",
          "data": {
            "text/plain": [
              "['English']"
            ]
          },
          "metadata": {
            "tags": []
          },
          "execution_count": 178
        }
      ]
    },
    {
      "cell_type": "code",
      "metadata": {
        "id": "2oIWC3y2HOP3",
        "outputId": "c87ec4d3-6ab9-482d-f681-fb37faf8bff6",
        "colab": {
          "base_uri": "https://localhost:8080/",
          "height": 58
        }
      },
      "source": [
        "# Book Title\n",
        "\n",
        "book_name = y.find('h1', attrs={\"id\": \"bookTitle\"}).contents[0].strip()\n",
        "book_name"
      ],
      "execution_count": 207,
      "outputs": [
        {
          "output_type": "execute_result",
          "data": {
            "application/vnd.google.colaboratory.intrinsic+json": {
              "type": "string"
            },
            "text/plain": [
              "'Moby-Dick or, the Whale'"
            ]
          },
          "metadata": {
            "tags": []
          },
          "execution_count": 207
        }
      ]
    },
    {
      "cell_type": "code",
      "metadata": {
        "id": "iCZHLra4I7-N",
        "outputId": "27fabdae-e1dc-4caa-a387-fd9bd6c829f8",
        "colab": {
          "base_uri": "https://localhost:8080/"
        }
      },
      "source": [
        "# Author Name\n",
        "\n",
        "\n",
        "[author['href'] for author in y.find(\"span\",attrs={\"itemprop\": \"author\"}).findChildren('a')]\n",
        "#print(Authorname, \",\", end=\" \")"
      ],
      "execution_count": 202,
      "outputs": [
        {
          "output_type": "execute_result",
          "data": {
            "text/plain": [
              "['https://www.goodreads.com/author/show/1624.Herman_Melville',\n",
              " 'https://www.goodreads.com/author/show/13903.Andrew_Delbanco',\n",
              " 'https://www.goodreads.com/author/show/21818.Tom_Quirk',\n",
              " 'https://www.goodreads.com/author/show/171263.Rockwell_Kent']"
            ]
          },
          "metadata": {
            "tags": []
          },
          "execution_count": 202
        }
      ]
    },
    {
      "cell_type": "code",
      "metadata": {
        "id": "17lgRIaVPEd2",
        "outputId": "17aa4afa-1863-47fa-bd29-1bc47d1b27da",
        "colab": {
          "base_uri": "https://localhost:8080/"
        }
      },
      "source": [
        "# Genre\n",
        "\n",
        "for i in range(0,14):\n",
        "  genress = soup.find_all('a', attrs={\"class\":\"actionLinkLite bookPageGenreLink\"})[i]['href']#.contents[0] \n",
        "  print(genress, \"|\", end= \" \")"
      ],
      "execution_count": 156,
      "outputs": [
        {
          "output_type": "stream",
          "text": [
            "/genres/classics | /genres/fiction | /genres/literature | /genres/adventure | /genres/novels | /genres/historical | /genres/historical-fiction | /genres/literature | /genres/american | /genres/literature | /genres/19th-century | /genres/classics | /genres/classic-literature | /genres/audiobook | "
          ],
          "name": "stdout"
        }
      ]
    },
    {
      "cell_type": "code",
      "metadata": {
        "id": "kOkOAm8OXB23"
      },
      "source": [
        "\n",
        "def details(soup):\n",
        "  detail_dict = {}\n",
        "  Title = soup.find('h1', attrs={\"id\": \"bookTitle\"}).contents[0].strip()\n",
        "  ISBN = soup.find_all(\"div\", {\"class\": \"infoBoxRowItem\"})[1].contents[0].split()\n",
        "  Author_name = [author['href'] for author in soup.find(\"span\",attrs={\"itemprop\": \"author\"}).findChildren('a')]\n",
        "  detail_dict = {\"Title\" : Title, \"Isbn\": ISBN, \"AuthorName\": Author_name}\n",
        "  return detail_dict\n"
      ],
      "execution_count": 204,
      "outputs": []
    },
    {
      "cell_type": "code",
      "metadata": {
        "id": "khaZJs_GXBtg",
        "outputId": "007860c7-9a55-4912-fa37-be36685a8129",
        "colab": {
          "base_uri": "https://localhost:8080/",
          "height": 134,
          "referenced_widgets": [
            "f0601435aabf484c88e6e3d722b9817a",
            "68257ce4db184e09bf3893b9e50b64dd",
            "5bb25f41f34342e3ab38632c7d5f2816",
            "bf311fdb626146ca8c1fe5802aeb419a",
            "5b8b8550d65f46468d6fd0b3a19b4f7a",
            "a136e96758d04ddfae8b2678e6ca7afa",
            "299173d48d89406d8ad3ec379f37bc79",
            "efbc879cbe344f4084241eac63b45986",
            "fcf0ba61f32a47c1a0ddc2243e4b08e8",
            "80e63021f7e249c38d74c1afe0949e29",
            "7da28a71261841348fd5059706be6fd4",
            "434c043ccab140718426c3b2b061887b",
            "585dad165a3e44c39ba1dc0d15cb7c7e",
            "bfc3992841404c6f9491734b61c25aa0",
            "56a81664794e438f92b01465a09f9209",
            "6030e338d6d94c3b9caede4f57c23674"
          ]
        }
      },
      "source": [
        "list_of_books = []\n",
        "for i in range(1,3):\n",
        "  for j in tqdm(range(5)):\n",
        "    book_url=URLSTART+urldict[i][j]\n",
        "    stuff=requests.get(book_url)\n",
        "    stuffs = BeautifulSoup(stuff.text, \"html.parser\")\n",
        "    detail_dicts = details(stuffs)\n",
        "    list_of_books.append(detail_dicts)\n",
        "    time.sleep(5)"
      ],
      "execution_count": 208,
      "outputs": [
        {
          "output_type": "display_data",
          "data": {
            "application/vnd.jupyter.widget-view+json": {
              "model_id": "f0601435aabf484c88e6e3d722b9817a",
              "version_minor": 0,
              "version_major": 2
            },
            "text/plain": [
              "HBox(children=(FloatProgress(value=0.0, max=5.0), HTML(value='')))"
            ]
          },
          "metadata": {
            "tags": []
          }
        },
        {
          "output_type": "stream",
          "text": [
            "\n"
          ],
          "name": "stdout"
        },
        {
          "output_type": "display_data",
          "data": {
            "application/vnd.jupyter.widget-view+json": {
              "model_id": "fcf0ba61f32a47c1a0ddc2243e4b08e8",
              "version_minor": 0,
              "version_major": 2
            },
            "text/plain": [
              "HBox(children=(FloatProgress(value=0.0, max=5.0), HTML(value='')))"
            ]
          },
          "metadata": {
            "tags": []
          }
        },
        {
          "output_type": "stream",
          "text": [
            "\n"
          ],
          "name": "stdout"
        }
      ]
    },
    {
      "cell_type": "code",
      "metadata": {
        "id": "WVCPRaavXBoq",
        "outputId": "36f7a37f-f67d-44bb-e882-a58d225e3514",
        "colab": {
          "base_uri": "https://localhost:8080/",
          "height": 221
        }
      },
      "source": [
        "df = pd.DataFrame.from_records(list_of_books)\n",
        "df.head()"
      ],
      "execution_count": 209,
      "outputs": [
        {
          "output_type": "execute_result",
          "data": {
            "text/html": [
              "<div>\n",
              "<style scoped>\n",
              "    .dataframe tbody tr th:only-of-type {\n",
              "        vertical-align: middle;\n",
              "    }\n",
              "\n",
              "    .dataframe tbody tr th {\n",
              "        vertical-align: top;\n",
              "    }\n",
              "\n",
              "    .dataframe thead th {\n",
              "        text-align: right;\n",
              "    }\n",
              "</style>\n",
              "<table border=\"1\" class=\"dataframe\">\n",
              "  <thead>\n",
              "    <tr style=\"text-align: right;\">\n",
              "      <th></th>\n",
              "      <th>Title</th>\n",
              "      <th>Isbn</th>\n",
              "      <th>AuthorName</th>\n",
              "    </tr>\n",
              "  </thead>\n",
              "  <tbody>\n",
              "    <tr>\n",
              "      <th>0</th>\n",
              "      <td>The Hunger Games</td>\n",
              "      <td>[0439023483]</td>\n",
              "      <td>[https://www.goodreads.com/author/show/153394....</td>\n",
              "    </tr>\n",
              "    <tr>\n",
              "      <th>1</th>\n",
              "      <td>Harry Potter and the Order of the Phoenix</td>\n",
              "      <td>[0439358078]</td>\n",
              "      <td>[https://www.goodreads.com/author/show/1077326...</td>\n",
              "    </tr>\n",
              "    <tr>\n",
              "      <th>2</th>\n",
              "      <td>To Kill a Mockingbird</td>\n",
              "      <td>[English]</td>\n",
              "      <td>[https://www.goodreads.com/author/show/1825.Ha...</td>\n",
              "    </tr>\n",
              "    <tr>\n",
              "      <th>3</th>\n",
              "      <td>Pride and Prejudice</td>\n",
              "      <td>[English]</td>\n",
              "      <td>[https://www.goodreads.com/author/show/1265.Ja...</td>\n",
              "    </tr>\n",
              "    <tr>\n",
              "      <th>4</th>\n",
              "      <td>Twilight</td>\n",
              "      <td>[0316015849]</td>\n",
              "      <td>[https://www.goodreads.com/author/show/941441....</td>\n",
              "    </tr>\n",
              "  </tbody>\n",
              "</table>\n",
              "</div>"
            ],
            "text/plain": [
              "                                       Title  ...                                         AuthorName\n",
              "0                           The Hunger Games  ...  [https://www.goodreads.com/author/show/153394....\n",
              "1  Harry Potter and the Order of the Phoenix  ...  [https://www.goodreads.com/author/show/1077326...\n",
              "2                      To Kill a Mockingbird  ...  [https://www.goodreads.com/author/show/1825.Ha...\n",
              "3                        Pride and Prejudice  ...  [https://www.goodreads.com/author/show/1265.Ja...\n",
              "4                                   Twilight  ...  [https://www.goodreads.com/author/show/941441....\n",
              "\n",
              "[5 rows x 3 columns]"
            ]
          },
          "metadata": {
            "tags": []
          },
          "execution_count": 209
        }
      ]
    },
    {
      "cell_type": "code",
      "metadata": {
        "id": "RaGjAai_XBj6"
      },
      "source": [
        ""
      ],
      "execution_count": null,
      "outputs": []
    },
    {
      "cell_type": "code",
      "metadata": {
        "id": "pf8K6hUiUVi8",
        "colab": {
          "base_uri": "https://localhost:8080/"
        },
        "outputId": "a36a8aff-4306-46d6-9618-7b2d022c29f2"
      },
      "source": [
        "bookdict={}\n",
        "soup = BeautifulSoup(stuff.text, 'html.parser')\n",
        "# To parse Title\n",
        "page_title = soup.find('h1', {'id': 'bookTitle'}).contents[0].split('\\n')[1].strip()\n",
        "print(\"Title\", \":\", page_title)\n",
        "\n",
        "# To parse Published Year.\n",
        "published_year = soup.find_all('div','row')[1].contents[0].split('\\n')[2].strip()\n",
        "print(\"Published in the year :\", published_year)\n",
        "\n",
        "# To parse Author.\n",
        "for i in range(0,4):\n",
        "  author_names1 = soup.find_all('span', {'itemprop':'name'})[i].contents[0].split('\\n')[0].strip()\n",
        "  print(\"Author name :\", author_names1, ',', end = \" \") \n",
        "print(\"\\n\")\n",
        "# To parse ISBN.\n",
        "ISBN = soup.find_all(\"div\", {\"class\": \"infoBoxRowItem\"})[1].contents[0].split('\\n')[1].strip()\n",
        "print(\"ISBN :\", ISBN)\n"
      ],
      "execution_count": 10,
      "outputs": [
        {
          "output_type": "stream",
          "text": [
            "Title : Moby-Dick or, the Whale\n",
            "Published in the year : February 21st 2003\n",
            "Author name : Herman Melville , Author name : Andrew Delbanco , Author name : Tom Quirk , Author name : Rockwell Kent , \n",
            "\n",
            "ISBN : 0142437247\n"
          ],
          "name": "stdout"
        }
      ]
    },
    {
      "cell_type": "code",
      "metadata": {
        "id": "cb2bSXOwmy0K"
      },
      "source": [
        "      ## TO PARSE AUTHOR 2ND WAY\n",
        "#author_names2 = soup.find_all('span', {'itemprop':'name'})[0].contents[0].split('\\n')[0].strip()\n",
        "#author_names2 = soup.find_all('span', {'itemprop':'name'})[1].contents[0].split('\\n')[0].strip()\n",
        "#author_names3 = soup.find_all('span', {'itemprop':'name'})[2].contents[0].split('\\n')[0].strip()\n",
        "#author_names4 = soup.find_all('span', {'itemprop':'name'})[3].contents[0].split('\\n')[0].strip()\n",
        "#print('Authors :', author_names1, ',', author_names2, ',', author_names3, ',', author_names4)"
      ],
      "execution_count": null,
      "outputs": []
    },
    {
      "cell_type": "code",
      "metadata": {
        "id": "hjUWYtrkBV9N"
      },
      "source": [
        "#Fetching the actual 200 book pages\r\n",
        "#In the interest of time, we are taking just the first 10 of each page. Running this for 200 books takes 25 min!\r\n",
        "#bookdict={}\r\n",
        "soup = BeautifulSoup(stuff.text, 'html.parser')\r\n",
        "\r\n",
        "#pageMetaDetail  = soup.find_all(\"div\", {\"id\": \"details\"})\r\n",
        "#pageMetaDetail\r\n",
        "#publishedYear   = pageMetaDetail[0].find_all(\"div\", \"row\")[1].contents[0].split(\"\\n\")[2].strip()\r\n",
        "#rating            = soup.find(\"span\", {\"itemprop\": \"ratingValue\"}).contents[0]\r\n",
        "#ISBN = soup.find_all(\"div\", {\"class\": \"infoBoxRowItem\"})[1].contents[0].strip()\r\n",
        "#pageTitle = soup.find(\"h1\", {\"id\": \"bookTitle\"}).contents[0].strip()\r\n",
        "\r\n",
        "#print(soup.find(\"div\", {\"class\": \"authorName__container\"}).find_all(\"span\", {\"itemprop\":\"name\"}).getText())\r\n",
        "#your code here\r\n"
      ],
      "execution_count": null,
      "outputs": []
    },
    {
      "cell_type": "markdown",
      "metadata": {
        "id": "IeDDwZn6-FSn"
      },
      "source": [
        "##Q4: Parse each books page, extract information\r\n",
        "\r\n",
        "Now that we have the HTML text for the books, we can extract information from these web pages. \r\n",
        "We intend to extract the following data:\r\n",
        "\r\n",
        "- Published year\r\n",
        "- Rating\r\n",
        "- ISBN \r\n",
        "- Title of the book\r\n",
        "- Author\r\n",
        "- Genres this book fits in. Since there are several genres associated with each book, you will need to extract the URL of each genre, separated by a pipe '|' like so:\r\n",
        "```\r\n",
        "/genres/young-adult|/genres/fiction|/genres/science-fiction|/genres/dystopia|/genres/fantasy|/genres/science-fiction|/genres/romance|/genres/adventure|\r\n",
        "```\r\n",
        "- Rating count, the number of people who have rated this book\r\n",
        "<br>\r\n",
        "<br> \r\n",
        "All this information can be seen on the web page.\r\n",
        "You will need to go to the developer tools and extract the necessary information. \r\n",
        "<br>\r\n",
        "<br>\r\n",
        "\r\n",
        "Since Published year and Genre require some extra processing to be extracted, we will start by writing 2 functions - `get_genre` and `get_year`."
      ]
    },
    {
      "cell_type": "markdown",
      "metadata": {
        "id": "wXJxwcREJGqQ"
      },
      "source": [
        "### 4.1 Extract Genres\r\n",
        "\r\n",
        "Write a function to get the genres which takes as input the HTML text and outputs a list of the genre URLs."
      ]
    },
    {
      "cell_type": "code",
      "metadata": {
        "id": "c2YIBd9H_38o",
        "colab": {
          "base_uri": "https://localhost:8080/",
          "height": 149
        },
        "outputId": "54dd0cea-499c-41a0-d820-3f17985e42ad"
      },
      "source": [
        "#Extracting genre\n",
        "def get_genre(d):\n",
        "\n",
        "#your code here"
      ],
      "execution_count": null,
      "outputs": [
        {
          "output_type": "error",
          "ename": "SyntaxError",
          "evalue": "ignored",
          "traceback": [
            "\u001b[0;36m  File \u001b[0;32m\"<ipython-input-155-159c9b962e05>\"\u001b[0;36m, line \u001b[0;32m4\u001b[0m\n\u001b[0;31m    #your code here\u001b[0m\n\u001b[0m                   ^\u001b[0m\n\u001b[0;31mSyntaxError\u001b[0m\u001b[0;31m:\u001b[0m unexpected EOF while parsing\n"
          ]
        }
      ]
    },
    {
      "cell_type": "markdown",
      "metadata": {
        "id": "g9WDGFGbJKzp"
      },
      "source": [
        "### 4.2 Extract Published Year"
      ]
    },
    {
      "cell_type": "markdown",
      "metadata": {
        "id": "zP9BpEv5M2nk"
      },
      "source": [
        "Write a function to get the published year which takes as input the HTML text.\r\n",
        "\r\n",
        "You might have to use regular expressions to extract only the year Published Date seen in the web pages."
      ]
    },
    {
      "cell_type": "markdown",
      "metadata": {
        "id": "nM0Smiwf_38h"
      },
      "source": [
        "**Regular expressions** <br>\n",
        "Regular Expressions is a pattern matching mechanism used throughout Computer Science and programming (it's not just specific to Python). A tutorial on Regular Expressions (aka regex) is beond this lab, but below are many great resources that we recommend, if you are interested in them (could be very useful for a homework problem):<br>\n",
        "https://docs.python.org/3.3/library/re.html <br>\n",
        "https://regexone.com <br>\n",
        "https://docs.python.org/3/howto/regex.html <br>\n"
      ]
    },
    {
      "cell_type": "code",
      "metadata": {
        "id": "U1rmGa9B_38j"
      },
      "source": [
        "#Extracting published year\n",
        "yearre = r'\\d{4}'\n",
        "def get_year(d):\n",
        "  years=d.find(\"div\", attrs={\"class\": \"uitext darkGreyText\"})\n",
        "  years=years.findChildren(\"div\")[1].text\n",
        "  yearmatch=re.findall(yearre,years)\n",
        "  years_original=d.find_all(\"nobr\", attrs={\"class\": \"greyText\"})\n",
        "  if years_original!=[]:\n",
        "    finalyear=yearmatch[1]\n",
        "    return finalyear\n",
        "  else:\n",
        "      if len(yearmatch) > 0:\n",
        "          finalyear=yearmatch[0]\n",
        "      else:\n",
        "          finalyear=\"NA\"\n",
        "      return finalyear"
      ],
      "execution_count": null,
      "outputs": []
    },
    {
      "cell_type": "markdown",
      "metadata": {
        "id": "y-y8tarRJUJW"
      },
      "source": [
        "### 4.3 Extract Rating, ISBN, Title of the book, Author and Rating Count"
      ]
    },
    {
      "cell_type": "markdown",
      "metadata": {
        "id": "Aemp8j2gJfNf"
      },
      "source": [
        "Now that you have created functions to extract genres and published years, you can extract the rest of the fields in a line or two.\r\n",
        "\r\n",
        "Extract the other fields and incorporate your functions to get a **list of dictionaries**. Each element in the list is a dictionary with the information you have extracted (Published year, Rating, ISBN, Title of the book, Author, Genres, Rating Count).\r\n",
        "<br>\r\n",
        "<br>\r\n",
        "So **each element in the list** should look something like this:\r\n",
        "```\r\n",
        "{'author': 'https://www.goodreads.com/author/show/153394.Suzanne_Collins',\r\n",
        " 'booktype': 'books.book',\r\n",
        " 'rating': 4.33,\r\n",
        " 'genres': '/genres/young-adult|/genres/fiction|/genres/science-fiction|/genres/dystopia|/genres/fantasy|/genres/science-fiction|/genres/romance|/genres/adventure|/genres/young-adult|/genres/teen|/genres/apocalyptic|/genres/post-apocalyptic|/genres/action',\r\n",
        " 'isbn': '9780439023481',\r\n",
        " 'ratingCount': '6554254',\r\n",
        " 'title': 'The Hunger Games (The Hunger Games, #1)',\r\n",
        " 'year': '2008'}\r\n",
        "```\r\n",
        "\r\n",
        "**Note**: Remember to convert your list of genres to a string seperated with the pipe character '|'.\r\n"
      ]
    },
    {
      "cell_type": "code",
      "metadata": {
        "id": "5TKaGEt6_38p"
      },
      "source": [
        "listofdicts=[]\n",
        "\n",
        "#your code here"
      ],
      "execution_count": null,
      "outputs": []
    },
    {
      "cell_type": "code",
      "metadata": {
        "id": "YKR5bCro_38y"
      },
      "source": [
        "listofdicts[0]"
      ],
      "execution_count": null,
      "outputs": []
    },
    {
      "cell_type": "markdown",
      "metadata": {
        "id": "ZjtwDg2LJpuv"
      },
      "source": [
        "### 4.4 Creating a DataFrame\r\n",
        "\r\n",
        "Convert the list of dictionaries created above to a Pandas DataFrame"
      ]
    },
    {
      "cell_type": "code",
      "metadata": {
        "id": "i0bGQ8l-_380"
      },
      "source": [
        "df = pd.DataFrame.from_records(listofdicts)\n",
        "df.head()"
      ],
      "execution_count": null,
      "outputs": []
    },
    {
      "cell_type": "markdown",
      "metadata": {
        "id": "oJPAaLqvQkuB"
      },
      "source": [
        "Convert this dataframe to a csv file and store it using `to_csv`."
      ]
    },
    {
      "cell_type": "code",
      "metadata": {
        "id": "iSgShg17_383"
      },
      "source": [
        "df.to_csv(\"Goodreads.csv\", index=False, header=True)"
      ],
      "execution_count": null,
      "outputs": []
    }
  ]
}