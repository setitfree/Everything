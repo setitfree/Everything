{
  "nbformat": 4,
  "nbformat_minor": 0,
  "metadata": {
    "colab": {
      "name": "My HomeWork1.ipynb",
      "provenance": [],
      "collapsed_sections": [
        "agIKGBkVlm6G",
        "Kd_0dzuslm7B",
        "Fc8dNE4nlm7t",
        "EEWBhVhQlm74",
        "P_G84LnUlm8p",
        "r33k0Rv9lm9M",
        "EBJ95eXwlm-i",
        "lg-gMIZTlm_B",
        "vkU3G3UDH6yn",
        "bhy0LnUiIIjE"
      ],
      "include_colab_link": true
    },
    "kernelspec": {
      "display_name": "Python 3",
      "language": "python",
      "name": "python3"
    },
    "language_info": {
      "codemirror_mode": {
        "name": "ipython",
        "version": 3
      },
      "file_extension": ".py",
      "mimetype": "text/x-python",
      "name": "python",
      "nbconvert_exporter": "python",
      "pygments_lexer": "ipython3",
      "version": "3.7.6"
    },
    "widgets": {
      "application/vnd.jupyter.widget-state+json": {
        "d96a8c92c7814a68ad9318ae2f0c3790": {
          "model_module": "@jupyter-widgets/controls",
          "model_name": "HBoxModel",
          "state": {
            "_view_name": "HBoxView",
            "_dom_classes": [],
            "_model_name": "HBoxModel",
            "_view_module": "@jupyter-widgets/controls",
            "_model_module_version": "1.5.0",
            "_view_count": null,
            "_view_module_version": "1.5.0",
            "box_style": "",
            "layout": "IPY_MODEL_d98671ec15b3413aa916d500c1de8cbc",
            "_model_module": "@jupyter-widgets/controls",
            "children": [
              "IPY_MODEL_715a52dcea70432aab812decec62aaaf",
              "IPY_MODEL_81082bc03ba64590a3663378b50acf40"
            ]
          }
        },
        "d98671ec15b3413aa916d500c1de8cbc": {
          "model_module": "@jupyter-widgets/base",
          "model_name": "LayoutModel",
          "state": {
            "_view_name": "LayoutView",
            "grid_template_rows": null,
            "right": null,
            "justify_content": null,
            "_view_module": "@jupyter-widgets/base",
            "overflow": null,
            "_model_module_version": "1.2.0",
            "_view_count": null,
            "flex_flow": null,
            "width": null,
            "min_width": null,
            "border": null,
            "align_items": null,
            "bottom": null,
            "_model_module": "@jupyter-widgets/base",
            "top": null,
            "grid_column": null,
            "overflow_y": null,
            "overflow_x": null,
            "grid_auto_flow": null,
            "grid_area": null,
            "grid_template_columns": null,
            "flex": null,
            "_model_name": "LayoutModel",
            "justify_items": null,
            "grid_row": null,
            "max_height": null,
            "align_content": null,
            "visibility": null,
            "align_self": null,
            "height": null,
            "min_height": null,
            "padding": null,
            "grid_auto_rows": null,
            "grid_gap": null,
            "max_width": null,
            "order": null,
            "_view_module_version": "1.2.0",
            "grid_template_areas": null,
            "object_position": null,
            "object_fit": null,
            "grid_auto_columns": null,
            "margin": null,
            "display": null,
            "left": null
          }
        },
        "715a52dcea70432aab812decec62aaaf": {
          "model_module": "@jupyter-widgets/controls",
          "model_name": "FloatProgressModel",
          "state": {
            "_view_name": "ProgressView",
            "style": "IPY_MODEL_b7f369130b85414ea4df4f0094abbc8c",
            "_dom_classes": [],
            "description": "100%",
            "_model_name": "FloatProgressModel",
            "bar_style": "success",
            "max": 20,
            "_view_module": "@jupyter-widgets/controls",
            "_model_module_version": "1.5.0",
            "value": 20,
            "_view_count": null,
            "_view_module_version": "1.5.0",
            "orientation": "horizontal",
            "min": 0,
            "description_tooltip": null,
            "_model_module": "@jupyter-widgets/controls",
            "layout": "IPY_MODEL_e8f6a5550b07467fa0599d1414b20c5f"
          }
        },
        "81082bc03ba64590a3663378b50acf40": {
          "model_module": "@jupyter-widgets/controls",
          "model_name": "HTMLModel",
          "state": {
            "_view_name": "HTMLView",
            "style": "IPY_MODEL_36a923e01b1f4eb3a3b3348a2fb3992c",
            "_dom_classes": [],
            "description": "",
            "_model_name": "HTMLModel",
            "placeholder": "​",
            "_view_module": "@jupyter-widgets/controls",
            "_model_module_version": "1.5.0",
            "value": " 20/20 [01:15&lt;00:00,  3.79s/it]",
            "_view_count": null,
            "_view_module_version": "1.5.0",
            "description_tooltip": null,
            "_model_module": "@jupyter-widgets/controls",
            "layout": "IPY_MODEL_9a2fe70974854255aadb0a4a9dde86b0"
          }
        },
        "b7f369130b85414ea4df4f0094abbc8c": {
          "model_module": "@jupyter-widgets/controls",
          "model_name": "ProgressStyleModel",
          "state": {
            "_view_name": "StyleView",
            "_model_name": "ProgressStyleModel",
            "description_width": "initial",
            "_view_module": "@jupyter-widgets/base",
            "_model_module_version": "1.5.0",
            "_view_count": null,
            "_view_module_version": "1.2.0",
            "bar_color": null,
            "_model_module": "@jupyter-widgets/controls"
          }
        },
        "e8f6a5550b07467fa0599d1414b20c5f": {
          "model_module": "@jupyter-widgets/base",
          "model_name": "LayoutModel",
          "state": {
            "_view_name": "LayoutView",
            "grid_template_rows": null,
            "right": null,
            "justify_content": null,
            "_view_module": "@jupyter-widgets/base",
            "overflow": null,
            "_model_module_version": "1.2.0",
            "_view_count": null,
            "flex_flow": null,
            "width": null,
            "min_width": null,
            "border": null,
            "align_items": null,
            "bottom": null,
            "_model_module": "@jupyter-widgets/base",
            "top": null,
            "grid_column": null,
            "overflow_y": null,
            "overflow_x": null,
            "grid_auto_flow": null,
            "grid_area": null,
            "grid_template_columns": null,
            "flex": null,
            "_model_name": "LayoutModel",
            "justify_items": null,
            "grid_row": null,
            "max_height": null,
            "align_content": null,
            "visibility": null,
            "align_self": null,
            "height": null,
            "min_height": null,
            "padding": null,
            "grid_auto_rows": null,
            "grid_gap": null,
            "max_width": null,
            "order": null,
            "_view_module_version": "1.2.0",
            "grid_template_areas": null,
            "object_position": null,
            "object_fit": null,
            "grid_auto_columns": null,
            "margin": null,
            "display": null,
            "left": null
          }
        },
        "36a923e01b1f4eb3a3b3348a2fb3992c": {
          "model_module": "@jupyter-widgets/controls",
          "model_name": "DescriptionStyleModel",
          "state": {
            "_view_name": "StyleView",
            "_model_name": "DescriptionStyleModel",
            "description_width": "",
            "_view_module": "@jupyter-widgets/base",
            "_model_module_version": "1.5.0",
            "_view_count": null,
            "_view_module_version": "1.2.0",
            "_model_module": "@jupyter-widgets/controls"
          }
        },
        "9a2fe70974854255aadb0a4a9dde86b0": {
          "model_module": "@jupyter-widgets/base",
          "model_name": "LayoutModel",
          "state": {
            "_view_name": "LayoutView",
            "grid_template_rows": null,
            "right": null,
            "justify_content": null,
            "_view_module": "@jupyter-widgets/base",
            "overflow": null,
            "_model_module_version": "1.2.0",
            "_view_count": null,
            "flex_flow": null,
            "width": null,
            "min_width": null,
            "border": null,
            "align_items": null,
            "bottom": null,
            "_model_module": "@jupyter-widgets/base",
            "top": null,
            "grid_column": null,
            "overflow_y": null,
            "overflow_x": null,
            "grid_auto_flow": null,
            "grid_area": null,
            "grid_template_columns": null,
            "flex": null,
            "_model_name": "LayoutModel",
            "justify_items": null,
            "grid_row": null,
            "max_height": null,
            "align_content": null,
            "visibility": null,
            "align_self": null,
            "height": null,
            "min_height": null,
            "padding": null,
            "grid_auto_rows": null,
            "grid_gap": null,
            "max_width": null,
            "order": null,
            "_view_module_version": "1.2.0",
            "grid_template_areas": null,
            "object_position": null,
            "object_fit": null,
            "grid_auto_columns": null,
            "margin": null,
            "display": null,
            "left": null
          }
        },
        "1c4320b221b74a1b9aa9d5a1bdb9fdb5": {
          "model_module": "@jupyter-widgets/controls",
          "model_name": "HBoxModel",
          "state": {
            "_view_name": "HBoxView",
            "_dom_classes": [],
            "_model_name": "HBoxModel",
            "_view_module": "@jupyter-widgets/controls",
            "_model_module_version": "1.5.0",
            "_view_count": null,
            "_view_module_version": "1.5.0",
            "box_style": "",
            "layout": "IPY_MODEL_021ad8fbe216410c8b9729ffee3c524c",
            "_model_module": "@jupyter-widgets/controls",
            "children": [
              "IPY_MODEL_71b8b6c2bd4e4cdd9f7d80ea73e1af38",
              "IPY_MODEL_264bb5d9fa1c42e2ab4234af47839982"
            ]
          }
        },
        "021ad8fbe216410c8b9729ffee3c524c": {
          "model_module": "@jupyter-widgets/base",
          "model_name": "LayoutModel",
          "state": {
            "_view_name": "LayoutView",
            "grid_template_rows": null,
            "right": null,
            "justify_content": null,
            "_view_module": "@jupyter-widgets/base",
            "overflow": null,
            "_model_module_version": "1.2.0",
            "_view_count": null,
            "flex_flow": null,
            "width": null,
            "min_width": null,
            "border": null,
            "align_items": null,
            "bottom": null,
            "_model_module": "@jupyter-widgets/base",
            "top": null,
            "grid_column": null,
            "overflow_y": null,
            "overflow_x": null,
            "grid_auto_flow": null,
            "grid_area": null,
            "grid_template_columns": null,
            "flex": null,
            "_model_name": "LayoutModel",
            "justify_items": null,
            "grid_row": null,
            "max_height": null,
            "align_content": null,
            "visibility": null,
            "align_self": null,
            "height": null,
            "min_height": null,
            "padding": null,
            "grid_auto_rows": null,
            "grid_gap": null,
            "max_width": null,
            "order": null,
            "_view_module_version": "1.2.0",
            "grid_template_areas": null,
            "object_position": null,
            "object_fit": null,
            "grid_auto_columns": null,
            "margin": null,
            "display": null,
            "left": null
          }
        },
        "71b8b6c2bd4e4cdd9f7d80ea73e1af38": {
          "model_module": "@jupyter-widgets/controls",
          "model_name": "FloatProgressModel",
          "state": {
            "_view_name": "ProgressView",
            "style": "IPY_MODEL_b7d936ebf6de413b9ce235405f19c266",
            "_dom_classes": [],
            "description": "100%",
            "_model_name": "FloatProgressModel",
            "bar_style": "success",
            "max": 11,
            "_view_module": "@jupyter-widgets/controls",
            "_model_module_version": "1.5.0",
            "value": 11,
            "_view_count": null,
            "_view_module_version": "1.5.0",
            "orientation": "horizontal",
            "min": 0,
            "description_tooltip": null,
            "_model_module": "@jupyter-widgets/controls",
            "layout": "IPY_MODEL_3bf5019daa8b4080b53a38008289881f"
          }
        },
        "264bb5d9fa1c42e2ab4234af47839982": {
          "model_module": "@jupyter-widgets/controls",
          "model_name": "HTMLModel",
          "state": {
            "_view_name": "HTMLView",
            "style": "IPY_MODEL_7725dda454e54a11a3ff3bbfdc31f403",
            "_dom_classes": [],
            "description": "",
            "_model_name": "HTMLModel",
            "placeholder": "​",
            "_view_module": "@jupyter-widgets/controls",
            "_model_module_version": "1.5.0",
            "value": " 11/11 [00:31&lt;00:00,  2.83s/it]",
            "_view_count": null,
            "_view_module_version": "1.5.0",
            "description_tooltip": null,
            "_model_module": "@jupyter-widgets/controls",
            "layout": "IPY_MODEL_2492f1cd5ba04736b2905bb86e843c06"
          }
        },
        "b7d936ebf6de413b9ce235405f19c266": {
          "model_module": "@jupyter-widgets/controls",
          "model_name": "ProgressStyleModel",
          "state": {
            "_view_name": "StyleView",
            "_model_name": "ProgressStyleModel",
            "description_width": "initial",
            "_view_module": "@jupyter-widgets/base",
            "_model_module_version": "1.5.0",
            "_view_count": null,
            "_view_module_version": "1.2.0",
            "bar_color": null,
            "_model_module": "@jupyter-widgets/controls"
          }
        },
        "3bf5019daa8b4080b53a38008289881f": {
          "model_module": "@jupyter-widgets/base",
          "model_name": "LayoutModel",
          "state": {
            "_view_name": "LayoutView",
            "grid_template_rows": null,
            "right": null,
            "justify_content": null,
            "_view_module": "@jupyter-widgets/base",
            "overflow": null,
            "_model_module_version": "1.2.0",
            "_view_count": null,
            "flex_flow": null,
            "width": null,
            "min_width": null,
            "border": null,
            "align_items": null,
            "bottom": null,
            "_model_module": "@jupyter-widgets/base",
            "top": null,
            "grid_column": null,
            "overflow_y": null,
            "overflow_x": null,
            "grid_auto_flow": null,
            "grid_area": null,
            "grid_template_columns": null,
            "flex": null,
            "_model_name": "LayoutModel",
            "justify_items": null,
            "grid_row": null,
            "max_height": null,
            "align_content": null,
            "visibility": null,
            "align_self": null,
            "height": null,
            "min_height": null,
            "padding": null,
            "grid_auto_rows": null,
            "grid_gap": null,
            "max_width": null,
            "order": null,
            "_view_module_version": "1.2.0",
            "grid_template_areas": null,
            "object_position": null,
            "object_fit": null,
            "grid_auto_columns": null,
            "margin": null,
            "display": null,
            "left": null
          }
        },
        "7725dda454e54a11a3ff3bbfdc31f403": {
          "model_module": "@jupyter-widgets/controls",
          "model_name": "DescriptionStyleModel",
          "state": {
            "_view_name": "StyleView",
            "_model_name": "DescriptionStyleModel",
            "description_width": "",
            "_view_module": "@jupyter-widgets/base",
            "_model_module_version": "1.5.0",
            "_view_count": null,
            "_view_module_version": "1.2.0",
            "_model_module": "@jupyter-widgets/controls"
          }
        },
        "2492f1cd5ba04736b2905bb86e843c06": {
          "model_module": "@jupyter-widgets/base",
          "model_name": "LayoutModel",
          "state": {
            "_view_name": "LayoutView",
            "grid_template_rows": null,
            "right": null,
            "justify_content": null,
            "_view_module": "@jupyter-widgets/base",
            "overflow": null,
            "_model_module_version": "1.2.0",
            "_view_count": null,
            "flex_flow": null,
            "width": null,
            "min_width": null,
            "border": null,
            "align_items": null,
            "bottom": null,
            "_model_module": "@jupyter-widgets/base",
            "top": null,
            "grid_column": null,
            "overflow_y": null,
            "overflow_x": null,
            "grid_auto_flow": null,
            "grid_area": null,
            "grid_template_columns": null,
            "flex": null,
            "_model_name": "LayoutModel",
            "justify_items": null,
            "grid_row": null,
            "max_height": null,
            "align_content": null,
            "visibility": null,
            "align_self": null,
            "height": null,
            "min_height": null,
            "padding": null,
            "grid_auto_rows": null,
            "grid_gap": null,
            "max_width": null,
            "order": null,
            "_view_module_version": "1.2.0",
            "grid_template_areas": null,
            "object_position": null,
            "object_fit": null,
            "grid_auto_columns": null,
            "margin": null,
            "display": null,
            "left": null
          }
        }
      }
    }
  },
  "cells": [
    {
      "cell_type": "markdown",
      "metadata": {
        "id": "view-in-github",
        "colab_type": "text"
      },
      "source": [
        "<a href=\"https://colab.research.google.com/github/setitfree/Everything/blob/main/My_HomeWork1.ipynb\" target=\"_parent\"><img src=\"https://colab.research.google.com/assets/colab-badge.svg\" alt=\"Open In Colab\"/></a>"
      ]
    },
    {
      "cell_type": "markdown",
      "metadata": {
        "id": "hTAwWJ5Qlmwk"
      },
      "source": [
        "<img src=\"https://drive.google.com/uc?export=view&id=1nMaBQ7g88duMECw_B4mH8ruxwnIwVzGP\" width=300/> \n",
        "\n",
        "# ML-1: Exploratory Data Analysis, Visualisation & Modeling\n",
        "## Homework 1: Who is the best singer ever?\n",
        "\n",
        "**ML-1 Cohort 1** <br>\n",
        "**Instructor: Dr. Rahul Dave**<br>\n",
        "**Max Score: 100** <br>"
      ]
    },
    {
      "cell_type": "markdown",
      "metadata": {
        "id": "Bv36XfX2X_Sh"
      },
      "source": [
        "Name of people who have worked on this homework: **Ravi Tiwari**, \r\n",
        "**Surojit Bhattacharya** \r\n",
        "\r\n",
        "\r\n"
      ]
    },
    {
      "cell_type": "markdown",
      "metadata": {
        "id": "RZLSPjS6_8GD"
      },
      "source": [
        "## Table of Contents \r\n",
        "* [HW-1: Who is the best singer ever?](#HW-1:-Who-is-the-best-singer-ever?)\r\n",
        "  * [Instructions](##Instructions)\r\n",
        "  * [Learning Goals](##Learning-Goals)\r\n",
        "  * [Q1: Scrape and Parse Wikipedia for Billboard Top 100](##Q1:-Scrape-and-Parse-Wikipedia-for-Billboard-Top-100)\r\n",
        "    * [1.1 Scrape and Parse the Billboard Wikipedia's page for 1970](###1.1-Scrape-and-Parse-the-Billboard-Wikipedia's-page-for-1970)\r\n",
        "    * [1.2 Scrape Billboard Wikipedia's pages from 1992 to 2020](###1.2-Scrape-Billboard-Wikipedia's-pages-from-1992-to-2020)\r\n",
        "    * [1.3 Parse the data](###1.3-Parse-the-data)\r\n",
        "  * [Q2: Construct a year-song-singer dataframe](##Q2:-Construct-a-year-song-singer-dataframe)\r\n",
        "  * [Q3: Scrape and Parse Wikipedia for Information about Artists and Bands](##Q3:-Scrape-and-Parse-Wikipedia-for-Information-about-Artists-and-Bands)\r\n",
        "    * [3.1 Scrape the artist's Wikipedia webpages](###3.1-Scrape-the-artist's-Wikipedia-webpages)\r\n",
        "    * [3.2 Parse the data](###3.2-Parse-the-data)\r\n",
        "  * [Q4: Merging Artist's and Song dataframes](##Q4:-Merging-Artist's-and-Song-dataframes)\r\n",
        "  * [Q5: Pandas and Relational databases](##Q5:-Pandas-and-Relational-databases)\r\n",
        "    * [5.1 Populating the database](###5.1-Populating-the-database)\r\n",
        "    * [5.2 Performing operations on the database](####5.2-Performing-operations-on-the-database)\r\n",
        "      * [5.2.1 Select all singers below the age of 20 whos Zodiac Sign is Scorpio!](####5.2.1-Select-all-singers-below-the-age-of-20-whos-Zodiac-Sign-is-Scorpio!)\r\n",
        "      * [5.2.2 Find the most popular artists with most appearances in Billboard Top 10](####5.2.2-Find-the-most-popular-artists-with-most-appearances-in-Billboard-Top-10)\r\n",
        "      * [5.2.3 Select all songs with ranking less than 6 and order the rows by artist name](####5.2.3-Select-all-songs-with-ranking-less-than-6-and-order-the-rows-by-artist-name)\r\n"
      ]
    },
    {
      "cell_type": "markdown",
      "metadata": {
        "id": "vym0YdCZYCeS"
      },
      "source": [
        "## Instructions"
      ]
    },
    {
      "cell_type": "markdown",
      "metadata": {
        "id": "PMkXfrJWYDtC"
      },
      "source": [
        "- This homework should be submitted in pairs.\r\n",
        "\r\n",
        "- Ensure you and your partner together have submitted the homework only once. Multiple submissions of the same work will be penalised and will cost you 2 points.\r\n",
        "\r\n",
        "- Please restart the kernel and run the entire notebook again before you submit.\r\n",
        "\r\n",
        "- Running cells out of order is a common pitfall in Notebooks. To make sure your code works restart the kernel and run the whole notebook again before you submit. \r\n",
        "\r\n",
        "- To work on the homework, you will first need to fork the repository into your GitHub account and clone it to work on it on your local computer. To submit your homework, push your homework into the same GitHub and upload the link on edStem.\r\n",
        "\r\n",
        "- Submit the homework well before the given deadline. Submissions after the deadline will not be graded.\r\n",
        "\r\n",
        "- We have tried to include all the libraries you may need to do the assignment in the imports statement at the top of this notebook. We strongly suggest that you use those and not others as we may not be familiar with them.\r\n",
        "\r\n",
        "- Comment your code well. This would help the graders in case there is any issue with the notebook while running. It is important to remember that the graders will not troubleshoot your code. \r\n",
        "\r\n",
        "- Please use .head() when viewing data. Do not submit a notebook that is **excessively long**. \r\n",
        "\r\n",
        "- In questions that require code to answer, such as \"calculate the $R^2$\", do not just output the value from a cell. Write a `print()` function that includes a reference to the calculated value, **not hardcoded**. For example: \r\n",
        "```\r\n",
        "print(f'The R^2 is {R:.4f}')\r\n",
        "```\r\n",
        "- Your plots should include clear labels for the $x$ and $y$ axes as well as a descriptive title (\"MSE plot\" is not a descriptive title; \"95 % confidence interval of coefficients of polynomial degree 5\" is).\r\n",
        "\r\n",
        "- **Ensure you make appropriate plots for all the questions it is applicable to, regardless of it being explicitly asked for.**\r\n",
        "\r\n",
        "<hr style=\"height:2pt\">"
      ]
    },
    {
      "cell_type": "markdown",
      "metadata": {
        "id": "Zv8VWFhP_32L"
      },
      "source": [
        "## Learning Goals"
      ]
    },
    {
      "cell_type": "markdown",
      "metadata": {
        "id": "WmqsUs9Olm18"
      },
      "source": [
        "Billboard Magazine puts out a top 100 list of \"singles\" every **year**. \n",
        "In the next two homeworks, you will scrape Wikipedia to try to understand how the public's taste in music has evolved. You will do this by learning about the best singers and groups from each year as determined by the Billboard top 100 charts.\n",
        "\n",
        "This homework consists of five main parts:\n",
        "\n",
        "1. Scraping and Parsing [Wikipedia's Billboard Top 100 singles](https://en.wikipedia.org/wiki/Billboard_Year-End_Hot_100_singles_of_2020) list for every year <br>\n",
        "2. Constructing a year-song-singer dataframe from the scraped data\n",
        "3. Scraping and Parsing Wikipedia's information about the Artists from these Songs \n",
        "4. Merging in both the above dataframes \n",
        "5. Using a Relational Database to perform SQL queries"
      ]
    },
    {
      "cell_type": "markdown",
      "metadata": {
        "id": "EUHkcabZlm2Q"
      },
      "source": [
        "This homework will help develop your skills in:\n",
        "\n",
        "- Web page scraping\n",
        "- Data cleaning and manipulation\n",
        "- Pandas and SQL"
      ]
    },
    {
      "cell_type": "markdown",
      "metadata": {
        "id": "GW_1toqQlm21"
      },
      "source": [
        "---"
      ]
    },
    {
      "cell_type": "code",
      "metadata": {
        "id": "deZ11vb4lm3e",
        "jupyter": {
          "outputs_hidden": false
        }
      },
      "source": [
        "#Import libraries\n",
        "%matplotlib inline\n",
        "import numpy as np\n",
        "import matplotlib.pyplot as plt\n",
        "import pandas as pd\n",
        "import time\n",
        "import json\n",
        "import re\n",
        "import requests"
      ],
      "execution_count": 9,
      "outputs": []
    },
    {
      "cell_type": "markdown",
      "metadata": {
        "id": "X4necLqglm3p"
      },
      "source": [
        "## Q1: Scrape and Parse Wikipedia for Billboard Top 100\n",
        "#### [20 Points]"
      ]
    },
    {
      "cell_type": "markdown",
      "metadata": {
        "id": "3_ajVEDhlm3t"
      },
      "source": [
        "In this first question you will scrape wikipedia for Billboard's top 100.\r\n",
        "\r\n",
        "We will be using [BeautifulSoup](http://www.crummy.com/software/BeautifulSoup/) to transform HTML content into Python data structures. There are other libraries such as [PyQuery](https://pythonhosted.org/pyquery/) (for people who have used [jQuery](https://jquery.com/) that can also be used)."
      ]
    },
    {
      "cell_type": "code",
      "metadata": {
        "id": "c4bbGU0glm3_",
        "jupyter": {
          "outputs_hidden": false
        }
      },
      "source": [
        "#Import Beautiful Soup\r\n",
        "from bs4 import BeautifulSoup\r\n",
        "from tqdm.notebook import tqdm"
      ],
      "execution_count": 19,
      "outputs": []
    },
    {
      "cell_type": "markdown",
      "metadata": {
        "id": "54udQNZ-lm4F"
      },
      "source": [
        "### 1.1 Scrape and Parse the Billboard Wikipedia's page for 1970"
      ]
    },
    {
      "cell_type": "markdown",
      "metadata": {
        "id": "MtxCwDBqlm4f"
      },
      "source": [
        "Use python's `requests` module to obtain (GET) the web page at http://en.wikipedia.org/wiki/Billboard_Year-End_Hot_100_singles_of_1970. \n",
        "From this web page, extract the top 100 singles and their rankings. \n",
        "\n",
        "\n",
        "To do this, create a list of dictionaries, 100 of them to be precise, with the following entries: `{'url': '/wiki/Sugarloaf_(band)', 'ranking': 30, 'band_singer': 'Sugarloaf', 'title': 'Green-Eyed Lady'}`. \n",
        "\n",
        "Name this list of dictionaries `songs`.\n",
        "\n",
        "\n",
        "Here, `url` should be the link for the singer or band (observe that on the web page, there is a link for every song and artist), `ranking` is the ranking of the song, `band_singer` should be the name of the artist(s) and `title` should be the title of the song.\n",
        "\n",
        "\n",
        "We are extracting the `url` of the artist(s) to use at a later stage in the homework."
      ]
    },
    {
      "cell_type": "markdown",
      "metadata": {
        "id": "k1srjTzGlm4t"
      },
      "source": [
        "*Hint:*\n",
        "While parsing the HTML, look for the HTML _tr_ (table row) element, but only the one that has a CSS class of _wikitable_. If you look at the page source, you'll see a construct like __class=wikitable__ on the table as seen below:\n",
        "\n",
        "\n",
        "\n",
        "![Wikipage](\n",
        "https://drive.google.com/uc?export=view&id=1ntewsqyZVH6_RETloTQgrWIyQJAa_02D) "
      ]
    },
    {
      "cell_type": "code",
      "metadata": {
        "id": "teLpU_AZlm4o",
        "jupyter": {
          "outputs_hidden": false
        }
      },
      "source": [
        "#Get the webpage\r\n",
        "urlstart = \"https://en.wikipedia.org\"\r\n",
        "t1970=requests.get(\"http://en.wikipedia.org/wiki/Billboard_Year-End_Hot_100_singles_of_1970\")\r\n",
        "soup = BeautifulSoup(t1970.text, 'html.parser')"
      ],
      "execution_count": 23,
      "outputs": []
    },
    {
      "cell_type": "code",
      "metadata": {
        "id": "X5zBlJd8AFRT"
      },
      "source": [
        "#url = soup.find('a', attrs={'class': 'mw-redirect'})['href']"
      ],
      "execution_count": 27,
      "outputs": []
    },
    {
      "cell_type": "code",
      "metadata": {
        "id": "6p7QBSodlm41",
        "jupyter": {
          "outputs_hidden": false
        },
        "scrolled": true
      },
      "source": [
        "#Parsing the webpage\n",
        "\n",
        "#your code here\n",
        "\n",
        "songs = {new_list : [] for new_list in range(100)}  # '100' list of dict\n",
        "\n",
        "def details(soup):\n",
        "  url = soup.find('a', attrs={'class': 'mw-redirect'})['href']\n",
        "  ranking = soup.find('td').contents[0]\n",
        "  #band_singer = soup.find_all('a', attrs={'title': 'Simon & Garfunkel'})[0].contents[0]\n",
        "  title = soup.find('a', attrs={'class': 'mw-redirect'}).contents[0]\n",
        "  songs = {'URL': url, 'Ranking': ranking, 'Title': title}\n",
        "  return songs"
      ],
      "execution_count": 25,
      "outputs": []
    },
    {
      "cell_type": "code",
      "metadata": {
        "id": "33gPXkJx84w7",
        "colab": {
          "base_uri": "https://localhost:8080/",
          "height": 86,
          "referenced_widgets": [
            "d96a8c92c7814a68ad9318ae2f0c3790",
            "d98671ec15b3413aa916d500c1de8cbc",
            "715a52dcea70432aab812decec62aaaf",
            "81082bc03ba64590a3663378b50acf40",
            "b7f369130b85414ea4df4f0094abbc8c",
            "e8f6a5550b07467fa0599d1414b20c5f",
            "36a923e01b1f4eb3a3b3348a2fb3992c",
            "9a2fe70974854255aadb0a4a9dde86b0"
          ]
        },
        "outputId": "c469376e-9ebb-464d-e166-cb585ee9f2e0"
      },
      "source": [
        "list_of_songs = []\n",
        "for i in tqdm(range(0,20)):\n",
        "  url = soup.find_all('a', attrs={'class': 'mw-redirect'})[i]['href']\n",
        "  haha = urlstart+url\n",
        "  x = requests.get(haha)\n",
        "  parse = BeautifulSoup(x.text, 'html.parser')\n",
        "  songs = details(parse)\n",
        "  list_of_songs.append(songs)\n",
        "  time.sleep(3)"
      ],
      "execution_count": 26,
      "outputs": [
        {
          "output_type": "display_data",
          "data": {
            "application/vnd.jupyter.widget-view+json": {
              "model_id": "d96a8c92c7814a68ad9318ae2f0c3790",
              "version_minor": 0,
              "version_major": 2
            },
            "text/plain": [
              "HBox(children=(FloatProgress(value=0.0, max=20.0), HTML(value='')))"
            ]
          },
          "metadata": {
            "tags": []
          }
        },
        {
          "output_type": "stream",
          "text": [
            "\n"
          ],
          "name": "stdout"
        }
      ]
    },
    {
      "cell_type": "code",
      "metadata": {
        "id": "I0Gka9GX_UBn",
        "colab": {
          "base_uri": "https://localhost:8080/",
          "height": 221
        },
        "outputId": "21f74bf2-5baa-4e8f-da0f-dfc46597d69a"
      },
      "source": [
        " df = pd.DataFrame.from_records(list_of_songs)\n",
        "df.head()"
      ],
      "execution_count": 28,
      "outputs": [
        {
          "output_type": "execute_result",
          "data": {
            "text/html": [
              "<div>\n",
              "<style scoped>\n",
              "    .dataframe tbody tr th:only-of-type {\n",
              "        vertical-align: middle;\n",
              "    }\n",
              "\n",
              "    .dataframe tbody tr th {\n",
              "        vertical-align: top;\n",
              "    }\n",
              "\n",
              "    .dataframe thead th {\n",
              "        text-align: right;\n",
              "    }\n",
              "</style>\n",
              "<table border=\"1\" class=\"dataframe\">\n",
              "  <thead>\n",
              "    <tr style=\"text-align: right;\">\n",
              "      <th></th>\n",
              "      <th>URL</th>\n",
              "      <th>Ranking</th>\n",
              "      <th>Title</th>\n",
              "    </tr>\n",
              "  </thead>\n",
              "  <tbody>\n",
              "    <tr>\n",
              "      <th>0</th>\n",
              "      <td>/w/index.php?title=Bridge_Over_Troubled_Water_...</td>\n",
              "      <td>[[]]</td>\n",
              "      <td>Bridge Over Troubled Water (song)</td>\n",
              "    </tr>\n",
              "    <tr>\n",
              "      <th>1</th>\n",
              "      <td>/w/index.php?title=B.J._Thomas&amp;redirect=no</td>\n",
              "      <td>[[]]</td>\n",
              "      <td>B.J. Thomas</td>\n",
              "    </tr>\n",
              "    <tr>\n",
              "      <th>2</th>\n",
              "      <td>/w/index.php?title=I%27ll_Be_There_(The_Jackso...</td>\n",
              "      <td>[[]]</td>\n",
              "      <td>I'll Be There (The Jackson 5 song)</td>\n",
              "    </tr>\n",
              "    <tr>\n",
              "      <th>3</th>\n",
              "      <td>/w/index.php?title=Sly_%26_the_Family_Stone&amp;re...</td>\n",
              "      <td>[[]]</td>\n",
              "      <td>Sly &amp; the Family Stone</td>\n",
              "    </tr>\n",
              "    <tr>\n",
              "      <th>4</th>\n",
              "      <td>/w/index.php?title=War_(U.S._band)&amp;redirect=no</td>\n",
              "      <td>[[]]</td>\n",
              "      <td>War (U.S. band)</td>\n",
              "    </tr>\n",
              "  </tbody>\n",
              "</table>\n",
              "</div>"
            ],
            "text/plain": [
              "                                                 URL  ...                               Title\n",
              "0  /w/index.php?title=Bridge_Over_Troubled_Water_...  ...   Bridge Over Troubled Water (song)\n",
              "1         /w/index.php?title=B.J._Thomas&redirect=no  ...                         B.J. Thomas\n",
              "2  /w/index.php?title=I%27ll_Be_There_(The_Jackso...  ...  I'll Be There (The Jackson 5 song)\n",
              "3  /w/index.php?title=Sly_%26_the_Family_Stone&re...  ...              Sly & the Family Stone\n",
              "4     /w/index.php?title=War_(U.S._band)&redirect=no  ...                     War (U.S. band)\n",
              "\n",
              "[5 rows x 3 columns]"
            ]
          },
          "metadata": {
            "tags": []
          },
          "execution_count": 28
        }
      ]
    },
    {
      "cell_type": "markdown",
      "metadata": {
        "id": "w6wf4pqKlm48"
      },
      "source": [
        "### 1.2 Scrape Billboard Wikipedia's pages from 1992 to 2020 \r\n",
        "\r\n"
      ]
    },
    {
      "cell_type": "markdown",
      "metadata": {
        "id": "3Spk5hLjlm4_"
      },
      "source": [
        "By visiting urls similar to the one for 1970, we can obtain the billboard top 100 for the years 1992 to 2020. \r\n",
        "\r\n",
        "Store the text from your `requests` in a dictionary called `yearstext`. \r\n",
        "This dictionary should have as its keys the years (as integers from 1992 to 2020). The values corresponding to these keys should be the html text downloaded from Wikipedia.<br>\r\n",
        "So, each entry in `yearstext` will look something like this:\r\n",
        "\r\n",
        "![yearstext](https://drive.google.com/uc?export=view&id=16LNIyznVnAY-N5EN6lsSB9505fXG1-zK)\r\n",
        "\r\n",
        "where the key is 1992 and the value is the HTML at http://en.wikipedia.org/wiki/Billboard_Year-End_Hot_100_singles_of_1992."
      ]
    },
    {
      "cell_type": "markdown",
      "metadata": {
        "id": "8G3NooTslm5H"
      },
      "source": [
        "*Hint*:\n",
        "Put your requests.get() in a `for` loop and keep appending the text from your requests into the dictionary. Use the `time.sleep` function to wait one second between requests, you do not want Wikipedia to think you are a marauding bot attempting to mount a denial-of-service attack."
      ]
    },
    {
      "cell_type": "code",
      "metadata": {
        "id": "BQ8QGrt-HFuu"
      },
      "source": [
        "#Import libraries\n",
        "%matplotlib inline\n",
        "import numpy as np\n",
        "import matplotlib.pyplot as plt\n",
        "import pandas as pd\n",
        "import time\n",
        "import json\n",
        "import re\n",
        "import requests\n",
        "from tqdm.notebook import tqdm"
      ],
      "execution_count": 61,
      "outputs": []
    },
    {
      "cell_type": "code",
      "metadata": {
        "id": "Qa4HP2-1D3j7"
      },
      "source": [
        "url_start1 = \"https://en.wikipedia.org/\"\n",
        "Later_part = \"wiki/Billboard_Year-End_Hot_100_singles_of_\""
      ],
      "execution_count": 45,
      "outputs": []
    },
    {
      "cell_type": "code",
      "metadata": {
        "id": "WmWtNV42lm5Q",
        "outputId": "32bba057-7c9c-4297-861a-809b46e3f179",
        "colab": {
          "base_uri": "https://localhost:8080/",
          "height": 86,
          "referenced_widgets": [
            "1c4320b221b74a1b9aa9d5a1bdb9fdb5",
            "021ad8fbe216410c8b9729ffee3c524c",
            "71b8b6c2bd4e4cdd9f7d80ea73e1af38",
            "264bb5d9fa1c42e2ab4234af47839982",
            "b7d936ebf6de413b9ce235405f19c266",
            "3bf5019daa8b4080b53a38008289881f",
            "7725dda454e54a11a3ff3bbfdc31f403",
            "2492f1cd5ba04736b2905bb86e843c06"
          ]
        }
      },
      "source": [
        "#your code here\n",
        "yearstext = {}\n",
        "def get_data(id):\n",
        "  urls = url_start1+Later_part+str(id)\n",
        "  pages = requests.get(urls)\n",
        "  if pages.status_code == 200:\n",
        "    return page.text\n",
        "  return None \n",
        "\n",
        "for i in tqdm(range(1992, 2003)):\n",
        "  yearstext[i] = get_data(i)\n",
        "  #print(yearstext[i])\n",
        "  time.sleep(2)"
      ],
      "execution_count": 88,
      "outputs": [
        {
          "output_type": "display_data",
          "data": {
            "application/vnd.jupyter.widget-view+json": {
              "model_id": "1c4320b221b74a1b9aa9d5a1bdb9fdb5",
              "version_minor": 0,
              "version_major": 2
            },
            "text/plain": [
              "HBox(children=(FloatProgress(value=0.0, max=11.0), HTML(value='')))"
            ]
          },
          "metadata": {
            "tags": []
          }
        },
        {
          "output_type": "stream",
          "text": [
            "\n"
          ],
          "name": "stdout"
        }
      ]
    },
    {
      "cell_type": "markdown",
      "metadata": {
        "id": "agIKGBkVlm6G"
      },
      "source": [
        "### 1.3 Parse the data"
      ]
    },
    {
      "cell_type": "code",
      "metadata": {
        "id": "53uAsM7uVvLw"
      },
      "source": [
        "from bs4 import BeautifulSoup\n",
        "from tqdm.notebook import tqdm"
      ],
      "execution_count": 89,
      "outputs": []
    },
    {
      "cell_type": "code",
      "metadata": {
        "id": "HNf7yk2uVFK9",
        "outputId": "3b96696a-243e-4a33-fba4-52672e231ece",
        "colab": {
          "base_uri": "https://localhost:8080/"
        }
      },
      "source": [
        "soup = BeautifulSoup(yearstext[i], 'html.parser')\n",
        "for j in range(0,300):\n",
        "  ranking = soup.find_all('td')[j].contents[0] #attrs={'class': 'firstHeading'})\n",
        "  print(ranking)"
      ],
      "execution_count": 91,
      "outputs": [
        {
          "output_type": "stream",
          "text": [
            "1\n",
            "\"\n",
            "<a href=\"/wiki/Ace_of_Base\" title=\"Ace of Base\">Ace of Base</a>\n",
            "2\n",
            "\"\n",
            "<a href=\"/wiki/All-4-One\" title=\"All-4-One\">All-4-One</a>\n",
            "3\n",
            "\"\n",
            "<a href=\"/wiki/Boyz_II_Men\" title=\"Boyz II Men\">Boyz II Men</a>\n",
            "4\n",
            "\"\n",
            "<a class=\"mw-redirect\" href=\"/wiki/C%C3%A9line_Dion\" title=\"Céline Dion\">Céline Dion</a>\n",
            "5\n",
            "\"\n",
            "<a href=\"/wiki/Mariah_Carey\" title=\"Mariah Carey\">Mariah Carey</a>\n",
            "6\n",
            "\"\n",
            "<a href=\"/wiki/Lisa_Loeb\" title=\"Lisa Loeb\">Lisa Loeb and Nine Stories</a>\n",
            "7\n",
            "\"\n",
            "<a href=\"/wiki/Toni_Braxton\" title=\"Toni Braxton\">Toni Braxton</a>\n",
            "8\n",
            "\"\n",
            "<a href=\"/wiki/Bryan_Adams\" title=\"Bryan Adams\">Bryan Adams</a>\n",
            "9\n",
            "\"\n",
            "<a href=\"/wiki/Ace_of_Base\" title=\"Ace of Base\">Ace of Base</a>\n",
            "10\n",
            "\"\n",
            "<a href=\"/wiki/Ace_of_Base\" title=\"Ace of Base\">Ace of Base</a>\n",
            "11\n",
            "\"\n",
            "<a href=\"/wiki/R._Kelly\" title=\"R. Kelly\">R. Kelly</a>\n",
            "12\n",
            "\"\n",
            "<a href=\"/wiki/Janet_Jackson\" title=\"Janet Jackson\">Janet Jackson</a>\n",
            "13\n",
            "\"\n",
            "<a href=\"/wiki/Madonna\" title=\"Madonna\">Madonna</a>\n",
            "14\n",
            "\"\n",
            "<a class=\"mw-redirect\" href=\"/wiki/Salt-n-Pepa\" title=\"Salt-n-Pepa\">Salt-n-Pepa</a>\n",
            "15\n",
            "\"\n",
            "<a href=\"/wiki/John_Mellencamp\" title=\"John Mellencamp\">John Mellencamp</a>\n",
            "16\n",
            "\"\n",
            "<a href=\"/wiki/Mariah_Carey\" title=\"Mariah Carey\">Mariah Carey</a>\n",
            "17\n",
            "\"\n",
            "<a href=\"/wiki/Toni_Braxton\" title=\"Toni Braxton\">Toni Braxton</a>\n",
            "18\n",
            "\"\n",
            "<a href=\"/wiki/Elton_John\" title=\"Elton John\">Elton John</a>\n",
            "19\n",
            "\"\n",
            "<a href=\"/wiki/Prince_(musician)\" title=\"Prince (musician)\">Prince</a>\n",
            "20\n",
            "\"\n",
            "<a href=\"/wiki/Coolio\" title=\"Coolio\">Coolio</a>\n",
            "21\n",
            "\"\n",
            "<a href=\"/wiki/Big_Mountain_(band)\" title=\"Big Mountain (band)\">Big Mountain</a>\n",
            "22\n",
            "\"\n",
            "<a href=\"/wiki/Warren_G\" title=\"Warren G\">Warren G</a>\n",
            "23\n",
            "\"\n",
            "<a href=\"/wiki/Jon_Secada\" title=\"Jon Secada\">Jon Secada</a>\n",
            "24\n",
            "\"\n",
            "<a href=\"/wiki/Aaliyah\" title=\"Aaliyah\">Aaliyah</a>\n",
            "25\n",
            "\"\n",
            "<a href=\"/wiki/Richard_Marx\" title=\"Richard Marx\">Richard Marx</a>\n",
            "26\n",
            "\"\n",
            "<a href=\"/wiki/Babyface_(musician)\" title=\"Babyface (musician)\">Babyface</a>\n",
            "27\n",
            "\"\n",
            "<a href=\"/wiki/Bryan_Adams\" title=\"Bryan Adams\">Bryan Adams</a>\n",
            "28\n",
            "\"\n",
            "<a href=\"/wiki/All-4-One\" title=\"All-4-One\">All-4-One</a>\n",
            "29\n",
            "\"\n",
            "<a class=\"mw-redirect\" href=\"/wiki/Salt-n-Pepa\" title=\"Salt-n-Pepa\">Salt-n-Pepa</a>\n",
            "30\n",
            "\"\n",
            "<a href=\"/wiki/Janet_Jackson\" title=\"Janet Jackson\">Janet Jackson</a>\n",
            "31\n",
            "\"\n",
            "<a href=\"/wiki/Collective_Soul\" title=\"Collective Soul\">Collective Soul</a>\n",
            "32\n",
            "\"\n",
            "<a href=\"/wiki/Michael_Bolton\" title=\"Michael Bolton\">Michael Bolton</a>\n",
            "33\n",
            "\"\n",
            "<a href=\"/wiki/Enigma_(German_band)\" title=\"Enigma (German band)\">Enigma</a>\n",
            "34\n",
            "\"\n",
            "<a href=\"/wiki/Sheryl_Crow\" title=\"Sheryl Crow\">Sheryl Crow</a>\n",
            "35\n",
            "\"\n",
            "<a href=\"/wiki/Crash_Test_Dummies\" title=\"Crash Test Dummies\">Crash Test Dummies</a>\n",
            "36\n",
            "\"\n",
            "<a href=\"/wiki/Tevin_Campbell\" title=\"Tevin Campbell\">Tevin Campbell</a>\n",
            "37\n",
            "\"\n",
            "<a href=\"/wiki/Da_Brat\" title=\"Da Brat\">Da Brat</a>\n",
            "38\n",
            "\"\n",
            "<a href=\"/wiki/Meat_Loaf\" title=\"Meat Loaf\">Meat Loaf</a>\n",
            "39\n",
            "\"\n",
            "<a class=\"mw-redirect\" href=\"/wiki/DRS_(group)\" title=\"DRS (group)\">DRS</a>\n",
            "40\n",
            "\"\n",
            "<a href=\"/wiki/10,000_Maniacs\" title=\"10,000 Maniacs\">10,000 Maniacs</a>\n",
            "41\n",
            "\"\n",
            "<a href=\"/wiki/Us3\" title=\"Us3\">Us3</a>\n",
            "42\n",
            "\"\n",
            "<a href=\"/wiki/Tag_Team_(group)\" title=\"Tag Team (group)\">Tag Team</a>\n",
            "43\n",
            "\"\n",
            "<a href=\"/wiki/Melissa_Etheridge\" title=\"Melissa Etheridge\">Melissa Etheridge</a>\n",
            "44\n",
            "\"\n",
            "<a href=\"/wiki/Changing_Faces_(group)\" title=\"Changing Faces (group)\">Changing Faces</a>\n",
            "45\n",
            "\"\n",
            "<a href=\"/wiki/Tevin_Campbell\" title=\"Tevin Campbell\">Tevin Campbell</a>\n",
            "46\n",
            "\"\n",
            "<a href=\"/wiki/Crystal_Waters\" title=\"Crystal Waters\">Crystal Waters</a>\n",
            "47\n",
            "\"\n",
            "<a href=\"/wiki/Mariah_Carey\" title=\"Mariah Carey\">Mariah Carey</a>\n",
            "48\n",
            "\"\n",
            "<a href=\"/wiki/Janet_Jackson\" title=\"Janet Jackson\">Janet Jackson</a>\n",
            "49\n",
            "\"\n",
            "<a href=\"/wiki/The_Cranberries\" title=\"The Cranberries\">The Cranberries</a>\n",
            "50\n",
            "\"\n",
            "<a href=\"/wiki/Beck\" title=\"Beck\">Beck</a>\n",
            "51\n",
            "\"\n",
            "<a href=\"/wiki/Gin_Blossoms\" title=\"Gin Blossoms\">Gin Blossoms</a>\n",
            "52\n",
            "\"\n",
            "<a href=\"/wiki/Snoop_Dogg\" title=\"Snoop Dogg\">Snoop Doggy Dogg</a>\n",
            "53\n",
            "\"\n",
            "<a href=\"/wiki/IMx\" title=\"IMx\">Immature</a>\n",
            "54\n",
            "\"\n",
            "<a href=\"/wiki/Bruce_Springsteen\" title=\"Bruce Springsteen\">Bruce Springsteen</a>\n",
            "55\n",
            "\"\n",
            "<a href=\"/wiki/Domino_(rapper)\" title=\"Domino (rapper)\">Domino</a>\n",
            "56\n",
            "\"\n",
            "<a href=\"/wiki/Luther_Vandross\" title=\"Luther Vandross\">Luther Vandross</a>\n",
            "57\n",
            "\"\n",
            "<a class=\"mw-redirect\" href=\"/wiki/Aaron_Hall_(musician)\" title=\"Aaron Hall (musician)\">Aaron Hall</a>\n",
            "58\n",
            "\"\n",
            "<a class=\"mw-redirect\" href=\"/wiki/Xscape_(band)\" title=\"Xscape (band)\">Xscape</a>\n",
            "59\n",
            "\"\n",
            "<a href=\"/wiki/Warren_G\" title=\"Warren G\">Warren G</a>\n",
            "60\n",
            "\"\n",
            "<a href=\"/wiki/Jodeci\" title=\"Jodeci\">Jodeci</a>\n",
            "61\n",
            "\"\n",
            "<a href=\"/wiki/Tupac_Shakur\" title=\"Tupac Shakur\">2Pac</a>\n",
            "62\n",
            "\"\n",
            "<a href=\"/wiki/Snoop_Dogg\" title=\"Snoop Dogg\">Snoop Doggy Dogg</a>\n",
            "63\n",
            "\"\n",
            "<a href=\"/wiki/Real_McCoy_(band)\" title=\"Real McCoy (band)\">Real McCoy</a>\n",
            "64\n",
            "\"\n",
            "<a href=\"/wiki/R._Kelly\" title=\"R. Kelly\">R. Kelly</a>\n",
            "65\n",
            "\"\n",
            "<a href=\"/wiki/69_Boyz\" title=\"69 Boyz\">69 Boyz</a>\n",
            "66\n",
            "\"\n",
            "<a href=\"/wiki/Jimmy_Cliff\" title=\"Jimmy Cliff\">Jimmy Cliff</a>\n",
            "67\n",
            "\"\n",
            "<a href=\"/wiki/Babyface_(musician)\" title=\"Babyface (musician)\">Babyface</a>\n",
            "68\n",
            "\"\n",
            "<a href=\"/wiki/Aerosmith\" title=\"Aerosmith\">Aerosmith</a>\n",
            "69\n",
            "\"\n",
            "<a class=\"mw-redirect\" href=\"/wiki/Xscape_(band)\" title=\"Xscape (band)\">Xscape</a>\n",
            "70\n",
            "\"\n",
            "<a href=\"/wiki/Aaliyah\" title=\"Aaliyah\">Aaliyah</a>\n",
            "71\n",
            "\"\n",
            "<a href=\"/wiki/Meat_Loaf\" title=\"Meat Loaf\">Meat Loaf</a>\n",
            "72\n",
            "\"\n",
            "<a href=\"/wiki/Aerosmith\" title=\"Aerosmith\">Aerosmith</a>\n",
            "73\n",
            "\"\n",
            "<a href=\"/wiki/Erasure\" title=\"Erasure\">Erasure</a>\n",
            "74\n",
            "\"\n",
            "<a href=\"/wiki/Zhan%C3%A9\" title=\"Zhané\">Zhané</a>\n",
            "75\n",
            "\"\n",
            "<a href=\"/wiki/Gabrielle_(singer)\" title=\"Gabrielle (singer)\">Gabrielle</a>\n",
            "76\n",
            "\"\n",
            "<a href=\"/wiki/Culture_Beat\" title=\"Culture Beat\">Culture Beat</a>\n",
            "77\n",
            "\"\n",
            "<a href=\"/wiki/Tom_Petty_and_the_Heartbreakers\" title=\"Tom Petty and the Heartbreakers\">Tom Petty and the Heartbreakers</a>\n",
            "78\n",
            "\"\n",
            "<a href=\"/wiki/SWV\" title=\"SWV\">SWV</a>\n",
            "79\n",
            "\"\n",
            "<a href=\"/wiki/Joshua_Kadison\" title=\"Joshua Kadison\">Joshua Kadison</a>\n",
            "80\n",
            "\"\n",
            "<a class=\"mw-redirect\" href=\"/wiki/Eternal_(band)\" title=\"Eternal (band)\">Eternal</a>\n",
            "81\n",
            "\"\n",
            "<a href=\"/wiki/Craig_Mack\" title=\"Craig Mack\">Craig Mack</a>\n",
            "82\n",
            "\"\n",
            "<a href=\"/wiki/Queen_Latifah\" title=\"Queen Latifah\">Queen Latifah</a>\n",
            "83\n",
            "\"\n",
            "<a href=\"/wiki/Seal_(musician)\" title=\"Seal (musician)\">Seal</a>\n",
            "84\n",
            "\"\n",
            "<a href=\"/wiki/Madonna\" title=\"Madonna\">Madonna</a>\n",
            "85\n",
            "\"\n",
            "<a href=\"/wiki/Ini_Kamoze\" title=\"Ini Kamoze\">Ini Kamoze</a>\n",
            "86\n",
            "\"\n",
            "<a href=\"/wiki/Phil_Collins\" title=\"Phil Collins\">Phil Collins</a>\n",
            "87\n",
            "\"\n",
            "<a href=\"/wiki/Tim_McGraw\" title=\"Tim McGraw\">Tim McGraw</a>\n",
            "88\n",
            "\"Got Me Waiting\"\n",
            "<a href=\"/wiki/Heavy_D\" title=\"Heavy D\">Heavy D &amp; the Boyz</a>\n",
            "89\n",
            "\"\n",
            "<a href=\"/wiki/The_Four_Seasons_(band)\" title=\"The Four Seasons (band)\">The Four Seasons</a>\n",
            "90\n",
            "\"\n",
            "<a href=\"/wiki/Tim_McGraw\" title=\"Tim McGraw\">Tim McGraw</a>\n",
            "91\n",
            "\"\n",
            "<a href=\"/wiki/Bon_Jovi\" title=\"Bon Jovi\">Bon Jovi</a>\n",
            "92\n",
            "\"\n",
            "<a href=\"/wiki/Melissa_Etheridge\" title=\"Melissa Etheridge\">Melissa Etheridge</a>\n",
            "93\n",
            "\"\n",
            "<a href=\"/wiki/Ahmad_(rapper)\" title=\"Ahmad (rapper)\">Ahmad</a>\n",
            "94\n",
            "\"\n",
            "<a href=\"/wiki/Bonnie_Raitt\" title=\"Bonnie Raitt\">Bonnie Raitt</a>\n",
            "95\n",
            "\"\n",
            "<a href=\"/wiki/General_Public\" title=\"General Public\">General Public</a>\n",
            "96\n",
            "\"\n",
            "<a href=\"/wiki/Tevin_Campbell\" title=\"Tevin Campbell\">Tevin Campbell</a>\n",
            "97\n",
            "\"\n",
            "<a href=\"/wiki/Haddaway\" title=\"Haddaway\">Haddaway</a>\n",
            "98\n",
            "\"\n",
            "<a href=\"/wiki/Babyface_(musician)\" title=\"Babyface (musician)\">Babyface</a>\n",
            "99\n",
            "\"\n",
            "<a href=\"/wiki/Ice_Cube\" title=\"Ice Cube\">Ice Cube</a>\n",
            "100\n",
            "\"\n",
            "<a href=\"/wiki/Brandy_Norwood\" title=\"Brandy Norwood\">Brandy</a>\n"
          ],
          "name": "stdout"
        }
      ]
    },
    {
      "cell_type": "code",
      "metadata": {
        "id": "LcsV3EVxSCCK"
      },
      "source": [
        "yearinfo = {}\n",
        "def parse_year(year, yeartextdict):\n",
        "  soup = BeautifulSoup(yeartextdict.text, 'html.parser')\n",
        "  ranking = soup.find"
      ],
      "execution_count": 59,
      "outputs": []
    },
    {
      "cell_type": "markdown",
      "metadata": {
        "id": "WZ_l5dn-lm6K"
      },
      "source": [
        "Now, write a function `parse_year(year, yeartextdict)` that returns a dictionary `yearinfo`.\n",
        "Here `year` should be the integer value of the year, and `yeartextdict` should be the HTML text for the corresponding webpage. \n",
        "This function should return a dictionary of the following form:\n",
        "\n",
        "```\n",
        "{'ranking': 32,\n",
        " 'song': ['Hot Boyz (song)'],\n",
        " 'songurl': ['/wiki/Hot_Boyz_(song)'],\n",
        " 'titletext': '\"Hot Boyz\"',\n",
        " 'band_singer': ['Missy Elliott', 'Nas', 'Eve (rapper)', 'Q-Tip (musician)'],\n",
        " 'url': ['/wiki/Missy_Elliott',\n",
        "  '/wiki/Nas',\n",
        "  '/wiki/Eve_(rapper)',\n",
        "  '/wiki/Q-Tip_(musician)']}\n",
        "```\n",
        "Notice that the `titletext` is the contents of the table cell, and retains the quotes that wikipedia puts on the single.\n",
        "\n",
        "Here are some issues that you will need to take care of:\n",
        "\n",
        "1.   The example shown above has several artists for a single song. In this case, the `band_singer` and `url` would be a list of items.\n",
        "\n",
        "2.   Some singles might even have multiple songs because of the way the industry works:\n",
        "```\n",
        "{'ranking': 98,\n",
        " 'song': [\"You're Makin' Me High\", 'Let It Flow (song)'],\n",
        " 'songurl': ['/wiki/You%27re_Makin%27_Me_High', '/wiki/Let_It_Flow_(song)'],\n",
        " 'titletext': '\"You\\'re Makin\\' Me High\" / \"Let It Flow\"',\n",
        " 'band_singer': ['Toni Braxton'],\n",
        " 'url': ['/wiki/Toni_Braxton']}\n",
        "```\n",
        "(See 1997 for an example)\n",
        "\n",
        "3. Some songs don't have a URL. In this case, assume there is one song in the single, set `songurl` to [`None`] and the song name to the contents of the table cell with the quotes stripped:\n",
        "```\n",
        "{'ranking': 45,\n",
        "  'song': ['Say It'],\n",
        "  'songurl': [None],\n",
        "  'titletext': '\"Say It\"',\n",
        "  'band_singer': ['Voices of Theory'],\n",
        "  'url': ['/wiki/Voices_of_Theory']}\n",
        "```\n",
        "(See 1998 for an example)"
      ]
    },
    {
      "cell_type": "code",
      "metadata": {
        "id": "EXpy7iA0lm6h",
        "jupyter": {
          "outputs_hidden": false
        },
        "scrolled": true,
        "outputId": "10b52736-cc44-4165-e5ff-21ba2af37a6a",
        "colab": {
          "base_uri": "https://localhost:8080/",
          "height": 191
        }
      },
      "source": [
        "\"\"\"\n",
        "Function\n",
        "parse_year(year, yeartextdict):\n",
        "  \n",
        "parse_year\n",
        "\n",
        "Inputs\n",
        "------\n",
        "year: the year you want the singles for\n",
        "ytextdixt: a dictionary with keys as integer years and values the downloaded web pages \n",
        "    from wikipedia for that year.\n",
        "   \n",
        "Returns\n",
        "-------\n",
        "\n",
        "a list of dictionaries, each of which corresponds to a single and has the\n",
        "following data:\n",
        "\n",
        "Eg:\n",
        "\n",
        "{'band_singer': ['Brandy', 'Monica'],\n",
        "  'ranking': 2,\n",
        "  'song': ['The Boy Is Mine'],\n",
        "  'songurl': ['/wiki/The_Boy_Is_Mine_(song)'],\n",
        "  'titletext': '\" The Boy Is Mine \"',\n",
        "  'url': ['/wiki/Brandy_Norwood', '/wiki/Monica_(entertainer)']}\n",
        "  \n",
        "A dictionary with the following data:\n",
        "    band_singer: a list of bands/singers who made this single\n",
        "    song: a list of the titles of songs on this single\n",
        "    songurl: a list of the same size as song which has urls for the songs on the single \n",
        "        (see point 3 above)\n",
        "    ranking: ranking of the single\n",
        "    titletext: the contents of the table cell\n",
        "    band_singer: a list of bands or singers on this single\n",
        "    url: a list of wikipedia singer/band urls on this single: only put in the part \n",
        "        of the url from /wiki onwards\n",
        "    \n",
        "\"\"\"\n",
        "#your code here\n",
        "\n",
        "\n",
        "\n",
        "\n",
        "\n",
        "\n",
        "\n"
      ],
      "execution_count": 50,
      "outputs": [
        {
          "output_type": "execute_result",
          "data": {
            "application/vnd.google.colaboratory.intrinsic+json": {
              "type": "string"
            },
            "text/plain": [
              "'\\nFunction\\nparse_year(year, yeartextdict)\\nparse_year\\n\\nInputs\\n------\\nyear: the year you want the singles for\\nytextdixt: a dictionary with keys as integer years and values the downloaded web pages \\n    from wikipedia for that year.\\n   \\nReturns\\n-------\\n\\na list of dictionaries, each of which corresponds to a single and has the\\nfollowing data:\\n\\nEg:\\n\\n{\\'band_singer\\': [\\'Brandy\\', \\'Monica\\'],\\n  \\'ranking\\': 2,\\n  \\'song\\': [\\'The Boy Is Mine\\'],\\n  \\'songurl\\': [\\'/wiki/The_Boy_Is_Mine_(song)\\'],\\n  \\'titletext\\': \\'\" The Boy Is Mine \"\\',\\n  \\'url\\': [\\'/wiki/Brandy_Norwood\\', \\'/wiki/Monica_(entertainer)\\']}\\n  \\nA dictionary with the following data:\\n    band_singer: a list of bands/singers who made this single\\n    song: a list of the titles of songs on this single\\n    songurl: a list of the same size as song which has urls for the songs on the single \\n        (see point 3 above)\\n    ranking: ranking of the single\\n    titletext: the contents of the table cell\\n    band_singer: a list of bands or singers on this single\\n    url: a list of wikipedia singer/band urls on this single: only put in the part \\n        of the url from /wiki onwards\\n    \\n'"
            ]
          },
          "metadata": {
            "tags": []
          },
          "execution_count": 50
        }
      ]
    },
    {
      "cell_type": "code",
      "metadata": {
        "id": "7OJdGaTrlm6t",
        "jupyter": {
          "outputs_hidden": false
        },
        "scrolled": true
      },
      "source": [
        "#your code here\r\n",
        "#yearinfo = { }"
      ],
      "execution_count": 48,
      "outputs": []
    },
    {
      "cell_type": "markdown",
      "metadata": {
        "id": "044UilQrsU_x"
      },
      "source": [
        "Save this dictionary as a json file so you do not need to run it over and over again."
      ]
    },
    {
      "cell_type": "code",
      "metadata": {
        "id": "yyZCQ0Fmlm60",
        "jupyter": {
          "outputs_hidden": false
        },
        "outputId": "622e5ebc-f56b-4506-f144-03397b058b1f",
        "colab": {
          "base_uri": "https://localhost:8080/",
          "height": 248
        }
      },
      "source": [
        "#Store the dictionary and delete the variable\n",
        "fd = open(\"yearinfo.json\",\"w\")\n",
        "json.dump(yearinfo, fd)\n",
        "fd.close()\n",
        "del yearinfo"
      ],
      "execution_count": 49,
      "outputs": [
        {
          "output_type": "error",
          "ename": "NameError",
          "evalue": "ignored",
          "traceback": [
            "\u001b[0;31m---------------------------------------------------------------------------\u001b[0m",
            "\u001b[0;31mNameError\u001b[0m                                 Traceback (most recent call last)",
            "\u001b[0;32m<ipython-input-49-5f8941943594>\u001b[0m in \u001b[0;36m<module>\u001b[0;34m()\u001b[0m\n\u001b[1;32m      1\u001b[0m \u001b[0;31m#Store the dictionary and delete the variable\u001b[0m\u001b[0;34m\u001b[0m\u001b[0;34m\u001b[0m\u001b[0;34m\u001b[0m\u001b[0m\n\u001b[1;32m      2\u001b[0m \u001b[0mfd\u001b[0m \u001b[0;34m=\u001b[0m \u001b[0mopen\u001b[0m\u001b[0;34m(\u001b[0m\u001b[0;34m\"yearinfo.json\"\u001b[0m\u001b[0;34m,\u001b[0m\u001b[0;34m\"w\"\u001b[0m\u001b[0;34m)\u001b[0m\u001b[0;34m\u001b[0m\u001b[0;34m\u001b[0m\u001b[0m\n\u001b[0;32m----> 3\u001b[0;31m \u001b[0mjson\u001b[0m\u001b[0;34m.\u001b[0m\u001b[0mdump\u001b[0m\u001b[0;34m(\u001b[0m\u001b[0myearinfo\u001b[0m\u001b[0;34m,\u001b[0m \u001b[0mfd\u001b[0m\u001b[0;34m)\u001b[0m\u001b[0;34m\u001b[0m\u001b[0;34m\u001b[0m\u001b[0m\n\u001b[0m\u001b[1;32m      4\u001b[0m \u001b[0mfd\u001b[0m\u001b[0;34m.\u001b[0m\u001b[0mclose\u001b[0m\u001b[0;34m(\u001b[0m\u001b[0;34m)\u001b[0m\u001b[0;34m\u001b[0m\u001b[0;34m\u001b[0m\u001b[0m\n\u001b[1;32m      5\u001b[0m \u001b[0;32mdel\u001b[0m \u001b[0myearinfo\u001b[0m\u001b[0;34m\u001b[0m\u001b[0;34m\u001b[0m\u001b[0m\n",
            "\u001b[0;31mNameError\u001b[0m: name 'yearinfo' is not defined"
          ]
        }
      ]
    },
    {
      "cell_type": "code",
      "metadata": {
        "id": "XOuXxgltlm68",
        "jupyter": {
          "outputs_hidden": false
        },
        "scrolled": true
      },
      "source": [
        "#Load the dictionary back to the same variable\n",
        "with open(\"/content/gdrive/MyDrive/DS-1 /HW-1/yearinfo.json\", \"r\") as fd:\n",
        "    yearinfo = json.load(fd)"
      ],
      "execution_count": null,
      "outputs": []
    },
    {
      "cell_type": "markdown",
      "metadata": {
        "id": "Kd_0dzuslm7B"
      },
      "source": [
        "## Q2: Construct a year-song-singer dataframe \n",
        "#### [20 points]"
      ]
    },
    {
      "cell_type": "markdown",
      "metadata": {
        "id": "ZGDX83Xblm7E"
      },
      "source": [
        "Now, let's construct a dataframe from the dictionary created in the previous section `yearinfo`. \n",
        "Name this dataframe `flatframe`.\n",
        "\n",
        "Keep in mind, in the data structure we have so far, a given key can have a list of values with multiple entries. Also, our data is grouped by year. So we need a way to flatten this data into a format that will create a useful DataFrame. \n",
        "\n",
        "An easy way to do this is to use the pandas `concat` function.\n",
        "\n",
        "Your final dataframe `flatframe` should look something like this:\n",
        "![flatframexample](https://drive.google.com/uc?export=view&id=12hlpB-zRGJh6JYCTcMoTzumKSyXgfoiY)"
      ]
    },
    {
      "cell_type": "code",
      "metadata": {
        "id": "9Tk6XgIslm7I"
      },
      "source": [
        "#your code here \n",
        "\n",
        "\n",
        "\n",
        "\n",
        "\n",
        "\n",
        "\n"
      ],
      "execution_count": null,
      "outputs": []
    },
    {
      "cell_type": "markdown",
      "metadata": {
        "id": "KCPYpq8Ltu72"
      },
      "source": [
        "Check your dataframes data types and convert them to the correct data types if needed. "
      ]
    },
    {
      "cell_type": "code",
      "metadata": {
        "id": "RYnRAOZilm7d",
        "jupyter": {
          "outputs_hidden": false
        },
        "scrolled": true
      },
      "source": [
        "flatframe.dtypes"
      ],
      "execution_count": null,
      "outputs": []
    },
    {
      "cell_type": "code",
      "metadata": {
        "id": "wftoYesOSXL5"
      },
      "source": [
        ""
      ],
      "execution_count": null,
      "outputs": []
    },
    {
      "cell_type": "markdown",
      "metadata": {
        "id": "4nSngWg6WJqM"
      },
      "source": [
        "We use this dataframe in Homework 2, so store this dataframe so you won't need to run this again!\r\n",
        "\r\n",
        "The easiest way is to pickle it using to_pickle:"
      ]
    },
    {
      "cell_type": "code",
      "metadata": {
        "id": "5937BG6tWGph"
      },
      "source": [
        "#Store the dataframe and delete the variable\r\n",
        "flatframe.to_pickle('/content/flatframedf')\r\n",
        "del flatframe"
      ],
      "execution_count": null,
      "outputs": []
    },
    {
      "cell_type": "code",
      "metadata": {
        "id": "fLkQcqmOuFR9"
      },
      "source": [
        "#Loading in the dataframe\r\n",
        "flatframe = pd.read_pickle('/content/flatframedf')\r\n",
        "flatframe.head()"
      ],
      "execution_count": null,
      "outputs": []
    },
    {
      "cell_type": "markdown",
      "metadata": {
        "id": "Fc8dNE4nlm7t"
      },
      "source": [
        "## Q3: Scrape and Parse Wikipedia for Information about Artists and Bands \n",
        "#### [25 points]"
      ]
    },
    {
      "cell_type": "markdown",
      "metadata": {
        "id": "ACpaxf42lm7w"
      },
      "source": [
        "Now, we need to fetch information about the singers or bands for all the songs in a list of years."
      ]
    },
    {
      "cell_type": "markdown",
      "metadata": {
        "id": "EEWBhVhQlm74"
      },
      "source": [
        "### 3.1 Scrape the artist's Wikipedia webpages "
      ]
    },
    {
      "cell_type": "markdown",
      "metadata": {
        "id": "ddXAyi5Vlm77"
      },
      "source": [
        "Since we have hundreds of artists webpages to scrape, we have created a function which implements caching in order to speed up this process.\r\n",
        "\r\n",
        "The cache object `urlcache` that will avoid redundant HTTP requests (e.g. an artist might have multiple singles on a single year, or be on the list over a span of years). Remember that this function is designed to be used in a loop over years, and then a loop over songs per year. Since network requests are relatively slow, if we have already requested for a singer or band's wikipedia page, caching the results is a smart thing to do.\r\n",
        "\r\n",
        "\r\n",
        "\r\n",
        "Notice that we have wrapped the call in _an exception block_. If the request gets an HTTP code different from 200, the cells for that URL will have a value of 1; and if the request completely fails (e.g. no network connection) the cell will have a value of 2. This will allow you to analyse the failed requests."
      ]
    },
    {
      "cell_type": "code",
      "metadata": {
        "id": "xLIr5RLOlm8C",
        "jupyter": {
          "outputs_hidden": false
        },
        "scrolled": true
      },
      "source": [
        "urlcache={}\n",
        "def get_page(url):\n",
        "    if (url not in urlcache) or (urlcache[url]==1) or (urlcache[url]==2):\n",
        "        time.sleep(1)\n",
        "        try:\n",
        "            r = requests.get(\"http://en.wikipedia.org%s\" % url)\n",
        "            if r.status_code == 200:\n",
        "                urlcache[url] = r.text\n",
        "            else:\n",
        "                urlcache[url] = 1\n",
        "        except:\n",
        "            urlcache[url] = 2\n",
        "    return urlcache[url]"
      ],
      "execution_count": null,
      "outputs": []
    },
    {
      "cell_type": "markdown",
      "metadata": {
        "id": "4KvxocZMlm8F"
      },
      "source": [
        "Before we apply our function to the dataframe, let us sort `flatframe` by year. This will ensure that we will hit the cache most as singers who show up repeatedly in the rankings will have their information already pulled."
      ]
    },
    {
      "cell_type": "code",
      "metadata": {
        "id": "slMlUwrXlm8K",
        "jupyter": {
          "outputs_hidden": false
        },
        "scrolled": true
      },
      "source": [
        "flatframe=flatframe.sort_values('year')\n",
        "flatframe.head()"
      ],
      "execution_count": null,
      "outputs": []
    },
    {
      "cell_type": "code",
      "metadata": {
        "collapsed": true,
        "id": "jGHEg1IDlm8O",
        "jupyter": {
          "outputs_hidden": true
        },
        "scrolled": true
      },
      "source": [
        "# Here we are populating the url cache\n",
        "#Note that this function will take around 20 minutes to run as we are requestinf for several pages\n",
        "#This function is designed to be run again and again: it just tries to make sure that there are no unresolved pages left. \n",
        "flatframe[\"url\"].apply(get_page)"
      ],
      "execution_count": null,
      "outputs": []
    },
    {
      "cell_type": "code",
      "metadata": {
        "id": "vtH5ch-Jlm8X",
        "jupyter": {
          "outputs_hidden": false
        },
        "scrolled": true
      },
      "source": [
        "#Let us make sure that there are no unresolved pages\n",
        "#The sum below should be 0, and the boolean True. If that is not the case, run the above cell again until you get a sum of 0 and a boolean True\n",
        "print (np.sum([(urlcache[k]==1) or (urlcache[k]==2) and isinstance(k,str) for k in urlcache]))\n",
        "print (len(flatframe.url.unique())==len(urlcache))#we got all of the urls"
      ],
      "execution_count": null,
      "outputs": []
    },
    {
      "cell_type": "code",
      "metadata": {
        "id": "u-g3mOWrlm8c",
        "jupyter": {
          "outputs_hidden": false
        }
      },
      "source": [
        "#Let's save the `urlcache` and remove the old object. \n",
        "keys_values = urlcache.items()\n",
        "urlcache = {str(key): str(value) for key, value in keys_values}\n",
        "with open(\"artistinfo.json\",\"w\") as fd:\n",
        "    json.dump(urlcache, fd)\n",
        "del urlcache"
      ],
      "execution_count": null,
      "outputs": []
    },
    {
      "cell_type": "code",
      "metadata": {
        "id": "ctcBqdEPlm8f",
        "jupyter": {
          "outputs_hidden": false
        },
        "scrolled": true
      },
      "source": [
        "with open(\"/content/gdrive/MyDrive/DS-1 /HW-1/artistinfo.json\") as json_file:\n",
        "    urlcache = json.load(json_file)"
      ],
      "execution_count": null,
      "outputs": []
    },
    {
      "cell_type": "markdown",
      "metadata": {
        "id": "P_G84LnUlm8p"
      },
      "source": [
        "### 3.2 Parse the data"
      ]
    },
    {
      "cell_type": "markdown",
      "metadata": {
        "id": "urcGynNplm8r"
      },
      "source": [
        "Now, we need to extract the following information from each page. Write a function `singer_band_info(url, page_text)` that returns a dictionary. \n",
        "\n",
        "Here `url` should be the path the url corresponding to the singer's Wikipedia page (same as the previous dataframe `flatframe`), and page_text should be the HTML text for the corresponding artist's webpage. \n",
        "\n",
        "This function should return a dictionary which contains the following information:\n",
        "\n",
        "1. The genres of the band or singer. These genres should be urls, to ensure their uniqueness. Create a list, `genres`, of these urls. If there are no genres, use `['NA']`.\n",
        "\n",
        "2. If the page has the text \"Born\", extract the element with the class `.bday`. If there is no \"Born\", store `False`. Store either of these into the variable `born`. \n",
        "\n",
        "3. If the text \"Years active\" is found, but there is no birthday, assume a band. Store the years active into the variable `ya`, or `False` if the text is not found. \n",
        "\n",
        "The information can be found below the artists image on each such wikipedia page, as the example here shows:\n",
        "\n",
        "\n",
        "![EdSheeran](https://drive.google.com/uc?export=view&id=1NJi2C-Gi5HPziuPxefNcjj5i4-04kuQ-)\n",
        "\n",
        "\n"
      ]
    },
    {
      "cell_type": "markdown",
      "metadata": {
        "id": "cmsucMYj31Ft"
      },
      "source": [
        "The dictionary returned should be of the form:\r\n",
        "```\r\n",
        "{ 'url': '/wiki/Boyz_II_Men', \r\n",
        "'genres': ['/wiki/Contemporary_R%26B_music', '/wiki/Soul_music', '/wiki/New_jack_swing'], \r\n",
        "'born': None, \r\n",
        "'ya': '1987–present'}\r\n",
        "```\r\n",
        "\r\n",
        "Wikipedia has changed it's format along the years! So observing one artist's webpage and building your function based on it will probably give you tons of errors. \r\n",
        "\r\n",
        "Here are a few issues to remember while parsing:\r\n",
        "\r\n",
        "1.   There are several artists that take a sabbatical between their active years (https://en.wikipedia.org/wiki/Tony!_Toni!_Ton%C3%A9!). To get the right data, write a function to calculate the longest period of time they were active and consider that as your variable `years active`. In the example give, this would be 2003–present.\r\n",
        "2.   Birthday's are given in different formats for different pages. For example - https://en.wikipedia.org/wiki/Sir_Mix-a-Lot and https://en.wikipedia.org/wiki/Ed_Sheeran have different formats. To ensure that you get the right day, look for the 'span' tag with a 'bday' tag and ensure that there are no paranthesis around the extracted text.\r\n",
        "3. Year's active are also given in different formats. For example - https://en.wikipedia.org/wiki/Boyz_II_Men and https://en.wikipedia.org/wiki/Ed_Sheeran are different. You could use regex (\"[0-9]{4}[–][0-9]{4}\" and \"[0-9]{4}[–][0-9]{4}\") to ensure you are getting the right years.<br> Report the edge cases found and why the Regex expression takes care of all these edge cases.\r\n",
        "\r\n",
        "Definitely do look at your outputs as you are parsing as it can identify several edge cases you have not considered in your code.\r\n",
        "\r\n",
        "\r\n",
        "\r\n",
        "\r\n"
      ]
    },
    {
      "cell_type": "markdown",
      "metadata": {
        "id": "wepOCDnV2H3p"
      },
      "source": [
        "Before parsing, it is important to note that Wikipedia has defined the same genre in a few different ways. Our parsing code will pick these up as different and new as they all differ with the alphabet case or an underscore instead of a hyphen.\r\n",
        "\r\n",
        "We have defined a function to ensure that we have the correct representation of the number of artists in a particular genre. "
      ]
    },
    {
      "cell_type": "code",
      "metadata": {
        "id": "QTSJHvJF3pxu"
      },
      "source": [
        "genres_duplicates={'/wiki/Adult_Contemporary_music':'/wiki/Adult_contemporary','/wiki/Adult_contemporary_music':'/wiki/Adult_contemporary',\r\n",
        "'/wiki/Afrobeat':'/wiki/Afrobeats',\r\n",
        "'/wiki/Alternative_rock':'/wiki/Alternative_Rock',\r\n",
        "'/wiki/Avant-garde':'/wiki/Avant-garde_music',\r\n",
        "'/wiki/Blues':'/wiki/Blues_music',\r\n",
        "'/wiki/Comedy_hip-hop':'/wiki/Comedy_hip_hop',\r\n",
        "'/wiki/Contemporary_R%26B':'/wiki/Contemporary_R%26B_music',\r\n",
        "'/wiki/Contemporary_folk':'/wiki/Contemporary_folk_music',\r\n",
        "'/wiki/Country_Folk':'/wiki/Country_folk',\r\n",
        "'/wiki/Dance_pop':'/wiki/Dance-pop',\r\n",
        "'/wiki/East_Coast_hip_hop':'/wiki/East_coast_hip_hop',\r\n",
        "'/wiki/Electronic_Dance_Music':'/wiki/Electronic_dance_music',\r\n",
        "'/wiki/Electronica':'/wiki/Electronica_music',\r\n",
        "'/wiki/Emo':'/wiki/Emo_music',\r\n",
        "'/wiki/Electropop':'/wiki/Electro-pop',\r\n",
        "'/wiki/Folk-pop':'/wiki/Folk_pop',\r\n",
        "'/wiki/Funk':'/wiki/Funk_music',\r\n",
        "'/wiki/Grime_(music_genre)':'/wiki/Grime_music',\r\n",
        "'/wiki/Gangsta_Rap':'/wiki/Gangsta_rap',\r\n",
        "'/wiki/Hip_Hop_music': '/wiki/Hip_hop','/wiki/Hip_hop_music':'/wiki/Hip_hop',\r\n",
        "'/wiki/Hyphy':'/wiki/Hyphy_music',\r\n",
        "'/wiki/Latin_music':'/wiki/Latin_music_(genre)',\r\n",
        "'/wiki/West_Coast_hip_hop':'/wiki/West_coast_hip_hop',\r\n",
        "'/wiki/Southern_Hip_Hop':'/wiki/Southern_hip_hop',\r\n",
        "'/wiki/Ska':'/wiki/Ska_music',\r\n",
        "'/wiki/Pop-rock':'/wiki/Pop_rock',\r\n",
        "'/wiki/Pop_Music':'/wiki/Pop_music',\r\n",
        "'/wiki/Nu_metal':'/wiki/Nu_metal_music'}\r\n",
        "\r\n",
        "def genre_duplicates(genres):\r\n",
        "    for i in range(len(genres)):\r\n",
        "        if genres[i] in genres_duplicates.keys():\r\n",
        "            genres[i]=genres_duplicates[genres[i]]\r\n",
        "    return genres "
      ],
      "execution_count": null,
      "outputs": []
    },
    {
      "cell_type": "markdown",
      "metadata": {
        "id": "w955jc_x7oSS"
      },
      "source": [
        "Define a function to calculate the longest active years"
      ]
    },
    {
      "cell_type": "code",
      "metadata": {
        "id": "iCiUaa3t1mdM"
      },
      "source": [
        "#your code here \r\n",
        "\r\n",
        "\r\n",
        "\r\n"
      ],
      "execution_count": null,
      "outputs": []
    },
    {
      "cell_type": "markdown",
      "metadata": {
        "id": "C30IKrh_lm89"
      },
      "source": [
        "Please write the function `singer_band_info` according to the following specification:"
      ]
    },
    {
      "cell_type": "code",
      "metadata": {
        "id": "144RCE17lm9C",
        "jupyter": {
          "outputs_hidden": false
        }
      },
      "source": [
        "\"\"\"\n",
        "Function\n",
        "--------\n",
        "singer_band_info\n",
        "\n",
        "Inputs\n",
        "------\n",
        "url: the url\n",
        "page_text: the text associated with the url\n",
        "   \n",
        "Returns\n",
        "-------\n",
        "A dictionary with the following data:\n",
        "    url: copy the input argument url into this value\n",
        "    genres: the genres that the band or singer works in\n",
        "    born: the artist's birthday\n",
        "    ya: years active variable\n",
        "\n",
        "Notes\n",
        "-----\n",
        "See description above. Also note that some of the genres urls might require a \n",
        "bit of care and special handling.\n",
        "\"\"\"\n",
        "\n",
        "#your code here\n",
        "\n",
        "\n",
        "\n",
        "\n"
      ],
      "execution_count": null,
      "outputs": []
    },
    {
      "cell_type": "markdown",
      "metadata": {
        "id": "O42ei5C9lm9Q"
      },
      "source": [
        "Let's iterate over the items in the singer-group dictionary cache `urlcache`, run the above function, and create a list.\r\n",
        "\r\n",
        "Each element in this list is the dictionary that the function `singer_band_info` returns. \r\n",
        "\r\n",
        "The list should look something like this:\r\n",
        "```\r\n",
        "  'genres': ['/wiki/Contemporary_R%26B_music',\r\n",
        "   '/wiki/Soul_music',\r\n",
        "   '/wiki/New_jack_swing'],\r\n",
        "  'url': '/wiki/Boyz_II_Men',\r\n",
        "  'ya': '1987–present'},\r\n",
        " {'born': None,\r\n",
        "  'genres': ['/wiki/Pop_music',\r\n",
        "   '/wiki/Electronica_music',\r\n",
        "   '/wiki/Dance_music',\r\n",
        "   '/wiki/Rave_music',\r\n",
        "   '/wiki/House_music'],\r\n",
        "  'url': '/wiki/KWS_(band)',\r\n",
        "  'ya': '1991–1994'},\r\n",
        " ... and so on]\r\n",
        "  ```"
      ]
    },
    {
      "cell_type": "code",
      "metadata": {
        "id": "EYZCt97qlm9J",
        "jupyter": {
          "outputs_hidden": false
        },
        "scrolled": true
      },
      "source": [
        "#your code here\n",
        "\n",
        "\n"
      ],
      "execution_count": null,
      "outputs": []
    },
    {
      "cell_type": "code",
      "metadata": {
        "id": "hN0xOthZUsaY"
      },
      "source": [
        "#Store the list and delete the variable\r\n",
        "with open(\"singer_band_info_list.json\",\"w\") as fd:\r\n",
        "    json.dump(singer_band_info_list, fd)\r\n",
        "del singer_band_info_list"
      ],
      "execution_count": null,
      "outputs": []
    },
    {
      "cell_type": "code",
      "metadata": {
        "id": "kze3PT80yvuT"
      },
      "source": [
        "#Load the list into a variable\r\n",
        "with open(\"/content/gdrive/MyDrive/DS-1 /HW-1/singer_band_info.json\") as json_file:\r\n",
        "    singer_band_info_list = json.load(json_file)"
      ],
      "execution_count": null,
      "outputs": []
    },
    {
      "cell_type": "markdown",
      "metadata": {
        "id": "NFBbluyq_xUg"
      },
      "source": [
        "Create a dataframe from the list `singer_band_info_list`."
      ]
    },
    {
      "cell_type": "code",
      "metadata": {
        "id": "l2Jq1tIhlm9X",
        "jupyter": {
          "outputs_hidden": false
        },
        "scrolled": true
      },
      "source": [
        "#your code here\n",
        "\n",
        "\n"
      ],
      "execution_count": null,
      "outputs": []
    },
    {
      "cell_type": "markdown",
      "metadata": {
        "id": "r33k0Rv9lm9M"
      },
      "source": [
        "## Q4: Merging Artist's and Song dataframes\n",
        "#### [15 points]"
      ]
    },
    {
      "cell_type": "markdown",
      "metadata": {
        "id": "qK8nFxMblm9d"
      },
      "source": [
        "Now, merge the artist/song data frames into one large dataframe. Note that this has an effect of imputing to a song **all the genres** that the artist is active in. We know that this is not true, but it is the simplest assumption we can make, and is probably good for most artists. "
      ]
    },
    {
      "cell_type": "code",
      "metadata": {
        "id": "zXmWArJllm9h",
        "jupyter": {
          "outputs_hidden": false
        },
        "scrolled": true
      },
      "source": [
        "#your code here\n",
        "\n",
        "\n"
      ],
      "execution_count": null,
      "outputs": []
    },
    {
      "cell_type": "markdown",
      "metadata": {
        "id": "XWlzfSxelm9y"
      },
      "source": [
        "Update the dataframe by adding a column for each genre with 1-0 encoding for each row. This means, we want columns like \"/wiki/Alternative_Rock\", \"/wiki/Acid_jazz\", where if an artist is in that genre, the dataframe cell has a 1. Otherwise, it has a 0.\n",
        "\n",
        "Remember that an artist/band can be in multiple genres, and must have a 1 for each column corresponding to these genres, and 0 otherwise.\n",
        "\n",
        "This will widen the dataframe by the total number of genres that we have. The expanded part will look a bit like this:\n",
        "\n",
        "![largedfexample](https://drive.google.com/uc?export=view&id=1YgIVsyjWLXIAipI5dF2H4fvAmQodpE8L)\n"
      ]
    },
    {
      "cell_type": "code",
      "metadata": {
        "id": "oh1QgHeTlm92",
        "jupyter": {
          "outputs_hidden": false
        }
      },
      "source": [
        "#your code here\n",
        "\n",
        "\n",
        "\n"
      ],
      "execution_count": null,
      "outputs": []
    },
    {
      "cell_type": "markdown",
      "metadata": {
        "id": "OTAqUUSFTOlg"
      },
      "source": [
        "Ensure the data types of the dataframe is correct"
      ]
    },
    {
      "cell_type": "code",
      "metadata": {
        "id": "BUFfkyyKusfS"
      },
      "source": [
        "#your code here\r\n",
        "\r\n",
        "\r\n"
      ],
      "execution_count": null,
      "outputs": []
    },
    {
      "cell_type": "code",
      "metadata": {
        "id": "9M9HSYg_W-1G"
      },
      "source": [
        "#Store the dataframe to use in HW-2 \r\n",
        "largedf.to_pickle('/content/largedf')\r\n",
        "del largedf"
      ],
      "execution_count": null,
      "outputs": []
    },
    {
      "cell_type": "code",
      "metadata": {
        "id": "VzDU-GJ-BjtJ"
      },
      "source": [
        "#Loading in dataframe\r\n",
        "largedf = pd.read_pickle('/content/gdrive/MyDrive/DS-1 /HW-1/largedf')\r\n",
        "largedf.head()"
      ],
      "execution_count": null,
      "outputs": []
    },
    {
      "cell_type": "markdown",
      "metadata": {
        "id": "v7mvhskZlm-W"
      },
      "source": [
        "## Q5: Pandas and Relational databases\n",
        "#### [20 points]"
      ]
    },
    {
      "cell_type": "markdown",
      "metadata": {
        "id": "EBJ95eXwlm-i"
      },
      "source": [
        "### 5.1 Populating the database"
      ]
    },
    {
      "cell_type": "markdown",
      "metadata": {
        "id": "VTdi6of6lm-n"
      },
      "source": [
        "We use sqlite3 here. There is an even higher level API available, called SQLAlchemy.  However SQLite is built into Python and also has a command line tool and sqlite browser that you can install. "
      ]
    },
    {
      "cell_type": "code",
      "metadata": {
        "id": "jA6D06EwFiqF"
      },
      "source": [
        "import sqlite3 as sql"
      ],
      "execution_count": null,
      "outputs": []
    },
    {
      "cell_type": "markdown",
      "metadata": {
        "id": "KMIIU4Q8FmkE"
      },
      "source": [
        "Let us start by creating our schema to set the type of each column in our dataframe."
      ]
    },
    {
      "cell_type": "code",
      "metadata": {
        "id": "EaU9NgFxKdL3"
      },
      "source": [
        "#your code here \r\n",
        "#ourschema=' '"
      ],
      "execution_count": null,
      "outputs": []
    },
    {
      "cell_type": "markdown",
      "metadata": {
        "id": "MNaaiKo4FKvi"
      },
      "source": [
        "Next, create a connection object which will connect us to the database and will let us execute the SQL statements. \r\n",
        "Create an object of the cursor using the connection object and execute our schema. \r\n",
        "Finally, use the `to_sql` function and convert our large expanded dataframe from the last section to a table."
      ]
    },
    {
      "cell_type": "code",
      "metadata": {
        "id": "qLOXLo2VHS52"
      },
      "source": [
        "#your code here\r\n",
        "\r\n",
        "\r\n"
      ],
      "execution_count": null,
      "outputs": []
    },
    {
      "cell_type": "markdown",
      "metadata": {
        "id": "lg-gMIZTlm_B"
      },
      "source": [
        "### 5.2 Performing operations on the database"
      ]
    },
    {
      "cell_type": "markdown",
      "metadata": {
        "id": "Ddf94jAUOjJf"
      },
      "source": [
        "Answer the following questions by writing SQL statements."
      ]
    },
    {
      "cell_type": "markdown",
      "metadata": {
        "id": "9ptRH0PRHq10"
      },
      "source": [
        "#### 5.2.1 Select all singers below the age of 20 whos Zodiac Sign is Scorpio! "
      ]
    },
    {
      "cell_type": "code",
      "metadata": {
        "id": "YyuqKAuAF5ZQ"
      },
      "source": [
        "#your code here\r\n",
        "\r\n",
        "\r\n"
      ],
      "execution_count": null,
      "outputs": []
    },
    {
      "cell_type": "markdown",
      "metadata": {
        "id": "vkU3G3UDH6yn"
      },
      "source": [
        "#### 5.2.2 Find the most popular artists with most appearances in Billboard Top 10"
      ]
    },
    {
      "cell_type": "code",
      "metadata": {
        "id": "Dh74afqzGjXb"
      },
      "source": [
        "#your code here\r\n",
        "\r\n",
        "\r\n"
      ],
      "execution_count": null,
      "outputs": []
    },
    {
      "cell_type": "markdown",
      "metadata": {
        "id": "bhy0LnUiIIjE"
      },
      "source": [
        "#### 5.2.3 Select all songs with ranking less than 6 and order the rows by artist name"
      ]
    },
    {
      "cell_type": "code",
      "metadata": {
        "id": "_MolYEOfIHTZ"
      },
      "source": [
        "#your code here \r\n",
        "\r\n",
        "\r\n"
      ],
      "execution_count": null,
      "outputs": []
    },
    {
      "cell_type": "code",
      "metadata": {
        "id": "LD8PC24kNbVI"
      },
      "source": [
        ""
      ],
      "execution_count": null,
      "outputs": []
    }
  ]
}